{
  "nbformat": 4,
  "nbformat_minor": 0,
  "metadata": {
    "colab": {
      "name": "Original ResNet50.ipynb",
      "provenance": [],
      "collapsed_sections": [],
      "toc_visible": true,
      "mount_file_id": "175HOTBlyi1jrcOhDolPODA3Wm8pPlkqk",
      "authorship_tag": "ABX9TyMM+L6E2jJcyPtRZk0u9gAf",
      "include_colab_link": true
    },
    "kernelspec": {
      "name": "python3",
      "display_name": "Python 3"
    },
    "accelerator": "GPU"
  },
  "cells": [
    {
      "cell_type": "markdown",
      "metadata": {
        "id": "view-in-github",
        "colab_type": "text"
      },
      "source": [
        "<a href=\"https://colab.research.google.com/github/makezazainw/newresultsproject/blob/main/Original_ResNet50.ipynb\" target=\"_parent\"><img src=\"https://colab.research.google.com/assets/colab-badge.svg\" alt=\"Open In Colab\"/></a>"
      ]
    },
    {
      "cell_type": "markdown",
      "metadata": {
        "id": "mew3lwAMaXDH"
      },
      "source": [
        "### **ติดตั้ง Kaggle เเละ เรียกใช้ไฟล์ json เพื่อติดต่อใช้ dataset ใน kaggle**"
      ]
    },
    {
      "cell_type": "code",
      "metadata": {
        "id": "Y5m_qIXOabnO",
        "colab": {
          "base_uri": "https://localhost:8080/"
        },
        "outputId": "fc619d6c-fbbe-41e6-f048-550ecdf99148"
      },
      "source": [
        "# Install Kaggle API\n",
        "!pip install -q kaggle\n",
        "!pip install -q kaggle-cli"
      ],
      "execution_count": 1,
      "outputs": [
        {
          "output_type": "stream",
          "text": [
            "\u001b[K     |████████████████████████████████| 81kB 6.2MB/s \n",
            "\u001b[K     |████████████████████████████████| 5.3MB 12.2MB/s \n",
            "\u001b[K     |████████████████████████████████| 133kB 44.0MB/s \n",
            "\u001b[K     |████████████████████████████████| 112kB 34.7MB/s \n",
            "\u001b[K     |████████████████████████████████| 51kB 6.6MB/s \n",
            "\u001b[?25h  Building wheel for kaggle-cli (setup.py) ... \u001b[?25l\u001b[?25hdone\n",
            "  Building wheel for PrettyTable (setup.py) ... \u001b[?25l\u001b[?25hdone\n",
            "  Building wheel for pyperclip (setup.py) ... \u001b[?25l\u001b[?25hdone\n"
          ],
          "name": "stdout"
        }
      ]
    },
    {
      "cell_type": "code",
      "metadata": {
        "id": "a_kkUe3valvy"
      },
      "source": [
        "# only for google colab\n",
        "import os\n",
        "os.environ['KAGGLE_USERNAME'] = \"thammatattantipitham\" \n",
        "os.environ['KAGGLE_KEY'] = \"3cf826ab97707228fb1602519992740b\""
      ],
      "execution_count": 2,
      "outputs": []
    },
    {
      "cell_type": "code",
      "metadata": {
        "id": "jtsvYa8manW1",
        "colab": {
          "base_uri": "https://localhost:8080/"
        },
        "outputId": "6c07f2c3-9d5c-45fc-e018-f1a67f6bbb6d"
      },
      "source": [
        "!kaggle datasets download -d thammatattantipitham/thaiherb --unzip"
      ],
      "execution_count": 3,
      "outputs": [
        {
          "output_type": "stream",
          "text": [
            "Downloading thaiherb.zip to /content\n",
            " 79% 29.0M/36.8M [00:01<00:00, 11.9MB/s]\n",
            "100% 36.8M/36.8M [00:01<00:00, 25.4MB/s]\n"
          ],
          "name": "stdout"
        }
      ]
    },
    {
      "cell_type": "code",
      "metadata": {
        "id": "Ihulub6paq8a"
      },
      "source": [
        "#สร้างไฟล์ folder ขึ้นมาเเละเพิ่มข้อมูลเข้าไปใน folder\n",
        "!mkdir thaiherb\n",
        "!mv  \"train\" \"val\" thaiherb"
      ],
      "execution_count": 4,
      "outputs": []
    },
    {
      "cell_type": "markdown",
      "metadata": {
        "id": "yUU4GFLxa2pv"
      },
      "source": [
        "### **เริ่มต้นการ import library ต่างๆเเละการเรียกใช้ไฟล์**\n"
      ]
    },
    {
      "cell_type": "code",
      "metadata": {
        "id": "08sp2eppa_-2",
        "colab": {
          "base_uri": "https://localhost:8080/",
          "height": 35
        },
        "outputId": "8b0dfc07-ea5a-4873-ebbf-4cd3e0adcb77"
      },
      "source": [
        "import sys\n",
        "import time\n",
        "import cv2\n",
        "import numpy as np\n",
        "from matplotlib import pyplot as plt\n",
        "import tensorflow as tf\n",
        "import os\n",
        "import keras\n",
        "\n",
        "from skimage.transform import resize\n",
        "from sklearn.model_selection import train_test_split\n",
        "\n",
        "from tensorflow.python.keras.utils import np_utils\n",
        "from tensorflow.python.keras.models import Sequential, Model\n",
        "from tensorflow.python.keras.layers import Dense, Dropout, Flatten, Activation, BatchNormalization\n",
        "from tensorflow.python.keras.layers.convolutional import Conv2D, MaxPooling2D, AveragePooling2D\n",
        "from tensorflow.python.keras.preprocessing.image import ImageDataGenerator\n",
        "from tensorflow.python.keras.optimizers import RMSprop\n",
        "from tensorflow.python.keras.applications.vgg19 import VGG19\n",
        "from tensorflow.python.keras.applications.mobilenet import MobileNet\n",
        "from tensorflow.keras.applications.resnet50 import ResNet50, preprocess_input\n",
        "from tensorflow.keras.optimizers import Adam\n",
        "from keras.applications import InceptionV3\n",
        "sys.version"
      ],
      "execution_count": 5,
      "outputs": [
        {
          "output_type": "execute_result",
          "data": {
            "application/vnd.google.colaboratory.intrinsic+json": {
              "type": "string"
            },
            "text/plain": [
              "'3.6.9 (default, Oct  8 2020, 12:12:24) \\n[GCC 8.4.0]'"
            ]
          },
          "metadata": {
            "tags": []
          },
          "execution_count": 5
        }
      ]
    },
    {
      "cell_type": "code",
      "metadata": {
        "id": "SM_5RRq_bAAp",
        "colab": {
          "base_uri": "https://localhost:8080/"
        },
        "outputId": "b9c17a4d-cde4-449e-d3e4-873d72925657"
      },
      "source": [
        "from tensorflow.compat.v1.keras.backend import set_session\n",
        "\n",
        "config = tf.compat.v1.ConfigProto()\n",
        "\n",
        "config.gpu_options.allow_growth = True  # dynamically grow the memory used on the GPU\n",
        "\n",
        "config.log_device_placement = True  # to log device placement (on which device the operation ran)\n",
        "\n",
        "sess = tf.compat.v1.Session(config=config)\n",
        "\n",
        "set_session(sess)"
      ],
      "execution_count": 6,
      "outputs": [
        {
          "output_type": "stream",
          "text": [
            "Device mapping:\n",
            "/job:localhost/replica:0/task:0/device:XLA_CPU:0 -> device: XLA_CPU device\n",
            "/job:localhost/replica:0/task:0/device:XLA_GPU:0 -> device: XLA_GPU device\n",
            "/job:localhost/replica:0/task:0/device:GPU:0 -> device: 0, name: Tesla P100-PCIE-16GB, pci bus id: 0000:00:04.0, compute capability: 6.0\n",
            "\n"
          ],
          "name": "stdout"
        }
      ]
    },
    {
      "cell_type": "code",
      "metadata": {
        "id": "9vm7Vog_bEAP"
      },
      "source": [
        "DATASET_PATH  = 'thaiherb/'\n",
        "IMAGE_SIZE    = (224, 224)\n",
        "NUM_CLASSES   = 10\n",
        "BATCH_SIZE    = 32  # try reducing batch size or freeze more layers if your GPU runs out of memory\n",
        "epochs    = 50"
      ],
      "execution_count": 7,
      "outputs": []
    },
    {
      "cell_type": "code",
      "metadata": {
        "id": "PNu6CAPDbECl"
      },
      "source": [
        "#ทำ aug มาเเล้ว\n",
        "train_datagen = ImageDataGenerator(preprocessing_function=preprocess_input)"
      ],
      "execution_count": 8,
      "outputs": []
    },
    {
      "cell_type": "code",
      "metadata": {
        "id": "jDKsFAH_bEE1",
        "colab": {
          "base_uri": "https://localhost:8080/"
        },
        "outputId": "0e8e314f-be37-4143-8675-67e49af1b7c9"
      },
      "source": [
        "#set training data\n",
        "train_generator = train_datagen.flow_from_directory(DATASET_PATH+ r\"train/\",\n",
        "                                                    target_size = IMAGE_SIZE,\n",
        "                                                    batch_size = BATCH_SIZE,\n",
        "                                                    class_mode='categorical',\n",
        "                                                    shuffle = True,\n",
        "                                                    subset='training')"
      ],
      "execution_count": 9,
      "outputs": [
        {
          "output_type": "stream",
          "text": [
            "Found 825 images belonging to 10 classes.\n"
          ],
          "name": "stdout"
        }
      ]
    },
    {
      "cell_type": "code",
      "metadata": {
        "id": "w1nB7VakbG_d",
        "colab": {
          "base_uri": "https://localhost:8080/"
        },
        "outputId": "1afae849-bf3d-4911-e155-363a3f50976a"
      },
      "source": [
        "valid_datagen = ImageDataGenerator(preprocessing_function=preprocess_input)\n",
        "valid_generator = valid_datagen.flow_from_directory(DATASET_PATH+ r\"val/\",                                      \n",
        "                                                    target_size = IMAGE_SIZE,\n",
        "                                                    batch_size = 1,\n",
        "                                                    class_mode='categorical',\n",
        "                                                    shuffle = True\n",
        "                                                    )"
      ],
      "execution_count": 10,
      "outputs": [
        {
          "output_type": "stream",
          "text": [
            "Found 359 images belonging to 10 classes.\n"
          ],
          "name": "stdout"
        }
      ]
    },
    {
      "cell_type": "markdown",
      "metadata": {
        "id": "5H1qvuqFbNM6"
      },
      "source": [
        "### **Model ResNet50**"
      ]
    },
    {
      "cell_type": "code",
      "metadata": {
        "id": "T9TaFF44bHBy",
        "colab": {
          "base_uri": "https://localhost:8080/"
        },
        "outputId": "c03dd330-1af7-4f92-bd45-bdca98fd077b"
      },
      "source": [
        "# Include the epoch in the file name (uses `str.format`)\n",
        "checkpoint_path = \"training_ResNet50/cp-{epoch:04d}.ckpt\"\n",
        "checkpoint_dir = os.path.dirname(checkpoint_path)\n",
        "FREEZE_LAYERS = 2\n",
        "# Create a callback that saves the model's weights every 5 epochs\n",
        "cp_callback = tf.keras.callbacks.ModelCheckpoint(\n",
        "    filepath=checkpoint_path, \n",
        "    verbose=1, \n",
        "    save_weights_only=True,\n",
        "    period=10)\n",
        "\n",
        "#Create the model\n",
        "base_model_resnet = ResNet50(include_top=False,weights='imagenet', input_tensor=None, input_shape=(IMAGE_SIZE[0],IMAGE_SIZE[1],3))\n",
        "x = base_model_resnet.output\n",
        "x = Flatten()(x)\n",
        "x = Dropout(0.5)(x)\n",
        "output_layer = Dense(NUM_CLASSES, activation='softmax', name='softmax')(x)\n",
        "model_resnet = Model(inputs=base_model_resnet.input, outputs=output_layer)\n",
        "for layer in model_resnet.layers[:FREEZE_LAYERS]:\n",
        "    layer.trainable = False\n",
        "for layer in model_resnet.layers[FREEZE_LAYERS:]:\n",
        "    layer.trainable = True\n",
        "#Defining and Adding layers\n",
        "model_resnet= Sequential()\n",
        "#Add the Dense layers along with activation and batch normalization\n",
        "model_resnet.add(base_model_resnet)\n",
        "model_resnet.add(Flatten())\n",
        "\n",
        "#Add the Dense layers along with activation and batch normalization\n",
        "model_resnet.add(Dense(1024,activation=('relu'),input_dim=64))\n",
        "model_resnet.add(Dense(512,activation=('relu'))) \n",
        "model_resnet.add(Dropout(.4))\n",
        "model_resnet.add(Dense(256,activation=('relu'))) \n",
        "model_resnet.add(Dropout(.3))#Adding a dropout layer that will randomly drop 30% of the weights\n",
        "model_resnet.add(Dense(128,activation=('relu')))\n",
        "model_resnet.add(Dropout(.2))\n",
        "model_resnet.add(Dense(NUM_CLASSES,activation=('softmax'))) #This is the classification layer\n",
        "\n",
        "# Save the weights using the `checkpoint_path` format\n",
        "model_resnet.save_weights(checkpoint_path.format(epoch=0))"
      ],
      "execution_count": 11,
      "outputs": [
        {
          "output_type": "stream",
          "text": [
            "WARNING:tensorflow:`period` argument is deprecated. Please use `save_freq` to specify the frequency in number of batches seen.\n",
            "Downloading data from https://storage.googleapis.com/tensorflow/keras-applications/resnet/resnet50_weights_tf_dim_ordering_tf_kernels_notop.h5\n",
            "94773248/94765736 [==============================] - 4s 0us/step\n"
          ],
          "name": "stdout"
        }
      ]
    },
    {
      "cell_type": "code",
      "metadata": {
        "id": "TnKEGJjKbHEL",
        "colab": {
          "base_uri": "https://localhost:8080/"
        },
        "outputId": "e6b6281f-4943-4177-ccfe-e96bf04a3371"
      },
      "source": [
        "#Model summary\n",
        "model_resnet.summary()"
      ],
      "execution_count": 12,
      "outputs": [
        {
          "output_type": "stream",
          "text": [
            "Model: \"sequential\"\n",
            "_________________________________________________________________\n",
            "Layer (type)                 Output Shape              Param #   \n",
            "=================================================================\n",
            "resnet50 (Functional)        (None, 7, 7, 2048)        23587712  \n",
            "_________________________________________________________________\n",
            "flatten_1 (Flatten)          (None, 100352)            0         \n",
            "_________________________________________________________________\n",
            "dense (Dense)                (None, 1024)              102761472 \n",
            "_________________________________________________________________\n",
            "dense_1 (Dense)              (None, 512)               524800    \n",
            "_________________________________________________________________\n",
            "dropout_1 (Dropout)          (None, 512)               0         \n",
            "_________________________________________________________________\n",
            "dense_2 (Dense)              (None, 256)               131328    \n",
            "_________________________________________________________________\n",
            "dropout_2 (Dropout)          (None, 256)               0         \n",
            "_________________________________________________________________\n",
            "dense_3 (Dense)              (None, 128)               32896     \n",
            "_________________________________________________________________\n",
            "dropout_3 (Dropout)          (None, 128)               0         \n",
            "_________________________________________________________________\n",
            "dense_4 (Dense)              (None, 10)                1290      \n",
            "=================================================================\n",
            "Total params: 127,039,498\n",
            "Trainable params: 126,986,378\n",
            "Non-trainable params: 53,120\n",
            "_________________________________________________________________\n"
          ],
          "name": "stdout"
        }
      ]
    },
    {
      "cell_type": "code",
      "metadata": {
        "id": "HqpePAyfbHGf"
      },
      "source": [
        "model_resnet.compile(optimizer=Adam(lr=0.0001),  #Adam(lr=1e-5)\n",
        "                  loss='categorical_crossentropy', metrics=['accuracy'])"
      ],
      "execution_count": 13,
      "outputs": []
    },
    {
      "cell_type": "code",
      "metadata": {
        "id": "WHTNB_RRbHIX",
        "colab": {
          "base_uri": "https://localhost:8080/"
        },
        "outputId": "f834fec0-ae67-4526-b340-4528cfd5d0ec"
      },
      "source": [
        "#start to train the model\n",
        "start = time.time()\n",
        "history = model_resnet.fit_generator(generator=train_generator, epochs=epochs, steps_per_epoch=train_generator.samples/train_generator.batch_size, validation_data=valid_generator,validation_steps=valid_generator.samples/valid_generator.batch_size,callbacks=[cp_callback],verbose=1)\n",
        "\n",
        "end = time.time()\n",
        "duration = end - start\n",
        "print ('\\n model_ResNet50 took %0.2f seconds (%0.1f minutes) to train for %d epochs'%(duration, duration/60, epochs) )"
      ],
      "execution_count": 14,
      "outputs": [
        {
          "output_type": "stream",
          "text": [
            "WARNING:tensorflow:From <ipython-input-14-a8b100d25ec6>:3: Model.fit_generator (from tensorflow.python.keras.engine.training) is deprecated and will be removed in a future version.\n",
            "Instructions for updating:\n",
            "Please use Model.fit, which supports generators.\n",
            "Epoch 1/50\n",
            "26/25 [==============================] - 11s 435ms/step - loss: 1.9597 - accuracy: 0.3927 - val_loss: 0.8358 - val_accuracy: 0.7382\n",
            "Epoch 2/50\n",
            "26/25 [==============================] - 9s 364ms/step - loss: 0.7063 - accuracy: 0.7806 - val_loss: 0.2549 - val_accuracy: 0.9081\n",
            "Epoch 3/50\n",
            "26/25 [==============================] - 10s 365ms/step - loss: 0.2977 - accuracy: 0.8982 - val_loss: 0.1199 - val_accuracy: 0.9638\n",
            "Epoch 4/50\n",
            "26/25 [==============================] - 10s 365ms/step - loss: 0.1229 - accuracy: 0.9612 - val_loss: 0.1588 - val_accuracy: 0.9582\n",
            "Epoch 5/50\n",
            "26/25 [==============================] - 9s 365ms/step - loss: 0.0842 - accuracy: 0.9721 - val_loss: 0.0615 - val_accuracy: 0.9833\n",
            "Epoch 6/50\n",
            "26/25 [==============================] - 10s 366ms/step - loss: 0.0588 - accuracy: 0.9794 - val_loss: 0.0403 - val_accuracy: 0.9889\n",
            "Epoch 7/50\n",
            "26/25 [==============================] - 10s 367ms/step - loss: 0.0662 - accuracy: 0.9830 - val_loss: 0.0258 - val_accuracy: 0.9944\n",
            "Epoch 8/50\n",
            "26/25 [==============================] - 9s 364ms/step - loss: 0.0851 - accuracy: 0.9806 - val_loss: 0.0180 - val_accuracy: 0.9916\n",
            "Epoch 9/50\n",
            "26/25 [==============================] - 9s 365ms/step - loss: 0.0581 - accuracy: 0.9794 - val_loss: 0.0166 - val_accuracy: 0.9916\n",
            "Epoch 10/50\n",
            "26/25 [==============================] - ETA: 0s - loss: 0.0220 - accuracy: 0.9939\n",
            "Epoch 00010: saving model to training_ResNet50/cp-0010.ckpt\n",
            "26/25 [==============================] - 20s 762ms/step - loss: 0.0220 - accuracy: 0.9939 - val_loss: 0.0122 - val_accuracy: 0.9972\n",
            "Epoch 11/50\n",
            "26/25 [==============================] - 10s 366ms/step - loss: 0.0206 - accuracy: 0.9915 - val_loss: 0.0209 - val_accuracy: 0.9916\n",
            "Epoch 12/50\n",
            "26/25 [==============================] - 10s 366ms/step - loss: 0.0231 - accuracy: 0.9939 - val_loss: 0.0212 - val_accuracy: 0.9944\n",
            "Epoch 13/50\n",
            "26/25 [==============================] - 10s 366ms/step - loss: 0.0627 - accuracy: 0.9891 - val_loss: 0.0087 - val_accuracy: 0.9972\n",
            "Epoch 14/50\n",
            "26/25 [==============================] - 10s 367ms/step - loss: 0.0214 - accuracy: 0.9915 - val_loss: 0.0607 - val_accuracy: 0.9916\n",
            "Epoch 15/50\n",
            "26/25 [==============================] - 9s 365ms/step - loss: 0.0231 - accuracy: 0.9927 - val_loss: 0.0634 - val_accuracy: 0.9916\n",
            "Epoch 16/50\n",
            "26/25 [==============================] - 9s 365ms/step - loss: 0.0352 - accuracy: 0.9891 - val_loss: 0.0191 - val_accuracy: 0.9916\n",
            "Epoch 17/50\n",
            "26/25 [==============================] - 9s 364ms/step - loss: 0.0290 - accuracy: 0.9915 - val_loss: 0.0222 - val_accuracy: 0.9944\n",
            "Epoch 18/50\n",
            "26/25 [==============================] - 9s 365ms/step - loss: 0.0262 - accuracy: 0.9927 - val_loss: 0.0248 - val_accuracy: 0.9944\n",
            "Epoch 19/50\n",
            "26/25 [==============================] - 9s 364ms/step - loss: 0.0491 - accuracy: 0.9915 - val_loss: 0.0091 - val_accuracy: 0.9972\n",
            "Epoch 20/50\n",
            "26/25 [==============================] - ETA: 0s - loss: 0.0164 - accuracy: 0.9952\n",
            "Epoch 00020: saving model to training_ResNet50/cp-0020.ckpt\n",
            "26/25 [==============================] - 20s 751ms/step - loss: 0.0164 - accuracy: 0.9952 - val_loss: 0.0095 - val_accuracy: 0.9944\n",
            "Epoch 21/50\n",
            "26/25 [==============================] - 9s 364ms/step - loss: 0.0164 - accuracy: 0.9952 - val_loss: 0.0223 - val_accuracy: 0.9944\n",
            "Epoch 22/50\n",
            "26/25 [==============================] - 9s 361ms/step - loss: 0.0350 - accuracy: 0.9891 - val_loss: 0.0876 - val_accuracy: 0.9889\n",
            "Epoch 23/50\n",
            "26/25 [==============================] - 9s 361ms/step - loss: 0.0438 - accuracy: 0.9867 - val_loss: 0.0960 - val_accuracy: 0.9861\n",
            "Epoch 24/50\n",
            "26/25 [==============================] - 9s 364ms/step - loss: 0.0571 - accuracy: 0.9879 - val_loss: 0.0181 - val_accuracy: 0.9916\n",
            "Epoch 25/50\n",
            "26/25 [==============================] - 9s 364ms/step - loss: 0.0168 - accuracy: 0.9915 - val_loss: 0.0023 - val_accuracy: 1.0000\n",
            "Epoch 26/50\n",
            "26/25 [==============================] - 9s 360ms/step - loss: 0.0079 - accuracy: 0.9964 - val_loss: 0.0064 - val_accuracy: 0.9944\n",
            "Epoch 27/50\n",
            "26/25 [==============================] - 9s 362ms/step - loss: 0.0129 - accuracy: 0.9964 - val_loss: 2.3081e-04 - val_accuracy: 1.0000\n",
            "Epoch 28/50\n",
            "26/25 [==============================] - 9s 362ms/step - loss: 0.0215 - accuracy: 0.9939 - val_loss: 2.2391e-04 - val_accuracy: 1.0000\n",
            "Epoch 29/50\n",
            "26/25 [==============================] - 9s 362ms/step - loss: 0.0138 - accuracy: 0.9976 - val_loss: 3.6479e-04 - val_accuracy: 1.0000\n",
            "Epoch 30/50\n",
            "26/25 [==============================] - ETA: 0s - loss: 0.0535 - accuracy: 0.9915\n",
            "Epoch 00030: saving model to training_ResNet50/cp-0030.ckpt\n",
            "26/25 [==============================] - 16s 601ms/step - loss: 0.0535 - accuracy: 0.9915 - val_loss: 0.0045 - val_accuracy: 0.9972\n",
            "Epoch 31/50\n",
            "26/25 [==============================] - 10s 369ms/step - loss: 0.0108 - accuracy: 0.9952 - val_loss: 7.7770e-04 - val_accuracy: 1.0000\n",
            "Epoch 32/50\n",
            "26/25 [==============================] - 10s 366ms/step - loss: 0.0160 - accuracy: 0.9927 - val_loss: 3.1397e-05 - val_accuracy: 1.0000\n",
            "Epoch 33/50\n",
            "26/25 [==============================] - 10s 367ms/step - loss: 0.0286 - accuracy: 0.9952 - val_loss: 4.2132e-05 - val_accuracy: 1.0000\n",
            "Epoch 34/50\n",
            "26/25 [==============================] - 10s 367ms/step - loss: 0.0067 - accuracy: 0.9976 - val_loss: 0.2151 - val_accuracy: 0.9889\n",
            "Epoch 35/50\n",
            "26/25 [==============================] - 10s 367ms/step - loss: 0.0718 - accuracy: 0.9915 - val_loss: 0.0174 - val_accuracy: 0.9944\n",
            "Epoch 36/50\n",
            "26/25 [==============================] - 9s 365ms/step - loss: 0.0229 - accuracy: 0.9939 - val_loss: 0.0162 - val_accuracy: 0.9944\n",
            "Epoch 37/50\n",
            "26/25 [==============================] - 9s 365ms/step - loss: 0.2058 - accuracy: 0.9806 - val_loss: 0.9089 - val_accuracy: 0.8886\n",
            "Epoch 38/50\n",
            "26/25 [==============================] - 10s 366ms/step - loss: 0.1149 - accuracy: 0.9806 - val_loss: 0.3118 - val_accuracy: 0.9582\n",
            "Epoch 39/50\n",
            "26/25 [==============================] - 10s 366ms/step - loss: 0.1421 - accuracy: 0.9733 - val_loss: 1.4152 - val_accuracy: 0.9025\n",
            "Epoch 40/50\n",
            "26/25 [==============================] - ETA: 0s - loss: 0.0405 - accuracy: 0.9927\n",
            "Epoch 00040: saving model to training_ResNet50/cp-0040.ckpt\n",
            "26/25 [==============================] - 19s 738ms/step - loss: 0.0405 - accuracy: 0.9927 - val_loss: 0.6058 - val_accuracy: 0.9192\n",
            "Epoch 41/50\n",
            "26/25 [==============================] - 10s 369ms/step - loss: 0.0142 - accuracy: 0.9939 - val_loss: 0.1459 - val_accuracy: 0.9749\n",
            "Epoch 42/50\n",
            "26/25 [==============================] - 10s 367ms/step - loss: 0.0138 - accuracy: 0.9976 - val_loss: 0.0327 - val_accuracy: 0.9889\n",
            "Epoch 43/50\n",
            "26/25 [==============================] - 10s 370ms/step - loss: 0.0062 - accuracy: 0.9976 - val_loss: 0.0288 - val_accuracy: 0.9916\n",
            "Epoch 44/50\n",
            "26/25 [==============================] - 10s 369ms/step - loss: 0.0231 - accuracy: 0.9952 - val_loss: 0.0549 - val_accuracy: 0.9805\n",
            "Epoch 45/50\n",
            "26/25 [==============================] - 10s 367ms/step - loss: 0.0249 - accuracy: 0.9927 - val_loss: 0.1532 - val_accuracy: 0.9889\n",
            "Epoch 46/50\n",
            "26/25 [==============================] - 10s 368ms/step - loss: 0.0906 - accuracy: 0.9867 - val_loss: 0.0064 - val_accuracy: 0.9972\n",
            "Epoch 47/50\n",
            "26/25 [==============================] - 10s 367ms/step - loss: 0.0179 - accuracy: 0.9952 - val_loss: 0.0025 - val_accuracy: 1.0000\n",
            "Epoch 48/50\n",
            "26/25 [==============================] - 10s 367ms/step - loss: 0.0147 - accuracy: 0.9976 - val_loss: 0.0042 - val_accuracy: 0.9972\n",
            "Epoch 49/50\n",
            "26/25 [==============================] - 10s 367ms/step - loss: 0.0714 - accuracy: 0.9915 - val_loss: 0.1576 - val_accuracy: 0.9749\n",
            "Epoch 50/50\n",
            "26/25 [==============================] - ETA: 0s - loss: 0.0313 - accuracy: 0.9952\n",
            "Epoch 00050: saving model to training_ResNet50/cp-0050.ckpt\n",
            "26/25 [==============================] - 19s 748ms/step - loss: 0.0313 - accuracy: 0.9952 - val_loss: 0.2720 - val_accuracy: 0.9749\n",
            "\n",
            " model_ResNet50 took 545.25 seconds (9.1 minutes) to train for 50 epochs\n"
          ],
          "name": "stdout"
        }
      ]
    },
    {
      "cell_type": "markdown",
      "metadata": {
        "id": "UIrhE3LMcsBU"
      },
      "source": [
        "###**ขั้นตอนการ Save file Model เเละ Json**"
      ]
    },
    {
      "cell_type": "code",
      "metadata": {
        "id": "5jkhbODRb0RH"
      },
      "source": [
        "#เปลี่ยนชื่อไฟล์ทุกครั้งเวลา SAVE \n",
        "model_resnet.save('/content/drive/My Drive/Final Project/Dataset-Nature/Original/saved_model/model-resnet50(lastest).h5')\n",
        "model_resnet.save_weights('/content/drive/My Drive/Final Project/Dataset-Nature/Original/saved_model/weightmodel-resnet50(lastest).h5')"
      ],
      "execution_count": null,
      "outputs": []
    },
    {
      "cell_type": "code",
      "metadata": {
        "id": "RUbahazNckQo"
      },
      "source": [
        "#Import dependencies\n",
        "!mkdir jsonfile\n",
        "import json\n",
        "from keras.models import model_from_json, load_model\n",
        "with open('jsonfile/model_resnet.json', 'w') as f:\n",
        "    f.write(model_resnet.to_json())\n",
        "print(\"Saved model success\")"
      ],
      "execution_count": null,
      "outputs": []
    },
    {
      "cell_type": "markdown",
      "metadata": {
        "id": "ctXhsc5pc-5N"
      },
      "source": [
        "###**เเสดงกราฟข้อมูลค่าความเเม่นยำเเละค่าความสูญเสีย Training เเละ Validation**"
      ]
    },
    {
      "cell_type": "code",
      "metadata": {
        "id": "k8UxPxbZdNzR",
        "colab": {
          "base_uri": "https://localhost:8080/",
          "height": 299
        },
        "outputId": "fd50452a-bd4a-4e38-ab35-ad002363d611"
      },
      "source": [
        "import matplotlib.pyplot as plt\n",
        "\n",
        "acc = model_resnet.history.history['accuracy']\n",
        "val_acc = model_resnet.history.history['val_accuracy']\n",
        "\n",
        "loss= model_resnet.history.history['loss']\n",
        "val_loss= model_resnet.history.history['val_loss']\n",
        "\n",
        "\n",
        "plt.style.use(\"ggplot\")\n",
        "#  \"Accuracy\"\n",
        "plt.figure(figsize=(15, 4))\n",
        "plt.subplot(1, 2, 1)\n",
        "plt.plot(acc, label='Training Accuracy')\n",
        "plt.plot(val_acc, label='Validation Accuracy')\n",
        "plt.legend(loc='lower right')\n",
        "plt.title('Training and Validation Accuracy')\n",
        "plt.ylabel('accuracy')\n",
        "plt.xlabel('epochs')\n",
        "#  \"Loss\"\n",
        "plt.subplot(1, 2, 2)\n",
        "plt.plot(loss, label='Training Loss')\n",
        "plt.plot(val_loss, label='Validation Loss')\n",
        "plt.legend(loc='upper right')\n",
        "plt.title('Training and Validation Loss')\n",
        "plt.ylabel('loss')\n",
        "plt.xlabel('epochs')\n",
        "plt.show()"
      ],
      "execution_count": 15,
      "outputs": [
        {
          "output_type": "display_data",
          "data": {
            "image/png": "[encoded data removed]",
            "text/plain": [
              "<Figure size 1080x288 with 2 Axes>"
            ]
          },
          "metadata": {
            "tags": []
          }
        }
      ]
    },
    {
      "cell_type": "markdown",
      "metadata": {
        "id": "m0m3J0nidxqf"
      },
      "source": [
        "###**จุด Checkpoint**"
      ]
    },
    {
      "cell_type": "code",
      "metadata": {
        "id": "CjjRM_w0eE5D",
        "colab": {
          "base_uri": "https://localhost:8080/",
          "height": 35
        },
        "outputId": "1326c2b2-c0fd-486d-83df-5c445ce5cfb4"
      },
      "source": [
        "latest = tf.train.latest_checkpoint(checkpoint_dir)\n",
        "latest"
      ],
      "execution_count": 16,
      "outputs": [
        {
          "output_type": "execute_result",
          "data": {
            "application/vnd.google.colaboratory.intrinsic+json": {
              "type": "string"
            },
            "text/plain": [
              "'training_ResNet50/cp-0050.ckpt'"
            ]
          },
          "metadata": {
            "tags": []
          },
          "execution_count": 16
        }
      ]
    },
    {
      "cell_type": "code",
      "metadata": {
        "id": "IBO8Q9Q4eE7E",
        "colab": {
          "base_uri": "https://localhost:8080/"
        },
        "outputId": "118dc493-88fd-4c3f-fb18-978a22d0bb6e"
      },
      "source": [
        "# Load the previously saved weights\n",
        "model_resnet.load_weights(latest)\n",
        "\n",
        "# Re-evaluate the model\n",
        "loss, acc = model_resnet.evaluate(valid_generator, verbose=2)\n",
        "print(\"Restored model, accuracy: {:5.2f}%\".format(100*acc))"
      ],
      "execution_count": 19,
      "outputs": [
        {
          "output_type": "stream",
          "text": [
            "359/359 - 5s - loss: 0.2720 - accuracy: 0.9749\n",
            "Restored model, accuracy: 97.49%\n"
          ],
          "name": "stdout"
        }
      ]
    },
    {
      "cell_type": "markdown",
      "metadata": {
        "id": "hOnDw5WeeNXc"
      },
      "source": [
        "###**Save model อีกเเบบเพื่อนำไปเเปลงเป็น TensorflwLite**"
      ]
    },
    {
      "cell_type": "code",
      "metadata": {
        "id": "WCKmhkZ2eVSt",
        "colab": {
          "base_uri": "https://localhost:8080/"
        },
        "outputId": "08cf4edd-99c6-43c5-c2be-a9a0b6b6f7ea"
      },
      "source": [
        "# Save the entire model as a SavedModel.\n",
        "model_resnet.save('saved_model/my_model') "
      ],
      "execution_count": 17,
      "outputs": [
        {
          "output_type": "stream",
          "text": [
            "WARNING:tensorflow:From /usr/local/lib/python3.6/dist-packages/tensorflow/python/training/tracking/tracking.py:111: Model.state_updates (from tensorflow.python.keras.engine.training) is deprecated and will be removed in a future version.\n",
            "Instructions for updating:\n",
            "This property should not be used in TensorFlow 2.0, as updates are applied automatically.\n",
            "WARNING:tensorflow:From /usr/local/lib/python3.6/dist-packages/tensorflow/python/training/tracking/tracking.py:111: Layer.updates (from tensorflow.python.keras.engine.base_layer) is deprecated and will be removed in a future version.\n",
            "Instructions for updating:\n",
            "This property should not be used in TensorFlow 2.0, as updates are applied automatically.\n",
            "INFO:tensorflow:Assets written to: saved_model/my_model/assets\n"
          ],
          "name": "stdout"
        }
      ]
    },
    {
      "cell_type": "code",
      "metadata": {
        "id": "UiTau3PReVU1"
      },
      "source": [
        "model= tf.keras.models.load_model('saved_model/my_model')\n",
        "tflite_converter = tf.lite.TFLiteConverter.from_keras_model(model)\n",
        "tflite_model = tflite_converter.convert()\n",
        "open(\"tf_lite_model(200epochsresnet).tflite\", \"wb\").write(tflite_model) "
      ],
      "execution_count": null,
      "outputs": []
    },
    {
      "cell_type": "markdown",
      "metadata": {
        "id": "Y7P6p0lzeq7g"
      },
      "source": [
        "###**ขั้นตอนของ Prediction เเบบบ Confusion Matrix**"
      ]
    },
    {
      "cell_type": "code",
      "metadata": {
        "id": "tA579sRAeVXH",
        "colab": {
          "base_uri": "https://localhost:8080/",
          "height": 352
        },
        "outputId": "20e38c44-becf-4036-d133-64c480cb6c35"
      },
      "source": [
        "import seaborn as sn\n",
        "import pandas as pd\n",
        "\n",
        "model = tf.keras.models.load_model('saved_model/my_model')\n",
        "filenames = valid_generator.filenames\n",
        "nb_samples = len(valid_generator)\n",
        "y_prob=[]\n",
        "y_act=[]\n",
        "valid_generator.reset()\n",
        "for _ in range(nb_samples):\n",
        "    x_test, y_test = valid_generator.next()\n",
        "    y_prob.append(model.predict(x_test))\n",
        "    y_act.append(y_test)\n",
        "\n",
        "\n",
        "predicted_class = [list(train_generator.class_indices.keys())[i.argmax()] for i in y_prob]\n",
        "actual_class = [list(train_generator.class_indices.keys())[i.argmax()] for i in y_act]\n",
        "\n",
        "out_df = pd.DataFrame(np.vstack([predicted_class,actual_class]).T,columns=['predicted_class', 'actual_class'])\n",
        "confusion_matrix = pd.crosstab(out_df['actual_class'],out_df['predicted_class'], rownames=['Actual'], colnames=['Predicted'])\n",
        "\n",
        "sn.heatmap(confusion_matrix, cmap='Blues', annot= True, fmt='d')\n",
        "plt.show()\n",
        "print('test accuracy : {}'.format((np.diagonal(confusion_matrix).sum()/confusion_matrix.sum().sum()*100)))"
      ],
      "execution_count": 18,
      "outputs": [
        {
          "output_type": "display_data",
          "data": {
            "image/png": "[encoded data removed]",
            "text/plain": [
              "<Figure size 432x288 with 2 Axes>"
            ]
          },
          "metadata": {
            "tags": []
          }
        },
        {
          "output_type": "stream",
          "text": [
            "test accuracy : 97.49303621169916\n"
          ],
          "name": "stdout"
        }
      ]
    }
  ]
}