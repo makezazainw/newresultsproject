{
  "nbformat": 4,
  "nbformat_minor": 0,
  "metadata": {
    "colab": {
      "name": "Lab-Augmentation VGG19.ipynb",
      "provenance": [],
      "collapsed_sections": [],
      "toc_visible": true,
      "mount_file_id": "13505w90q7WOMEpxxMVUh6z5ZhlmKDviy",
      "authorship_tag": "ABX9TyMX5AiWIWS9x1FKXc99/Nm0",
      "include_colab_link": true
    },
    "kernelspec": {
      "name": "python3",
      "display_name": "Python 3"
    },
    "accelerator": "GPU"
  },
  "cells": [
    {
      "cell_type": "markdown",
      "metadata": {
        "id": "view-in-github",
        "colab_type": "text"
      },
      "source": [
        "<a href=\"https://colab.research.google.com/github/makezazainw/newresultsproject/blob/main/Lab_Augmentation_VGG19.ipynb\" target=\"_parent\"><img src=\"https://colab.research.google.com/assets/colab-badge.svg\" alt=\"Open In Colab\"/></a>"
      ]
    },
    {
      "cell_type": "markdown",
      "metadata": {
        "id": "mew3lwAMaXDH"
      },
      "source": [
        "### **ติดตั้ง Kaggle เเละ เรียกใช้ไฟล์ json เพื่อติดต่อใช้ dataset ใน kaggle**"
      ]
    },
    {
      "cell_type": "code",
      "metadata": {
        "id": "Y5m_qIXOabnO",
        "colab": {
          "base_uri": "https://localhost:8080/"
        },
        "outputId": "c41bdc96-a684-4c96-f325-d59d9c72af7d"
      },
      "source": [
        "# Install Kaggle API\n",
        "!pip install -q kaggle\n",
        "!pip install -q kaggle-cli"
      ],
      "execution_count": 1,
      "outputs": [
        {
          "output_type": "stream",
          "text": [
            "\u001b[K     |████████████████████████████████| 81kB 6.0MB/s \n",
            "\u001b[K     |████████████████████████████████| 5.3MB 7.2MB/s \n",
            "\u001b[K     |████████████████████████████████| 133kB 40.0MB/s \n",
            "\u001b[K     |████████████████████████████████| 51kB 8.8MB/s \n",
            "\u001b[K     |████████████████████████████████| 112kB 52.5MB/s \n",
            "\u001b[?25h  Building wheel for kaggle-cli (setup.py) ... \u001b[?25l\u001b[?25hdone\n",
            "  Building wheel for PrettyTable (setup.py) ... \u001b[?25l\u001b[?25hdone\n",
            "  Building wheel for pyperclip (setup.py) ... \u001b[?25l\u001b[?25hdone\n"
          ],
          "name": "stdout"
        }
      ]
    },
    {
      "cell_type": "code",
      "metadata": {
        "id": "a_kkUe3valvy"
      },
      "source": [
        "# only for google colab\n",
        "import os\n",
        "os.environ['KAGGLE_USERNAME'] = \"thammatattantipitham\" \n",
        "os.environ['KAGGLE_KEY'] = \"3cf826ab97707228fb1602519992740b\""
      ],
      "execution_count": 2,
      "outputs": []
    },
    {
      "cell_type": "code",
      "metadata": {
        "id": "jtsvYa8manW1",
        "colab": {
          "base_uri": "https://localhost:8080/"
        },
        "outputId": "3f115fdb-a4cd-4322-b235-9d655784b995"
      },
      "source": [
        "!kaggle datasets download -d thammatattantipitham/labaugthaiherb --unzip"
      ],
      "execution_count": 3,
      "outputs": [
        {
          "output_type": "stream",
          "text": [
            "Downloading labaugthaiherb.zip to /content\n",
            " 93% 55.0M/59.0M [00:00<00:00, 43.3MB/s]\n",
            "100% 59.0M/59.0M [00:00<00:00, 71.5MB/s]\n"
          ],
          "name": "stdout"
        }
      ]
    },
    {
      "cell_type": "code",
      "metadata": {
        "id": "Ihulub6paq8a"
      },
      "source": [
        "#สร้างไฟล์ folder ขึ้นมาเเละเพิ่มข้อมูลเข้าไปใน folder\n",
        "!mkdir labaugthaiherb\n",
        "!mv  \"train\" \"val\" labaugthaiherb"
      ],
      "execution_count": 4,
      "outputs": []
    },
    {
      "cell_type": "markdown",
      "metadata": {
        "id": "yUU4GFLxa2pv"
      },
      "source": [
        "### **เริ่มต้นการ import library ต่างๆเเละการเรียกใช้ไฟล์**\n"
      ]
    },
    {
      "cell_type": "code",
      "metadata": {
        "id": "08sp2eppa_-2",
        "colab": {
          "base_uri": "https://localhost:8080/",
          "height": 35
        },
        "outputId": "ce1ff263-70f8-47a8-f9c7-878aa95dfe9b"
      },
      "source": [
        "import sys\n",
        "import time\n",
        "import cv2\n",
        "import numpy as np\n",
        "from matplotlib import pyplot as plt\n",
        "import tensorflow as tf\n",
        "import os\n",
        "import keras\n",
        "\n",
        "from skimage.transform import resize\n",
        "from sklearn.model_selection import train_test_split\n",
        "\n",
        "from tensorflow.python.keras.utils import np_utils\n",
        "from tensorflow.python.keras.models import Sequential, Model\n",
        "from tensorflow.python.keras.layers import Dense, Dropout, Flatten, Activation, BatchNormalization\n",
        "from tensorflow.python.keras.layers.convolutional import Conv2D, MaxPooling2D, AveragePooling2D\n",
        "from tensorflow.python.keras.preprocessing.image import ImageDataGenerator\n",
        "from tensorflow.python.keras.optimizers import RMSprop\n",
        "from tensorflow.python.keras.applications.vgg19 import VGG19\n",
        "from tensorflow.python.keras.applications.mobilenet import MobileNet\n",
        "from tensorflow.keras.applications.resnet50 import ResNet50, preprocess_input\n",
        "from tensorflow.keras.optimizers import Adam\n",
        "from keras.applications import InceptionV3\n",
        "sys.version"
      ],
      "execution_count": 5,
      "outputs": [
        {
          "output_type": "execute_result",
          "data": {
            "application/vnd.google.colaboratory.intrinsic+json": {
              "type": "string"
            },
            "text/plain": [
              "'3.6.9 (default, Oct  8 2020, 12:12:24) \\n[GCC 8.4.0]'"
            ]
          },
          "metadata": {
            "tags": []
          },
          "execution_count": 5
        }
      ]
    },
    {
      "cell_type": "code",
      "metadata": {
        "id": "SM_5RRq_bAAp",
        "colab": {
          "base_uri": "https://localhost:8080/"
        },
        "outputId": "d5d6df6c-5f66-4389-a210-7894ceeedd50"
      },
      "source": [
        "from tensorflow.compat.v1.keras.backend import set_session\n",
        "\n",
        "config = tf.compat.v1.ConfigProto()\n",
        "\n",
        "config.gpu_options.allow_growth = True  # dynamically grow the memory used on the GPU\n",
        "\n",
        "config.log_device_placement = True  # to log device placement (on which device the operation ran)\n",
        "\n",
        "sess = tf.compat.v1.Session(config=config)\n",
        "\n",
        "set_session(sess)"
      ],
      "execution_count": 6,
      "outputs": [
        {
          "output_type": "stream",
          "text": [
            "Device mapping:\n",
            "/job:localhost/replica:0/task:0/device:XLA_CPU:0 -> device: XLA_CPU device\n",
            "/job:localhost/replica:0/task:0/device:XLA_GPU:0 -> device: XLA_GPU device\n",
            "/job:localhost/replica:0/task:0/device:GPU:0 -> device: 0, name: Tesla P100-PCIE-16GB, pci bus id: 0000:00:04.0, compute capability: 6.0\n",
            "\n"
          ],
          "name": "stdout"
        }
      ]
    },
    {
      "cell_type": "code",
      "metadata": {
        "id": "9vm7Vog_bEAP"
      },
      "source": [
        "DATASET_PATH  = 'labaugthaiherb/'\n",
        "IMAGE_SIZE    = (224, 224)\n",
        "NUM_CLASSES   = 10\n",
        "BATCH_SIZE    = 32  # try reducing batch size or freeze more layers if your GPU runs out of memory\n",
        "epochs    = 50"
      ],
      "execution_count": 7,
      "outputs": []
    },
    {
      "cell_type": "code",
      "metadata": {
        "id": "PNu6CAPDbECl"
      },
      "source": [
        "#ทำ aug มาเเล้ว\n",
        "train_datagen = ImageDataGenerator(preprocessing_function=preprocess_input)"
      ],
      "execution_count": 8,
      "outputs": []
    },
    {
      "cell_type": "code",
      "metadata": {
        "id": "jDKsFAH_bEE1",
        "colab": {
          "base_uri": "https://localhost:8080/"
        },
        "outputId": "83bf2689-08d5-4f07-80a9-4eeacf089e16"
      },
      "source": [
        "#set training data\n",
        "train_generator = train_datagen.flow_from_directory(DATASET_PATH+ r\"train/\",\n",
        "                                                    target_size = IMAGE_SIZE,\n",
        "                                                    batch_size = BATCH_SIZE,\n",
        "                                                    class_mode='categorical',\n",
        "                                                    shuffle = True,\n",
        "                                                    subset='training')"
      ],
      "execution_count": 9,
      "outputs": [
        {
          "output_type": "stream",
          "text": [
            "Found 17186 images belonging to 10 classes.\n"
          ],
          "name": "stdout"
        }
      ]
    },
    {
      "cell_type": "code",
      "metadata": {
        "id": "w1nB7VakbG_d",
        "colab": {
          "base_uri": "https://localhost:8080/"
        },
        "outputId": "d8a3d367-810f-49d0-e2d9-eb1705087eed"
      },
      "source": [
        "valid_datagen = ImageDataGenerator(preprocessing_function=preprocess_input)\n",
        "valid_generator = valid_datagen.flow_from_directory(DATASET_PATH+ r\"val/\",                                      \n",
        "                                                    target_size = IMAGE_SIZE,\n",
        "                                                    batch_size = 1,\n",
        "                                                    class_mode='categorical',\n",
        "                                                    shuffle = True\n",
        "                                                    )"
      ],
      "execution_count": 10,
      "outputs": [
        {
          "output_type": "stream",
          "text": [
            "Found 4303 images belonging to 10 classes.\n"
          ],
          "name": "stdout"
        }
      ]
    },
    {
      "cell_type": "markdown",
      "metadata": {
        "id": "5H1qvuqFbNM6"
      },
      "source": [
        "### **Model VGG19**"
      ]
    },
    {
      "cell_type": "code",
      "metadata": {
        "id": "T9TaFF44bHBy",
        "colab": {
          "base_uri": "https://localhost:8080/"
        },
        "outputId": "06277880-d133-46fd-ee46-645e802cd903"
      },
      "source": [
        "# Include the epoch in the file name (uses `str.format`)\n",
        "checkpoint_path = \"training_VGG19/cp-{epoch:04d}.ckpt\"\n",
        "checkpoint_dir = os.path.dirname(checkpoint_path)\n",
        "\n",
        "# Create a callback that saves the model's weights every 5 epochs\n",
        "cp_callback = tf.keras.callbacks.ModelCheckpoint(\n",
        "    filepath=checkpoint_path, \n",
        "    verbose=1, \n",
        "    save_weights_only=True,\n",
        "    period=10)\n",
        "\n",
        "#Create the model\n",
        "def create_model_from_VGG19():\n",
        "    \"\"\"\n",
        "      use VGG19\n",
        "    \"\"\"\n",
        "    model = VGG19(weights = \"imagenet\", include_top=False, input_tensor=None, input_shape = (224, 224, 3))\n",
        "    \n",
        "    #5 layers เเรก จะไม่ถูกฝึกเนื่องจากใช้วิธีการ freeze ไว้เเล้ว\n",
        "    for layer in model.layers[:1]:\n",
        "      layer.trainable = False\n",
        "      \n",
        "    #ทำการเพิ่ม layers ที่กำหนดขึ้นมาเอง เป็นการปรับเเต่งเพื่อเพิ่มประสิทธิภาพ \n",
        "    x = model.output\n",
        "    x = Flatten()(x)\n",
        "    x = Dense(1024, activation=\"relu\")(x)\n",
        "    x = Dropout(0.5)(x)\n",
        "    x = Dense(1024, activation=\"relu\")(x)\n",
        "    predictions = Dense(NUM_CLASSES, activation=\"softmax\")(x)\n",
        "    \n",
        "    #สร้าง model ชั้นสุดท้ายเพื่อจะนำมา compile\n",
        "    model_VGG19 = Model(inputs = model.input, outputs = predictions)\n",
        "    \n",
        "    model_VGG19.compile(loss='categorical_crossentropy', optimizer=Adam(lr=0.0001), metrics=['accuracy'])\n",
        "\n",
        "    return model_VGG19\n",
        "\n",
        "    # Save the weights using the `checkpoint_path` format\n",
        "    model_VGG19.save_weights(checkpoint_path.format(epoch=0))"
      ],
      "execution_count": 11,
      "outputs": [
        {
          "output_type": "stream",
          "text": [
            "WARNING:tensorflow:`period` argument is deprecated. Please use `save_freq` to specify the frequency in number of batches seen.\n"
          ],
          "name": "stdout"
        }
      ]
    },
    {
      "cell_type": "code",
      "metadata": {
        "id": "TnKEGJjKbHEL",
        "colab": {
          "base_uri": "https://localhost:8080/"
        },
        "outputId": "4075bc11-071f-466a-8ffd-bbba907b45d6"
      },
      "source": [
        "model_VGG19 = create_model_from_VGG19()\n",
        "model_VGG19.summary()"
      ],
      "execution_count": 12,
      "outputs": [
        {
          "output_type": "stream",
          "text": [
            "Downloading data from https://storage.googleapis.com/tensorflow/keras-applications/vgg19/vgg19_weights_tf_dim_ordering_tf_kernels_notop.h5\n",
            "80142336/80134624 [==============================] - 0s 0us/step\n",
            "Model: \"functional_1\"\n",
            "_________________________________________________________________\n",
            "Layer (type)                 Output Shape              Param #   \n",
            "=================================================================\n",
            "input_1 (InputLayer)         [(None, 224, 224, 3)]     0         \n",
            "_________________________________________________________________\n",
            "block1_conv1 (Conv2D)        (None, 224, 224, 64)      1792      \n",
            "_________________________________________________________________\n",
            "block1_conv2 (Conv2D)        (None, 224, 224, 64)      36928     \n",
            "_________________________________________________________________\n",
            "block1_pool (MaxPooling2D)   (None, 112, 112, 64)      0         \n",
            "_________________________________________________________________\n",
            "block2_conv1 (Conv2D)        (None, 112, 112, 128)     73856     \n",
            "_________________________________________________________________\n",
            "block2_conv2 (Conv2D)        (None, 112, 112, 128)     147584    \n",
            "_________________________________________________________________\n",
            "block2_pool (MaxPooling2D)   (None, 56, 56, 128)       0         \n",
            "_________________________________________________________________\n",
            "block3_conv1 (Conv2D)        (None, 56, 56, 256)       295168    \n",
            "_________________________________________________________________\n",
            "block3_conv2 (Conv2D)        (None, 56, 56, 256)       590080    \n",
            "_________________________________________________________________\n",
            "block3_conv3 (Conv2D)        (None, 56, 56, 256)       590080    \n",
            "_________________________________________________________________\n",
            "block3_conv4 (Conv2D)        (None, 56, 56, 256)       590080    \n",
            "_________________________________________________________________\n",
            "block3_pool (MaxPooling2D)   (None, 28, 28, 256)       0         \n",
            "_________________________________________________________________\n",
            "block4_conv1 (Conv2D)        (None, 28, 28, 512)       1180160   \n",
            "_________________________________________________________________\n",
            "block4_conv2 (Conv2D)        (None, 28, 28, 512)       2359808   \n",
            "_________________________________________________________________\n",
            "block4_conv3 (Conv2D)        (None, 28, 28, 512)       2359808   \n",
            "_________________________________________________________________\n",
            "block4_conv4 (Conv2D)        (None, 28, 28, 512)       2359808   \n",
            "_________________________________________________________________\n",
            "block4_pool (MaxPooling2D)   (None, 14, 14, 512)       0         \n",
            "_________________________________________________________________\n",
            "block5_conv1 (Conv2D)        (None, 14, 14, 512)       2359808   \n",
            "_________________________________________________________________\n",
            "block5_conv2 (Conv2D)        (None, 14, 14, 512)       2359808   \n",
            "_________________________________________________________________\n",
            "block5_conv3 (Conv2D)        (None, 14, 14, 512)       2359808   \n",
            "_________________________________________________________________\n",
            "block5_conv4 (Conv2D)        (None, 14, 14, 512)       2359808   \n",
            "_________________________________________________________________\n",
            "block5_pool (MaxPooling2D)   (None, 7, 7, 512)         0         \n",
            "_________________________________________________________________\n",
            "flatten (Flatten)            (None, 25088)             0         \n",
            "_________________________________________________________________\n",
            "dense (Dense)                (None, 1024)              25691136  \n",
            "_________________________________________________________________\n",
            "dropout (Dropout)            (None, 1024)              0         \n",
            "_________________________________________________________________\n",
            "dense_1 (Dense)              (None, 1024)              1049600   \n",
            "_________________________________________________________________\n",
            "dense_2 (Dense)              (None, 10)                10250     \n",
            "=================================================================\n",
            "Total params: 46,775,370\n",
            "Trainable params: 46,775,370\n",
            "Non-trainable params: 0\n",
            "_________________________________________________________________\n"
          ],
          "name": "stdout"
        }
      ]
    },
    {
      "cell_type": "code",
      "metadata": {
        "id": "HqpePAyfbHGf",
        "colab": {
          "base_uri": "https://localhost:8080/"
        },
        "outputId": "6d933e09-0701-4e0a-8260-583534ad3781"
      },
      "source": [
        "start = time.time()\n",
        "\n",
        "history = model_VGG19.fit_generator(\n",
        "    generator=train_generator, \n",
        "    steps_per_epoch=train_generator.samples//BATCH_SIZE,   # -> 106 # images 3392 = steps * batch_size = 106 * 32 \n",
        "    epochs=epochs, \n",
        "    validation_steps=valid_generator.samples//BATCH_SIZE, # -> 26 # images 832 = steps * batch_size = 26 * 32\n",
        "    validation_data=valid_generator,\n",
        "    callbacks = [cp_callback],\n",
        "    verbose = 1\n",
        ")\n",
        "\n",
        "end = time.time()\n",
        "duration = end - start\n",
        "print ('\\n model_VGG19 took %0.2f seconds (%0.1f minutes) to train for %d epochs'%(duration, duration/60, epochs) )"
      ],
      "execution_count": 13,
      "outputs": [
        {
          "output_type": "stream",
          "text": [
            "WARNING:tensorflow:From <ipython-input-13-7dcb0c81179e>:10: Model.fit_generator (from tensorflow.python.keras.engine.training) is deprecated and will be removed in a future version.\n",
            "Instructions for updating:\n",
            "Please use Model.fit, which supports generators.\n",
            "Epoch 1/50\n",
            "  2/537 [..............................] - ETA: 1:07 - loss: 5.5085 - accuracy: 0.0781WARNING:tensorflow:Callbacks method `on_train_batch_end` is slow compared to the batch time (batch time: 0.0809s vs `on_train_batch_end` time: 0.1644s). Check your callbacks.\n",
            "537/537 [==============================] - 134s 249ms/step - loss: 2.3172 - accuracy: 0.0960 - val_loss: 2.3025 - val_accuracy: 0.1269\n",
            "Epoch 2/50\n",
            "537/537 [==============================] - 133s 248ms/step - loss: 2.3027 - accuracy: 0.1003 - val_loss: 2.3019 - val_accuracy: 0.1119\n",
            "Epoch 3/50\n",
            "537/537 [==============================] - 133s 248ms/step - loss: 2.3027 - accuracy: 0.0988 - val_loss: 2.3029 - val_accuracy: 0.0896\n",
            "Epoch 4/50\n",
            "537/537 [==============================] - 133s 248ms/step - loss: 2.3027 - accuracy: 0.1014 - val_loss: 2.3022 - val_accuracy: 0.1119\n",
            "Epoch 5/50\n",
            "537/537 [==============================] - 133s 248ms/step - loss: 2.3027 - accuracy: 0.0985 - val_loss: 2.3016 - val_accuracy: 0.1269\n",
            "Epoch 6/50\n",
            "537/537 [==============================] - 133s 248ms/step - loss: 2.3027 - accuracy: 0.1013 - val_loss: 2.3033 - val_accuracy: 0.1119\n",
            "Epoch 7/50\n",
            "537/537 [==============================] - 133s 248ms/step - loss: 2.3027 - accuracy: 0.0999 - val_loss: 2.3020 - val_accuracy: 0.1119\n",
            "Epoch 8/50\n",
            "537/537 [==============================] - 133s 247ms/step - loss: 2.3027 - accuracy: 0.1000 - val_loss: 2.3020 - val_accuracy: 0.1045\n",
            "Epoch 9/50\n",
            "537/537 [==============================] - 133s 248ms/step - loss: 2.3027 - accuracy: 0.1009 - val_loss: 2.3022 - val_accuracy: 0.0821\n",
            "Epoch 10/50\n",
            "537/537 [==============================] - ETA: 0s - loss: 2.3027 - accuracy: 0.1003\n",
            "Epoch 00010: saving model to training_VGG19/cp-0010.ckpt\n",
            "537/537 [==============================] - 135s 251ms/step - loss: 2.3027 - accuracy: 0.1003 - val_loss: 2.3030 - val_accuracy: 0.1343\n",
            "Epoch 11/50\n",
            "537/537 [==============================] - 133s 248ms/step - loss: 2.3027 - accuracy: 0.1011 - val_loss: 2.3027 - val_accuracy: 0.0746\n",
            "Epoch 12/50\n",
            "537/537 [==============================] - 133s 248ms/step - loss: 2.3027 - accuracy: 0.1001 - val_loss: 2.3022 - val_accuracy: 0.0970\n",
            "Epoch 13/50\n",
            "537/537 [==============================] - 133s 247ms/step - loss: 2.3027 - accuracy: 0.0997 - val_loss: 2.3019 - val_accuracy: 0.1343\n",
            "Epoch 14/50\n",
            "537/537 [==============================] - 133s 247ms/step - loss: 2.3027 - accuracy: 0.1015 - val_loss: 2.3029 - val_accuracy: 0.1045\n",
            "Epoch 15/50\n",
            "537/537 [==============================] - 133s 247ms/step - loss: 2.3027 - accuracy: 0.1011 - val_loss: 2.3021 - val_accuracy: 0.1194\n",
            "Epoch 16/50\n",
            "537/537 [==============================] - 133s 247ms/step - loss: 2.3027 - accuracy: 0.0986 - val_loss: 2.3023 - val_accuracy: 0.1269\n",
            "Epoch 17/50\n",
            "537/537 [==============================] - 133s 248ms/step - loss: 2.3027 - accuracy: 0.1015 - val_loss: 2.3024 - val_accuracy: 0.1045\n",
            "Epoch 18/50\n",
            "537/537 [==============================] - 133s 248ms/step - loss: 2.3027 - accuracy: 0.1013 - val_loss: 2.3025 - val_accuracy: 0.1194\n",
            "Epoch 19/50\n",
            "537/537 [==============================] - 133s 248ms/step - loss: 2.3026 - accuracy: 0.1014 - val_loss: 2.3019 - val_accuracy: 0.1343\n",
            "Epoch 20/50\n",
            "537/537 [==============================] - ETA: 0s - loss: 2.3027 - accuracy: 0.1010\n",
            "Epoch 00020: saving model to training_VGG19/cp-0020.ckpt\n",
            "537/537 [==============================] - 134s 250ms/step - loss: 2.3027 - accuracy: 0.1010 - val_loss: 2.3030 - val_accuracy: 0.0597\n",
            "Epoch 21/50\n",
            "537/537 [==============================] - 133s 248ms/step - loss: 2.3026 - accuracy: 0.0997 - val_loss: 2.3032 - val_accuracy: 0.0970\n",
            "Epoch 22/50\n",
            "537/537 [==============================] - 133s 248ms/step - loss: 2.3026 - accuracy: 0.0988 - val_loss: 2.3030 - val_accuracy: 0.0896\n",
            "Epoch 23/50\n",
            "537/537 [==============================] - 133s 248ms/step - loss: 2.3026 - accuracy: 0.1014 - val_loss: 2.3023 - val_accuracy: 0.1194\n",
            "Epoch 24/50\n",
            "537/537 [==============================] - 133s 248ms/step - loss: 2.3026 - accuracy: 0.1012 - val_loss: 2.3019 - val_accuracy: 0.1343\n",
            "Epoch 25/50\n",
            "537/537 [==============================] - 133s 247ms/step - loss: 2.3026 - accuracy: 0.1012 - val_loss: 2.3031 - val_accuracy: 0.1045\n",
            "Epoch 26/50\n",
            "537/537 [==============================] - 133s 248ms/step - loss: 2.3026 - accuracy: 0.1014 - val_loss: 2.3033 - val_accuracy: 0.0672\n",
            "Epoch 27/50\n",
            "537/537 [==============================] - 133s 248ms/step - loss: 2.3026 - accuracy: 0.1012 - val_loss: 2.3017 - val_accuracy: 0.1343\n",
            "Epoch 28/50\n",
            "537/537 [==============================] - 133s 247ms/step - loss: 2.3026 - accuracy: 0.1012 - val_loss: 2.3021 - val_accuracy: 0.1642\n",
            "Epoch 29/50\n",
            "537/537 [==============================] - 133s 248ms/step - loss: 2.3026 - accuracy: 0.1014 - val_loss: 2.3025 - val_accuracy: 0.0970\n",
            "Epoch 30/50\n",
            "537/537 [==============================] - ETA: 0s - loss: 2.3026 - accuracy: 0.1014\n",
            "Epoch 00030: saving model to training_VGG19/cp-0030.ckpt\n",
            "537/537 [==============================] - 134s 250ms/step - loss: 2.3026 - accuracy: 0.1014 - val_loss: 2.3024 - val_accuracy: 0.0970\n",
            "Epoch 31/50\n",
            "537/537 [==============================] - 133s 248ms/step - loss: 2.3026 - accuracy: 0.1015 - val_loss: 2.3023 - val_accuracy: 0.0672\n",
            "Epoch 32/50\n",
            "537/537 [==============================] - 133s 248ms/step - loss: 2.3026 - accuracy: 0.1013 - val_loss: 2.3036 - val_accuracy: 0.0896\n",
            "Epoch 33/50\n",
            "537/537 [==============================] - 133s 248ms/step - loss: 2.3026 - accuracy: 0.1012 - val_loss: 2.3020 - val_accuracy: 0.1269\n",
            "Epoch 34/50\n",
            "537/537 [==============================] - 133s 248ms/step - loss: 2.3026 - accuracy: 0.1015 - val_loss: 2.3030 - val_accuracy: 0.0597\n",
            "Epoch 35/50\n",
            "537/537 [==============================] - 133s 248ms/step - loss: 2.3026 - accuracy: 0.1014 - val_loss: 2.3024 - val_accuracy: 0.0970\n",
            "Epoch 36/50\n",
            "537/537 [==============================] - 133s 248ms/step - loss: 2.3026 - accuracy: 0.1015 - val_loss: 2.3030 - val_accuracy: 0.1119\n",
            "Epoch 37/50\n",
            "537/537 [==============================] - 133s 248ms/step - loss: 2.3026 - accuracy: 0.1014 - val_loss: 2.3025 - val_accuracy: 0.1194\n",
            "Epoch 38/50\n",
            "537/537 [==============================] - 133s 248ms/step - loss: 2.3026 - accuracy: 0.1014 - val_loss: 2.3022 - val_accuracy: 0.1045\n",
            "Epoch 39/50\n",
            "537/537 [==============================] - 133s 248ms/step - loss: 2.3026 - accuracy: 0.1013 - val_loss: 2.3032 - val_accuracy: 0.0896\n",
            "Epoch 40/50\n",
            "537/537 [==============================] - ETA: 0s - loss: 2.3026 - accuracy: 0.1015\n",
            "Epoch 00040: saving model to training_VGG19/cp-0040.ckpt\n",
            "537/537 [==============================] - 135s 251ms/step - loss: 2.3026 - accuracy: 0.1015 - val_loss: 2.3029 - val_accuracy: 0.1045\n",
            "Epoch 41/50\n",
            "537/537 [==============================] - 133s 248ms/step - loss: 2.3026 - accuracy: 0.1013 - val_loss: 2.3026 - val_accuracy: 0.1269\n",
            "Epoch 42/50\n",
            "537/537 [==============================] - 133s 248ms/step - loss: 2.3026 - accuracy: 0.1014 - val_loss: 2.3025 - val_accuracy: 0.1194\n",
            "Epoch 43/50\n",
            "537/537 [==============================] - 133s 248ms/step - loss: 2.3026 - accuracy: 0.1012 - val_loss: 2.3021 - val_accuracy: 0.1269\n",
            "Epoch 44/50\n",
            "537/537 [==============================] - 133s 248ms/step - loss: 2.3026 - accuracy: 0.1015 - val_loss: 2.3030 - val_accuracy: 0.0896\n",
            "Epoch 45/50\n",
            "537/537 [==============================] - 133s 248ms/step - loss: 2.3026 - accuracy: 0.1014 - val_loss: 2.3019 - val_accuracy: 0.1343\n",
            "Epoch 46/50\n",
            "537/537 [==============================] - 133s 248ms/step - loss: 2.3026 - accuracy: 0.1013 - val_loss: 2.3029 - val_accuracy: 0.0672\n",
            "Epoch 47/50\n",
            "537/537 [==============================] - 133s 248ms/step - loss: 2.3026 - accuracy: 0.1015 - val_loss: 2.3023 - val_accuracy: 0.1269\n",
            "Epoch 48/50\n",
            "537/537 [==============================] - 133s 248ms/step - loss: 2.3026 - accuracy: 0.1013 - val_loss: 2.3023 - val_accuracy: 0.0970\n",
            "Epoch 49/50\n",
            "537/537 [==============================] - 133s 248ms/step - loss: 2.3026 - accuracy: 0.1014 - val_loss: 2.3037 - val_accuracy: 0.0522\n",
            "Epoch 50/50\n",
            "537/537 [==============================] - ETA: 0s - loss: 2.3026 - accuracy: 0.1015\n",
            "Epoch 00050: saving model to training_VGG19/cp-0050.ckpt\n",
            "537/537 [==============================] - 135s 251ms/step - loss: 2.3026 - accuracy: 0.1015 - val_loss: 2.3018 - val_accuracy: 0.1493\n",
            "\n",
            " model_VGG19 took 6676.26 seconds (111.3 minutes) to train for 50 epochs\n"
          ],
          "name": "stdout"
        }
      ]
    },
    {
      "cell_type": "markdown",
      "metadata": {
        "id": "UIrhE3LMcsBU"
      },
      "source": [
        "###**ขั้นตอนการ Save file Model เเละ Json**"
      ]
    },
    {
      "cell_type": "code",
      "metadata": {
        "id": "5jkhbODRb0RH"
      },
      "source": [
        "#เปลี่ยนชื่อไฟล์ทุกครั้งเวลา SAVE\n",
        "model_VGG19.save('/content/drive/My Drive/Final Project/Dataset-Lab/Original/saved_model/model-vgg19(auglastest).h5') #ดูจำนวนรอบที่เทรนด้วยว่าทั้งหมดกี่รอบจริงๆเเล้ว\n",
        "model_VGG19.save_weights('/content/drive/My Drive/Final Project/Dataset-Lab/Original/saved_model/weightaugmodel-vgg19.h5')"
      ],
      "execution_count": null,
      "outputs": []
    },
    {
      "cell_type": "code",
      "metadata": {
        "id": "RUbahazNckQo"
      },
      "source": [
        "#Import dependencies\n",
        "!mkdir jsonfile\n",
        "import json\n",
        "from keras.models import model_from_json, load_model\n",
        "with open('jsonfile/model_VGG19(aug).json', 'w') as f:\n",
        "    f.write(model_VGG19.to_json())\n",
        "print(\"Saved model success\")"
      ],
      "execution_count": null,
      "outputs": []
    },
    {
      "cell_type": "markdown",
      "metadata": {
        "id": "ctXhsc5pc-5N"
      },
      "source": [
        "###**เเสดงกราฟข้อมูลค่าความเเม่นยำเเละค่าความสูญเสีย Training เเละ Validation**"
      ]
    },
    {
      "cell_type": "code",
      "metadata": {
        "id": "k8UxPxbZdNzR",
        "colab": {
          "base_uri": "https://localhost:8080/",
          "height": 299
        },
        "outputId": "e24e914e-3ba5-464d-e9c4-a8f38369a860"
      },
      "source": [
        "import matplotlib.pyplot as plt\n",
        "\n",
        "acc = model_VGG19.history.history['accuracy']\n",
        "val_acc = model_VGG19.history.history['val_accuracy']\n",
        "\n",
        "loss= model_VGG19.history.history['loss']\n",
        "val_loss= model_VGG19.history.history['val_loss']\n",
        "\n",
        "\n",
        "plt.style.use(\"ggplot\")\n",
        "#  \"Accuracy\"\n",
        "plt.figure(figsize=(15, 4))\n",
        "plt.subplot(1, 2, 1)\n",
        "plt.plot(acc, label='Training Accuracy')\n",
        "plt.plot(val_acc, label='Validation Accuracy')\n",
        "plt.legend(loc='upper right')\n",
        "plt.title('Training and Validation Accuracy')\n",
        "plt.ylabel('accuracy')\n",
        "plt.xlabel('epochs')\n",
        "#  \"Loss\"\n",
        "plt.subplot(1, 2, 2)\n",
        "plt.plot(loss, label='Training Loss')\n",
        "plt.plot(val_loss, label='Validation Loss')\n",
        "plt.legend(loc='lower right')\n",
        "plt.title('Training and Validation Loss')\n",
        "plt.ylabel('loss')\n",
        "plt.xlabel('epochs')\n",
        "plt.show()"
      ],
      "execution_count": 14,
      "outputs": [
        {
          "output_type": "display_data",
          "data": {
            "image/png": "[encoded data removed]",
            "text/plain": [
              "<Figure size 1080x288 with 2 Axes>"
            ]
          },
          "metadata": {
            "tags": []
          }
        }
      ]
    },
    {
      "cell_type": "markdown",
      "metadata": {
        "id": "m0m3J0nidxqf"
      },
      "source": [
        "###**จุด Checkpoint**"
      ]
    },
    {
      "cell_type": "code",
      "metadata": {
        "id": "CjjRM_w0eE5D",
        "colab": {
          "base_uri": "https://localhost:8080/",
          "height": 35
        },
        "outputId": "7189cd36-df91-445f-bcc9-6f749e0c4ec3"
      },
      "source": [
        "latest = tf.train.latest_checkpoint(checkpoint_dir)\n",
        "latest"
      ],
      "execution_count": 15,
      "outputs": [
        {
          "output_type": "execute_result",
          "data": {
            "application/vnd.google.colaboratory.intrinsic+json": {
              "type": "string"
            },
            "text/plain": [
              "'training_VGG19/cp-0050.ckpt'"
            ]
          },
          "metadata": {
            "tags": []
          },
          "execution_count": 15
        }
      ]
    },
    {
      "cell_type": "code",
      "metadata": {
        "id": "IBO8Q9Q4eE7E",
        "colab": {
          "base_uri": "https://localhost:8080/"
        },
        "outputId": "2ff18999-3b6c-4a3c-ff24-ab6eb39ef26d"
      },
      "source": [
        "# Load the previously saved weights\n",
        "model_VGG19.load_weights(latest)\n",
        "\n",
        "# Re-evaluate the model\n",
        "loss, acc = model_VGG19.evaluate(valid_generator, verbose=2)\n",
        "print(\"Restored model, accuracy: {:5.2f}%\".format(100*acc))"
      ],
      "execution_count": 18,
      "outputs": [
        {
          "output_type": "stream",
          "text": [
            "4303/4303 - 33s - loss: 2.3026 - accuracy: 0.1013\n",
            "Restored model, accuracy: 10.13%\n"
          ],
          "name": "stdout"
        }
      ]
    },
    {
      "cell_type": "markdown",
      "metadata": {
        "id": "hOnDw5WeeNXc"
      },
      "source": [
        "###**Save model อีกเเบบเพื่อนำไปเเปลงเป็น TensorflwLite**"
      ]
    },
    {
      "cell_type": "code",
      "metadata": {
        "id": "WCKmhkZ2eVSt",
        "colab": {
          "base_uri": "https://localhost:8080/"
        },
        "outputId": "c465c53b-fba0-46e8-b14f-99e11fde9cf7"
      },
      "source": [
        "# Save the entire model as a SavedModel.\n",
        "model_VGG19.save('saved_model/my_model') "
      ],
      "execution_count": 16,
      "outputs": [
        {
          "output_type": "stream",
          "text": [
            "WARNING:tensorflow:From /usr/local/lib/python3.6/dist-packages/tensorflow/python/training/tracking/tracking.py:111: Model.state_updates (from tensorflow.python.keras.engine.training) is deprecated and will be removed in a future version.\n",
            "Instructions for updating:\n",
            "This property should not be used in TensorFlow 2.0, as updates are applied automatically.\n",
            "WARNING:tensorflow:From /usr/local/lib/python3.6/dist-packages/tensorflow/python/training/tracking/tracking.py:111: Layer.updates (from tensorflow.python.keras.engine.base_layer) is deprecated and will be removed in a future version.\n",
            "Instructions for updating:\n",
            "This property should not be used in TensorFlow 2.0, as updates are applied automatically.\n",
            "INFO:tensorflow:Assets written to: saved_model/my_model/assets\n"
          ],
          "name": "stdout"
        }
      ]
    },
    {
      "cell_type": "code",
      "metadata": {
        "id": "UiTau3PReVU1"
      },
      "source": [
        "model= tf.keras.models.load_model('saved_model/my_model')\n",
        "tflite_converter = tf.lite.TFLiteConverter.from_keras_model(model)\n",
        "tflite_model = tflite_converter.convert()\n",
        "open(\"tf_lite_model(200epochsvgg19).tflite\", \"wb\").write(tflite_model) "
      ],
      "execution_count": null,
      "outputs": []
    },
    {
      "cell_type": "markdown",
      "metadata": {
        "id": "Y7P6p0lzeq7g"
      },
      "source": [
        "###**ขั้นตอนของ Prediction เเบบบ Confusion Matrix**"
      ]
    },
    {
      "cell_type": "code",
      "metadata": {
        "id": "tA579sRAeVXH",
        "colab": {
          "base_uri": "https://localhost:8080/",
          "height": 303
        },
        "outputId": "2f597809-4645-4065-ca47-797298d15106"
      },
      "source": [
        "import seaborn as sn\n",
        "import pandas as pd\n",
        "\n",
        "model = tf.keras.models.load_model('saved_model/my_model')\n",
        "filenames = valid_generator.filenames\n",
        "nb_samples = len(valid_generator)\n",
        "y_prob=[]\n",
        "y_act=[]\n",
        "valid_generator.reset()\n",
        "for _ in range(nb_samples):\n",
        "    x_test, y_test = valid_generator.next()\n",
        "    y_prob.append(model.predict(x_test))\n",
        "    y_act.append(y_test)\n",
        "\n",
        "\n",
        "predicted_class = [list(train_generator.class_indices.keys())[i.argmax()] for i in y_prob]\n",
        "actual_class = [list(train_generator.class_indices.keys())[i.argmax()] for i in y_act]\n",
        "\n",
        "out_df = pd.DataFrame(np.vstack([predicted_class,actual_class]).T,columns=['predicted_class', 'actual_class'])\n",
        "confusion_matrix = pd.crosstab(out_df['actual_class'],out_df['predicted_class'], rownames=['Actual'], colnames=['Predicted'])\n",
        "\n",
        "sn.heatmap(confusion_matrix, cmap='Blues', annot= True, fmt='d')\n",
        "plt.show()\n",
        "print('test accuracy : {}'.format((np.diagonal(confusion_matrix).sum()/confusion_matrix.sum().sum()*100)))"
      ],
      "execution_count": 17,
      "outputs": [
        {
          "output_type": "display_data",
          "data": {
            "image/png": "[encoded data removed]",
            "text/plain": [
              "<Figure size 432x288 with 2 Axes>"
            ]
          },
          "metadata": {
            "tags": []
          }
        },
        {
          "output_type": "stream",
          "text": [
            "test accuracy : 10.016267720195213\n"
          ],
          "name": "stdout"
        }
      ]
    }
  ]
}