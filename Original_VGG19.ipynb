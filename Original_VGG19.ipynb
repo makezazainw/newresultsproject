{
  "nbformat": 4,
  "nbformat_minor": 0,
  "metadata": {
    "colab": {
      "name": "Original VGG19.ipynb",
      "provenance": [],
      "collapsed_sections": [],
      "toc_visible": true,
      "mount_file_id": "1Fd5KLIHe6BriqGIaUCssPuhkMYcazSYm",
      "authorship_tag": "ABX9TyOtObvbxcUhHahGniMGjIRX",
      "include_colab_link": true
    },
    "kernelspec": {
      "name": "python3",
      "display_name": "Python 3"
    },
    "accelerator": "GPU"
  },
  "cells": [
    {
      "cell_type": "markdown",
      "metadata": {
        "id": "view-in-github",
        "colab_type": "text"
      },
      "source": [
        "<a href=\"https://colab.research.google.com/github/makezazainw/newresultsproject/blob/main/Original_VGG19.ipynb\" target=\"_parent\"><img src=\"https://colab.research.google.com/assets/colab-badge.svg\" alt=\"Open In Colab\"/></a>"
      ]
    },
    {
      "cell_type": "markdown",
      "metadata": {
        "id": "mew3lwAMaXDH"
      },
      "source": [
        "### **ติดตั้ง Kaggle เเละ เรียกใช้ไฟล์ json เพื่อติดต่อใช้ dataset ใน kaggle**"
      ]
    },
    {
      "cell_type": "code",
      "metadata": {
        "id": "Y5m_qIXOabnO",
        "colab": {
          "base_uri": "https://localhost:8080/"
        },
        "outputId": "8073bcf4-ffa6-453a-a1be-c389b1009437"
      },
      "source": [
        "# Install Kaggle API\n",
        "!pip install -q kaggle\n",
        "!pip install -q kaggle-cli"
      ],
      "execution_count": 1,
      "outputs": [
        {
          "output_type": "stream",
          "text": [
            "\u001b[K     |████████████████████████████████| 81kB 3.9MB/s \n",
            "\u001b[K     |████████████████████████████████| 5.3MB 7.5MB/s \n",
            "\u001b[K     |████████████████████████████████| 112kB 53.4MB/s \n",
            "\u001b[K     |████████████████████████████████| 133kB 52.0MB/s \n",
            "\u001b[K     |████████████████████████████████| 51kB 7.4MB/s \n",
            "\u001b[?25h  Building wheel for kaggle-cli (setup.py) ... \u001b[?25l\u001b[?25hdone\n",
            "  Building wheel for PrettyTable (setup.py) ... \u001b[?25l\u001b[?25hdone\n",
            "  Building wheel for pyperclip (setup.py) ... \u001b[?25l\u001b[?25hdone\n"
          ],
          "name": "stdout"
        }
      ]
    },
    {
      "cell_type": "code",
      "metadata": {
        "id": "a_kkUe3valvy"
      },
      "source": [
        "# only for google colab\n",
        "import os\n",
        "os.environ['KAGGLE_USERNAME'] = \"thammatattantipitham\" \n",
        "os.environ['KAGGLE_KEY'] = \"3cf826ab97707228fb1602519992740b\""
      ],
      "execution_count": 2,
      "outputs": []
    },
    {
      "cell_type": "code",
      "metadata": {
        "id": "jtsvYa8manW1",
        "colab": {
          "base_uri": "https://localhost:8080/"
        },
        "outputId": "20c23f72-f01c-4bdb-cbba-a4db042984a3"
      },
      "source": [
        "!kaggle datasets download -d thammatattantipitham/thaiherb --unzip"
      ],
      "execution_count": 3,
      "outputs": [
        {
          "output_type": "stream",
          "text": [
            "Downloading thaiherb.zip to /content\n",
            " 90% 33.0M/36.8M [00:00<00:00, 103MB/s] \n",
            "100% 36.8M/36.8M [00:00<00:00, 179MB/s]\n"
          ],
          "name": "stdout"
        }
      ]
    },
    {
      "cell_type": "code",
      "metadata": {
        "id": "Ihulub6paq8a"
      },
      "source": [
        "#สร้างไฟล์ folder ขึ้นมาเเละเพิ่มข้อมูลเข้าไปใน folder\n",
        "!mkdir thaiherb\n",
        "!mv  \"train\" \"val\" thaiherb"
      ],
      "execution_count": 4,
      "outputs": []
    },
    {
      "cell_type": "markdown",
      "metadata": {
        "id": "yUU4GFLxa2pv"
      },
      "source": [
        "### **เริ่มต้นการ import library ต่างๆเเละการเรียกใช้ไฟล์**\n"
      ]
    },
    {
      "cell_type": "code",
      "metadata": {
        "id": "08sp2eppa_-2",
        "colab": {
          "base_uri": "https://localhost:8080/",
          "height": 35
        },
        "outputId": "a513b994-3b6d-41b4-cc85-81ffbbb509b5"
      },
      "source": [
        "import sys\n",
        "import time\n",
        "import cv2\n",
        "import numpy as np\n",
        "from matplotlib import pyplot as plt\n",
        "import tensorflow as tf\n",
        "import os\n",
        "import keras\n",
        "\n",
        "from skimage.transform import resize\n",
        "from sklearn.model_selection import train_test_split\n",
        "\n",
        "from tensorflow.python.keras.utils import np_utils\n",
        "from tensorflow.python.keras.models import Sequential, Model\n",
        "from tensorflow.python.keras.layers import Dense, Dropout, Flatten, Activation, BatchNormalization\n",
        "from tensorflow.python.keras.layers.convolutional import Conv2D, MaxPooling2D, AveragePooling2D\n",
        "from tensorflow.python.keras.preprocessing.image import ImageDataGenerator\n",
        "from tensorflow.python.keras.optimizers import RMSprop\n",
        "from tensorflow.python.keras.applications.vgg19 import VGG19\n",
        "from tensorflow.python.keras.applications.mobilenet import MobileNet\n",
        "from tensorflow.keras.applications.resnet50 import ResNet50, preprocess_input\n",
        "from tensorflow.keras.optimizers import Adam\n",
        "from keras.applications import InceptionV3\n",
        "sys.version"
      ],
      "execution_count": 5,
      "outputs": [
        {
          "output_type": "execute_result",
          "data": {
            "application/vnd.google.colaboratory.intrinsic+json": {
              "type": "string"
            },
            "text/plain": [
              "'3.6.9 (default, Oct  8 2020, 12:12:24) \\n[GCC 8.4.0]'"
            ]
          },
          "metadata": {
            "tags": []
          },
          "execution_count": 5
        }
      ]
    },
    {
      "cell_type": "code",
      "metadata": {
        "id": "SM_5RRq_bAAp",
        "colab": {
          "base_uri": "https://localhost:8080/"
        },
        "outputId": "72cf71b0-a1ff-4df0-a698-5d190db49f2a"
      },
      "source": [
        "from tensorflow.compat.v1.keras.backend import set_session\n",
        "\n",
        "config = tf.compat.v1.ConfigProto()\n",
        "\n",
        "config.gpu_options.allow_growth = True  # dynamically grow the memory used on the GPU\n",
        "\n",
        "config.log_device_placement = True  # to log device placement (on which device the operation ran)\n",
        "\n",
        "sess = tf.compat.v1.Session(config=config)\n",
        "\n",
        "set_session(sess)"
      ],
      "execution_count": 6,
      "outputs": [
        {
          "output_type": "stream",
          "text": [
            "Device mapping:\n",
            "/job:localhost/replica:0/task:0/device:XLA_CPU:0 -> device: XLA_CPU device\n",
            "/job:localhost/replica:0/task:0/device:XLA_GPU:0 -> device: XLA_GPU device\n",
            "/job:localhost/replica:0/task:0/device:GPU:0 -> device: 0, name: Tesla P100-PCIE-16GB, pci bus id: 0000:00:04.0, compute capability: 6.0\n",
            "\n"
          ],
          "name": "stdout"
        }
      ]
    },
    {
      "cell_type": "code",
      "metadata": {
        "id": "9vm7Vog_bEAP"
      },
      "source": [
        "DATASET_PATH  = 'thaiherb/'\n",
        "IMAGE_SIZE    = (224, 224)\n",
        "NUM_CLASSES   = 10\n",
        "BATCH_SIZE    = 32  # try reducing batch size or freeze more layers if your GPU runs out of memory\n",
        "epochs    = 50"
      ],
      "execution_count": 7,
      "outputs": []
    },
    {
      "cell_type": "code",
      "metadata": {
        "id": "PNu6CAPDbECl"
      },
      "source": [
        "#ทำ aug มาเเล้ว\n",
        "train_datagen = ImageDataGenerator(preprocessing_function=preprocess_input)"
      ],
      "execution_count": 8,
      "outputs": []
    },
    {
      "cell_type": "code",
      "metadata": {
        "id": "jDKsFAH_bEE1",
        "colab": {
          "base_uri": "https://localhost:8080/"
        },
        "outputId": "ee189b9a-eed2-4889-f37b-f4d362b43a6f"
      },
      "source": [
        "#set training data\n",
        "train_generator = train_datagen.flow_from_directory(DATASET_PATH+ r\"train/\",\n",
        "                                                    target_size = IMAGE_SIZE,\n",
        "                                                    batch_size = BATCH_SIZE,\n",
        "                                                    class_mode='categorical',\n",
        "                                                    shuffle = True,\n",
        "                                                    subset='training')"
      ],
      "execution_count": 9,
      "outputs": [
        {
          "output_type": "stream",
          "text": [
            "Found 825 images belonging to 10 classes.\n"
          ],
          "name": "stdout"
        }
      ]
    },
    {
      "cell_type": "code",
      "metadata": {
        "id": "w1nB7VakbG_d",
        "colab": {
          "base_uri": "https://localhost:8080/"
        },
        "outputId": "99cf79e4-ba29-48a5-d689-478508d1a502"
      },
      "source": [
        "valid_datagen = ImageDataGenerator(preprocessing_function=preprocess_input)\n",
        "valid_generator = valid_datagen.flow_from_directory(DATASET_PATH+ r\"val/\",                                      \n",
        "                                                    target_size = IMAGE_SIZE,\n",
        "                                                    batch_size = 1,\n",
        "                                                    class_mode='categorical',\n",
        "                                                    shuffle = True\n",
        "                                                    )"
      ],
      "execution_count": 10,
      "outputs": [
        {
          "output_type": "stream",
          "text": [
            "Found 359 images belonging to 10 classes.\n"
          ],
          "name": "stdout"
        }
      ]
    },
    {
      "cell_type": "markdown",
      "metadata": {
        "id": "5H1qvuqFbNM6"
      },
      "source": [
        "### **Model VGG19**"
      ]
    },
    {
      "cell_type": "code",
      "metadata": {
        "id": "T9TaFF44bHBy",
        "colab": {
          "base_uri": "https://localhost:8080/"
        },
        "outputId": "4ea346dd-bf22-4bae-d4ec-ecc90471fe11"
      },
      "source": [
        "# Include the epoch in the file name (uses `str.format`)\n",
        "checkpoint_path = \"training_VGG19/cp-{epoch:04d}.ckpt\"\n",
        "checkpoint_dir = os.path.dirname(checkpoint_path)\n",
        "\n",
        "# Create a callback that saves the model's weights every 5 epochs\n",
        "cp_callback = tf.keras.callbacks.ModelCheckpoint(\n",
        "    filepath=checkpoint_path, \n",
        "    verbose=1, \n",
        "    save_weights_only=True,\n",
        "    period=10)\n",
        "\n",
        "#Create the model\n",
        "def create_model_from_VGG19():\n",
        "    \"\"\"\n",
        "      use VGG19\n",
        "    \"\"\"\n",
        "    model = VGG19(weights = \"imagenet\", include_top=False, input_tensor=None, input_shape = (224, 224, 3))\n",
        "    \n",
        "    #5 layers เเรก จะไม่ถูกฝึกเนื่องจากใช้วิธีการ freeze ไว้เเล้ว\n",
        "    for layer in model.layers[:1]:\n",
        "      layer.trainable = False\n",
        "      \n",
        "    #ทำการเพิ่ม layers ที่กำหนดขึ้นมาเอง เป็นการปรับเเต่งเพื่อเพิ่มประสิทธิภาพ \n",
        "    x = model.output\n",
        "    x = Flatten()(x)\n",
        "    x = Dense(1024, activation=\"relu\")(x)\n",
        "    x = Dropout(0.5)(x)\n",
        "    x = Dense(1024, activation=\"relu\")(x)\n",
        "    predictions = Dense(NUM_CLASSES, activation=\"softmax\")(x)\n",
        "    \n",
        "    #สร้าง model ชั้นสุดท้ายเพื่อจะนำมา compile\n",
        "    model_VGG19 = Model(inputs = model.input, outputs = predictions)\n",
        "    \n",
        "    model_VGG19.compile(loss='categorical_crossentropy', optimizer=Adam(lr=0.0001), metrics=['accuracy']) # optimizer=RMSprop(lr=0.001)\n",
        "\n",
        "    return model_VGG19\n",
        "\n",
        "    # Save the weights using the `checkpoint_path` format\n",
        "    model_VGG19.save_weights(checkpoint_path.format(epoch=0))"
      ],
      "execution_count": 11,
      "outputs": [
        {
          "output_type": "stream",
          "text": [
            "WARNING:tensorflow:`period` argument is deprecated. Please use `save_freq` to specify the frequency in number of batches seen.\n"
          ],
          "name": "stdout"
        }
      ]
    },
    {
      "cell_type": "code",
      "metadata": {
        "id": "TnKEGJjKbHEL",
        "colab": {
          "base_uri": "https://localhost:8080/"
        },
        "outputId": "6c8c40b3-d6da-4f08-d520-48ea8697139d"
      },
      "source": [
        "model_VGG19 = create_model_from_VGG19()\n",
        "model_VGG19.summary()"
      ],
      "execution_count": 12,
      "outputs": [
        {
          "output_type": "stream",
          "text": [
            "Downloading data from https://storage.googleapis.com/tensorflow/keras-applications/vgg19/vgg19_weights_tf_dim_ordering_tf_kernels_notop.h5\n",
            "80142336/80134624 [==============================] - 1s 0us/step\n",
            "Model: \"functional_1\"\n",
            "_________________________________________________________________\n",
            "Layer (type)                 Output Shape              Param #   \n",
            "=================================================================\n",
            "input_1 (InputLayer)         [(None, 224, 224, 3)]     0         \n",
            "_________________________________________________________________\n",
            "block1_conv1 (Conv2D)        (None, 224, 224, 64)      1792      \n",
            "_________________________________________________________________\n",
            "block1_conv2 (Conv2D)        (None, 224, 224, 64)      36928     \n",
            "_________________________________________________________________\n",
            "block1_pool (MaxPooling2D)   (None, 112, 112, 64)      0         \n",
            "_________________________________________________________________\n",
            "block2_conv1 (Conv2D)        (None, 112, 112, 128)     73856     \n",
            "_________________________________________________________________\n",
            "block2_conv2 (Conv2D)        (None, 112, 112, 128)     147584    \n",
            "_________________________________________________________________\n",
            "block2_pool (MaxPooling2D)   (None, 56, 56, 128)       0         \n",
            "_________________________________________________________________\n",
            "block3_conv1 (Conv2D)        (None, 56, 56, 256)       295168    \n",
            "_________________________________________________________________\n",
            "block3_conv2 (Conv2D)        (None, 56, 56, 256)       590080    \n",
            "_________________________________________________________________\n",
            "block3_conv3 (Conv2D)        (None, 56, 56, 256)       590080    \n",
            "_________________________________________________________________\n",
            "block3_conv4 (Conv2D)        (None, 56, 56, 256)       590080    \n",
            "_________________________________________________________________\n",
            "block3_pool (MaxPooling2D)   (None, 28, 28, 256)       0         \n",
            "_________________________________________________________________\n",
            "block4_conv1 (Conv2D)        (None, 28, 28, 512)       1180160   \n",
            "_________________________________________________________________\n",
            "block4_conv2 (Conv2D)        (None, 28, 28, 512)       2359808   \n",
            "_________________________________________________________________\n",
            "block4_conv3 (Conv2D)        (None, 28, 28, 512)       2359808   \n",
            "_________________________________________________________________\n",
            "block4_conv4 (Conv2D)        (None, 28, 28, 512)       2359808   \n",
            "_________________________________________________________________\n",
            "block4_pool (MaxPooling2D)   (None, 14, 14, 512)       0         \n",
            "_________________________________________________________________\n",
            "block5_conv1 (Conv2D)        (None, 14, 14, 512)       2359808   \n",
            "_________________________________________________________________\n",
            "block5_conv2 (Conv2D)        (None, 14, 14, 512)       2359808   \n",
            "_________________________________________________________________\n",
            "block5_conv3 (Conv2D)        (None, 14, 14, 512)       2359808   \n",
            "_________________________________________________________________\n",
            "block5_conv4 (Conv2D)        (None, 14, 14, 512)       2359808   \n",
            "_________________________________________________________________\n",
            "block5_pool (MaxPooling2D)   (None, 7, 7, 512)         0         \n",
            "_________________________________________________________________\n",
            "flatten (Flatten)            (None, 25088)             0         \n",
            "_________________________________________________________________\n",
            "dense (Dense)                (None, 1024)              25691136  \n",
            "_________________________________________________________________\n",
            "dropout (Dropout)            (None, 1024)              0         \n",
            "_________________________________________________________________\n",
            "dense_1 (Dense)              (None, 1024)              1049600   \n",
            "_________________________________________________________________\n",
            "dense_2 (Dense)              (None, 10)                10250     \n",
            "=================================================================\n",
            "Total params: 46,775,370\n",
            "Trainable params: 46,775,370\n",
            "Non-trainable params: 0\n",
            "_________________________________________________________________\n"
          ],
          "name": "stdout"
        }
      ]
    },
    {
      "cell_type": "code",
      "metadata": {
        "id": "HqpePAyfbHGf",
        "colab": {
          "base_uri": "https://localhost:8080/"
        },
        "outputId": "afaa76dd-3161-41ed-d04a-4de661e0cbe3"
      },
      "source": [
        "start = time.time()\n",
        "\n",
        "history = model_VGG19.fit_generator(\n",
        "    generator=train_generator, \n",
        "    steps_per_epoch=train_generator.samples//BATCH_SIZE,   # -> 106 # images 3392 = steps * batch_size = 106 * 32 \n",
        "    epochs=epochs, \n",
        "    validation_steps=valid_generator.samples//BATCH_SIZE, # -> 26 # images 832 = steps * batch_size = 26 * 32\n",
        "    validation_data=valid_generator,\n",
        "    callbacks = [cp_callback],\n",
        "    verbose = 1\n",
        ")\n",
        "\n",
        "end = time.time()\n",
        "duration = end - start\n",
        "print ('\\n model_VGG19 took %0.2f seconds (%0.1f minutes) to train for %d epochs'%(duration, duration/60, epochs) )"
      ],
      "execution_count": 13,
      "outputs": [
        {
          "output_type": "stream",
          "text": [
            "WARNING:tensorflow:From <ipython-input-13-7dcb0c81179e>:10: Model.fit_generator (from tensorflow.python.keras.engine.training) is deprecated and will be removed in a future version.\n",
            "Instructions for updating:\n",
            "Please use Model.fit, which supports generators.\n",
            "Epoch 1/50\n",
            " 2/25 [=>............................] - ETA: 2s - loss: 6.4700 - accuracy: 0.1406WARNING:tensorflow:Callbacks method `on_train_batch_end` is slow compared to the batch time (batch time: 0.0811s vs `on_train_batch_end` time: 0.1645s). Check your callbacks.\n",
            "25/25 [==============================] - 8s 317ms/step - loss: 2.6305 - accuracy: 0.1513 - val_loss: 2.2763 - val_accuracy: 0.0000e+00\n",
            "Epoch 2/50\n",
            "25/25 [==============================] - 6s 248ms/step - loss: 2.2471 - accuracy: 0.1463 - val_loss: 1.9423 - val_accuracy: 0.2727\n",
            "Epoch 3/50\n",
            "25/25 [==============================] - 6s 248ms/step - loss: 1.9852 - accuracy: 0.2749 - val_loss: 1.6314 - val_accuracy: 0.4545\n",
            "Epoch 4/50\n",
            "25/25 [==============================] - 6s 247ms/step - loss: 1.6971 - accuracy: 0.3960 - val_loss: 0.9863 - val_accuracy: 0.6364\n",
            "Epoch 5/50\n",
            "25/25 [==============================] - 6s 247ms/step - loss: 1.1109 - accuracy: 0.5990 - val_loss: 0.5843 - val_accuracy: 0.8182\n",
            "Epoch 6/50\n",
            "25/25 [==============================] - 6s 247ms/step - loss: 0.6759 - accuracy: 0.7730 - val_loss: 0.9144 - val_accuracy: 0.5455\n",
            "Epoch 7/50\n",
            "25/25 [==============================] - 6s 249ms/step - loss: 0.7059 - accuracy: 0.7856 - val_loss: 0.4830 - val_accuracy: 0.9091\n",
            "Epoch 8/50\n",
            "25/25 [==============================] - 6s 246ms/step - loss: 0.5936 - accuracy: 0.8071 - val_loss: 0.5206 - val_accuracy: 0.7273\n",
            "Epoch 9/50\n",
            "25/25 [==============================] - 6s 247ms/step - loss: 0.4212 - accuracy: 0.8588 - val_loss: 0.3358 - val_accuracy: 0.9091\n",
            "Epoch 10/50\n",
            "25/25 [==============================] - ETA: 0s - loss: 0.2224 - accuracy: 0.9269\n",
            "Epoch 00010: saving model to training_VGG19/cp-0010.ckpt\n",
            "25/25 [==============================] - 8s 324ms/step - loss: 0.2224 - accuracy: 0.9269 - val_loss: 0.5912 - val_accuracy: 0.9091\n",
            "Epoch 11/50\n",
            "25/25 [==============================] - 6s 247ms/step - loss: 0.3131 - accuracy: 0.8991 - val_loss: 0.0862 - val_accuracy: 0.9091\n",
            "Epoch 12/50\n",
            "25/25 [==============================] - 6s 246ms/step - loss: 0.1340 - accuracy: 0.9596 - val_loss: 0.0278 - val_accuracy: 1.0000\n",
            "Epoch 13/50\n",
            "25/25 [==============================] - 6s 248ms/step - loss: 0.1486 - accuracy: 0.9445 - val_loss: 0.9942 - val_accuracy: 0.7273\n",
            "Epoch 14/50\n",
            "25/25 [==============================] - 6s 246ms/step - loss: 0.0864 - accuracy: 0.9735 - val_loss: 0.0012 - val_accuracy: 1.0000\n",
            "Epoch 15/50\n",
            "25/25 [==============================] - 6s 247ms/step - loss: 0.0255 - accuracy: 0.9924 - val_loss: 0.2657 - val_accuracy: 0.9091\n",
            "Epoch 16/50\n",
            "25/25 [==============================] - 6s 247ms/step - loss: 0.0215 - accuracy: 0.9924 - val_loss: 0.4412 - val_accuracy: 0.8182\n",
            "Epoch 17/50\n",
            "25/25 [==============================] - 6s 247ms/step - loss: 0.2217 - accuracy: 0.9395 - val_loss: 0.0847 - val_accuracy: 1.0000\n",
            "Epoch 18/50\n",
            "25/25 [==============================] - 6s 247ms/step - loss: 0.1370 - accuracy: 0.9584 - val_loss: 0.2914 - val_accuracy: 0.9091\n",
            "Epoch 19/50\n",
            "25/25 [==============================] - 6s 248ms/step - loss: 0.0310 - accuracy: 0.9899 - val_loss: 0.1854 - val_accuracy: 0.9091\n",
            "Epoch 20/50\n",
            "25/25 [==============================] - ETA: 0s - loss: 0.0876 - accuracy: 0.9735\n",
            "Epoch 00020: saving model to training_VGG19/cp-0020.ckpt\n",
            "25/25 [==============================] - 8s 316ms/step - loss: 0.0876 - accuracy: 0.9735 - val_loss: 0.9916 - val_accuracy: 0.7273\n",
            "Epoch 21/50\n",
            "25/25 [==============================] - 6s 248ms/step - loss: 0.2447 - accuracy: 0.9306 - val_loss: 0.2057 - val_accuracy: 0.9091\n",
            "Epoch 22/50\n",
            "25/25 [==============================] - 6s 248ms/step - loss: 0.0802 - accuracy: 0.9798 - val_loss: 0.5470 - val_accuracy: 0.9091\n",
            "Epoch 23/50\n",
            "25/25 [==============================] - 6s 247ms/step - loss: 0.0614 - accuracy: 0.9773 - val_loss: 0.0792 - val_accuracy: 1.0000\n",
            "Epoch 24/50\n",
            "25/25 [==============================] - 6s 247ms/step - loss: 0.1450 - accuracy: 0.9571 - val_loss: 0.0098 - val_accuracy: 1.0000\n",
            "Epoch 25/50\n",
            "25/25 [==============================] - 6s 248ms/step - loss: 0.0538 - accuracy: 0.9787 - val_loss: 0.1284 - val_accuracy: 1.0000\n",
            "Epoch 26/50\n",
            "25/25 [==============================] - 6s 246ms/step - loss: 0.0245 - accuracy: 0.9912 - val_loss: 0.3039 - val_accuracy: 0.9091\n",
            "Epoch 27/50\n",
            "25/25 [==============================] - 6s 247ms/step - loss: 0.0150 - accuracy: 0.9950 - val_loss: 0.0020 - val_accuracy: 1.0000\n",
            "Epoch 28/50\n",
            "25/25 [==============================] - 6s 247ms/step - loss: 0.0028 - accuracy: 1.0000 - val_loss: 0.0033 - val_accuracy: 1.0000\n",
            "Epoch 29/50\n",
            "25/25 [==============================] - 6s 247ms/step - loss: 4.1675e-04 - accuracy: 1.0000 - val_loss: 0.2121 - val_accuracy: 0.9091\n",
            "Epoch 30/50\n",
            "25/25 [==============================] - ETA: 0s - loss: 2.0277e-04 - accuracy: 1.0000\n",
            "Epoch 00030: saving model to training_VGG19/cp-0030.ckpt\n",
            "25/25 [==============================] - 8s 318ms/step - loss: 2.0277e-04 - accuracy: 1.0000 - val_loss: 0.1718 - val_accuracy: 0.9091\n",
            "Epoch 31/50\n",
            "25/25 [==============================] - 6s 247ms/step - loss: 3.2782e-04 - accuracy: 1.0000 - val_loss: 9.8832e-06 - val_accuracy: 1.0000\n",
            "Epoch 32/50\n",
            "25/25 [==============================] - 6s 248ms/step - loss: 2.0784e-04 - accuracy: 1.0000 - val_loss: 9.0814e-05 - val_accuracy: 1.0000\n",
            "Epoch 33/50\n",
            "25/25 [==============================] - 6s 248ms/step - loss: 1.4966e-04 - accuracy: 1.0000 - val_loss: 0.0048 - val_accuracy: 1.0000\n",
            "Epoch 34/50\n",
            "25/25 [==============================] - 6s 247ms/step - loss: 1.3167e-04 - accuracy: 1.0000 - val_loss: 1.0029 - val_accuracy: 0.8182\n",
            "Epoch 35/50\n",
            "25/25 [==============================] - 6s 247ms/step - loss: 1.6463e-04 - accuracy: 1.0000 - val_loss: 0.0929 - val_accuracy: 1.0000\n",
            "Epoch 36/50\n",
            "25/25 [==============================] - 6s 248ms/step - loss: 8.2764e-05 - accuracy: 1.0000 - val_loss: 0.2665 - val_accuracy: 0.9091\n",
            "Epoch 37/50\n",
            "25/25 [==============================] - 6s 248ms/step - loss: 2.7574e-04 - accuracy: 1.0000 - val_loss: 0.1012 - val_accuracy: 0.9091\n",
            "Epoch 38/50\n",
            "25/25 [==============================] - 6s 247ms/step - loss: 1.1814e-04 - accuracy: 1.0000 - val_loss: 5.2559e-06 - val_accuracy: 1.0000\n",
            "Epoch 39/50\n",
            "25/25 [==============================] - 6s 247ms/step - loss: 0.0193 - accuracy: 0.9924 - val_loss: 0.0141 - val_accuracy: 1.0000\n",
            "Epoch 40/50\n",
            "25/25 [==============================] - ETA: 0s - loss: 0.1726 - accuracy: 0.9407\n",
            "Epoch 00040: saving model to training_VGG19/cp-0040.ckpt\n",
            "25/25 [==============================] - 8s 319ms/step - loss: 0.1726 - accuracy: 0.9407 - val_loss: 0.3499 - val_accuracy: 0.9091\n",
            "Epoch 41/50\n",
            "25/25 [==============================] - 6s 247ms/step - loss: 0.1261 - accuracy: 0.9672 - val_loss: 0.4117 - val_accuracy: 0.8182\n",
            "Epoch 42/50\n",
            "25/25 [==============================] - 6s 248ms/step - loss: 0.0257 - accuracy: 0.9924 - val_loss: 0.2587 - val_accuracy: 0.9091\n",
            "Epoch 43/50\n",
            "25/25 [==============================] - 6s 248ms/step - loss: 0.0208 - accuracy: 0.9924 - val_loss: 0.4726 - val_accuracy: 0.9091\n",
            "Epoch 44/50\n",
            "25/25 [==============================] - 6s 249ms/step - loss: 0.0348 - accuracy: 0.9887 - val_loss: 1.2502 - val_accuracy: 0.8182\n",
            "Epoch 45/50\n",
            "25/25 [==============================] - 6s 248ms/step - loss: 0.0604 - accuracy: 0.9787 - val_loss: 0.9930 - val_accuracy: 0.8182\n",
            "Epoch 46/50\n",
            "25/25 [==============================] - 6s 249ms/step - loss: 0.0261 - accuracy: 0.9912 - val_loss: 0.0305 - val_accuracy: 1.0000\n",
            "Epoch 47/50\n",
            "25/25 [==============================] - 6s 246ms/step - loss: 0.0459 - accuracy: 0.9899 - val_loss: 0.0074 - val_accuracy: 1.0000\n",
            "Epoch 48/50\n",
            "25/25 [==============================] - 6s 247ms/step - loss: 0.0733 - accuracy: 0.9773 - val_loss: 0.0069 - val_accuracy: 1.0000\n",
            "Epoch 49/50\n",
            "25/25 [==============================] - 6s 249ms/step - loss: 0.1726 - accuracy: 0.9508 - val_loss: 0.2032 - val_accuracy: 0.9091\n",
            "Epoch 50/50\n",
            "25/25 [==============================] - ETA: 0s - loss: 0.0544 - accuracy: 0.9849\n",
            "Epoch 00050: saving model to training_VGG19/cp-0050.ckpt\n",
            "25/25 [==============================] - 8s 315ms/step - loss: 0.0544 - accuracy: 0.9849 - val_loss: 0.0868 - val_accuracy: 0.9091\n",
            "\n",
            " model_VGG19 took 337.59 seconds (5.6 minutes) to train for 50 epochs\n"
          ],
          "name": "stdout"
        }
      ]
    },
    {
      "cell_type": "markdown",
      "metadata": {
        "id": "UIrhE3LMcsBU"
      },
      "source": [
        "###**ขั้นตอนการ Save file Model เเละ Json**"
      ]
    },
    {
      "cell_type": "code",
      "metadata": {
        "id": "5jkhbODRb0RH"
      },
      "source": [
        "#เปลี่ยนชื่อไฟล์ทุกครั้งเวลา SAVE\n",
        "model_VGG19.save('/content/drive/My Drive/Final Project/Dataset-Lab/Original/saved_model/model-vgg19(lastest).h5') #ดูจำนวนรอบที่เทรนด้วยว่าทั้งหมดกี่รอบจริงๆเเล้ว\n",
        "model_VGG19.save_weights('/content/drive/My Drive/Final Project/Dataset-Lab/Original/saved_model/weightmodel-vgg19.h5')"
      ],
      "execution_count": null,
      "outputs": []
    },
    {
      "cell_type": "code",
      "metadata": {
        "id": "RUbahazNckQo"
      },
      "source": [
        "#Import dependencies\n",
        "!mkdir jsonfile\n",
        "import json\n",
        "from keras.models import model_from_json, load_model\n",
        "with open('jsonfile/model_VGG19.json', 'w') as f:\n",
        "    f.write(model_VGG19.to_json())\n",
        "print(\"Saved model success\")"
      ],
      "execution_count": null,
      "outputs": []
    },
    {
      "cell_type": "markdown",
      "metadata": {
        "id": "ctXhsc5pc-5N"
      },
      "source": [
        "###**เเสดงกราฟข้อมูลค่าความเเม่นยำเเละค่าความสูญเสีย Training เเละ Validation**"
      ]
    },
    {
      "cell_type": "code",
      "metadata": {
        "id": "k8UxPxbZdNzR",
        "colab": {
          "base_uri": "https://localhost:8080/",
          "height": 299
        },
        "outputId": "330d9bdf-5355-4b1b-e774-a2bca96f073d"
      },
      "source": [
        "import matplotlib.pyplot as plt\n",
        "\n",
        "acc = model_VGG19.history.history['accuracy']\n",
        "val_acc = model_VGG19.history.history['val_accuracy']\n",
        "\n",
        "loss= model_VGG19.history.history['loss']\n",
        "val_loss= model_VGG19.history.history['val_loss']\n",
        "\n",
        "\n",
        "plt.style.use(\"ggplot\")\n",
        "#  \"Accuracy\"\n",
        "plt.figure(figsize=(15, 4))\n",
        "plt.subplot(1, 2, 1)\n",
        "plt.plot(acc, label='Training Accuracy')\n",
        "plt.plot(val_acc, label='Validation Accuracy')\n",
        "plt.legend(loc='lower right')\n",
        "plt.title('Training and Validation Accuracy')\n",
        "plt.ylabel('accuracy')\n",
        "plt.xlabel('epochs')\n",
        "#  \"Loss\"\n",
        "plt.subplot(1, 2, 2)\n",
        "plt.plot(loss, label='Training Loss')\n",
        "plt.plot(val_loss, label='Validation Loss')\n",
        "plt.legend(loc='upper right')\n",
        "plt.title('Training and Validation Loss')\n",
        "plt.ylabel('loss')\n",
        "plt.xlabel('epochs')\n",
        "plt.show()"
      ],
      "execution_count": 15,
      "outputs": [
        {
          "output_type": "display_data",
          "data": {
            "image/png": "[encoded data removed]",
            "text/plain": [
              "<Figure size 1080x288 with 2 Axes>"
            ]
          },
          "metadata": {
            "tags": []
          }
        }
      ]
    },
    {
      "cell_type": "markdown",
      "metadata": {
        "id": "m0m3J0nidxqf"
      },
      "source": [
        "###**จุด Checkpoint**"
      ]
    },
    {
      "cell_type": "code",
      "metadata": {
        "id": "CjjRM_w0eE5D",
        "colab": {
          "base_uri": "https://localhost:8080/",
          "height": 35
        },
        "outputId": "0698590a-85fb-4927-ce04-9db3752a4e42"
      },
      "source": [
        "latest = tf.train.latest_checkpoint(checkpoint_dir)\n",
        "latest"
      ],
      "execution_count": 16,
      "outputs": [
        {
          "output_type": "execute_result",
          "data": {
            "application/vnd.google.colaboratory.intrinsic+json": {
              "type": "string"
            },
            "text/plain": [
              "'training_VGG19/cp-0050.ckpt'"
            ]
          },
          "metadata": {
            "tags": []
          },
          "execution_count": 16
        }
      ]
    },
    {
      "cell_type": "code",
      "metadata": {
        "id": "IBO8Q9Q4eE7E",
        "colab": {
          "base_uri": "https://localhost:8080/"
        },
        "outputId": "cae6c282-c7aa-4625-c0af-55549f0fbabc"
      },
      "source": [
        "# Load the previously saved weights\n",
        "model_VGG19.load_weights(latest)\n",
        "\n",
        "# Re-evaluate the model\n",
        "loss, acc = model_VGG19.evaluate(valid_generator, verbose=2)\n",
        "print(\"Restored model, accuracy: {:5.2f}%\".format(100*acc))"
      ],
      "execution_count": 19,
      "outputs": [
        {
          "output_type": "stream",
          "text": [
            "359/359 - 3s - loss: 0.5102 - accuracy: 0.9053\n",
            "Restored model, accuracy: 90.53%\n"
          ],
          "name": "stdout"
        }
      ]
    },
    {
      "cell_type": "markdown",
      "metadata": {
        "id": "hOnDw5WeeNXc"
      },
      "source": [
        "###**Save model อีกเเบบเพื่อนำไปเเปลงเป็น TensorflwLite**"
      ]
    },
    {
      "cell_type": "code",
      "metadata": {
        "id": "WCKmhkZ2eVSt",
        "colab": {
          "base_uri": "https://localhost:8080/"
        },
        "outputId": "5b0b0d3a-179d-4843-f0d2-f916d231744d"
      },
      "source": [
        "# Save the entire model as a SavedModel.\n",
        "model_VGG19.save('saved_model/my_model') "
      ],
      "execution_count": 17,
      "outputs": [
        {
          "output_type": "stream",
          "text": [
            "WARNING:tensorflow:From /usr/local/lib/python3.6/dist-packages/tensorflow/python/training/tracking/tracking.py:111: Model.state_updates (from tensorflow.python.keras.engine.training) is deprecated and will be removed in a future version.\n",
            "Instructions for updating:\n",
            "This property should not be used in TensorFlow 2.0, as updates are applied automatically.\n",
            "WARNING:tensorflow:From /usr/local/lib/python3.6/dist-packages/tensorflow/python/training/tracking/tracking.py:111: Layer.updates (from tensorflow.python.keras.engine.base_layer) is deprecated and will be removed in a future version.\n",
            "Instructions for updating:\n",
            "This property should not be used in TensorFlow 2.0, as updates are applied automatically.\n",
            "INFO:tensorflow:Assets written to: saved_model/my_model/assets\n"
          ],
          "name": "stdout"
        }
      ]
    },
    {
      "cell_type": "code",
      "metadata": {
        "id": "UiTau3PReVU1"
      },
      "source": [
        "model= tf.keras.models.load_model('saved_model/my_model')\n",
        "tflite_converter = tf.lite.TFLiteConverter.from_keras_model(model)\n",
        "tflite_model = tflite_converter.convert()\n",
        "open(\"tf_lite_model(200epochsvgg19).tflite\", \"wb\").write(tflite_model) "
      ],
      "execution_count": null,
      "outputs": []
    },
    {
      "cell_type": "markdown",
      "metadata": {
        "id": "Y7P6p0lzeq7g"
      },
      "source": [
        "###**ขั้นตอนของ Prediction เเบบบ Confusion Matrix**"
      ]
    },
    {
      "cell_type": "code",
      "metadata": {
        "id": "tA579sRAeVXH",
        "colab": {
          "base_uri": "https://localhost:8080/",
          "height": 352
        },
        "outputId": "0f2af8d8-65ae-4610-ed1e-b348aaa9ddc1"
      },
      "source": [
        "import seaborn as sn\n",
        "import pandas as pd\n",
        "\n",
        "model = tf.keras.models.load_model('saved_model/my_model')\n",
        "filenames = valid_generator.filenames\n",
        "nb_samples = len(valid_generator)\n",
        "y_prob=[]\n",
        "y_act=[]\n",
        "valid_generator.reset()\n",
        "for _ in range(nb_samples):\n",
        "    x_test, y_test = valid_generator.next()\n",
        "    y_prob.append(model.predict(x_test))\n",
        "    y_act.append(y_test)\n",
        "\n",
        "\n",
        "predicted_class = [list(train_generator.class_indices.keys())[i.argmax()] for i in y_prob]\n",
        "actual_class = [list(valid_generator.class_indices.keys())[i.argmax()] for i in y_act]\n",
        "\n",
        "out_df = pd.DataFrame(np.vstack([predicted_class,actual_class]).T,columns=['predicted_class', 'actual_class'])\n",
        "confusion_matrix = pd.crosstab(out_df['actual_class'],out_df['predicted_class'], rownames=['Actual'], colnames=['Predicted'])\n",
        "\n",
        "sn.heatmap(confusion_matrix, cmap='Blues', annot= True, fmt='d')\n",
        "plt.show()\n",
        "print('test accuracy : {}'.format((np.diagonal(confusion_matrix).sum()/confusion_matrix.sum().sum()*100)))"
      ],
      "execution_count": 18,
      "outputs": [
        {
          "output_type": "display_data",
          "data": {
            "image/png": "[encoded data removed]",
            "text/plain": [
              "<Figure size 432x288 with 2 Axes>"
            ]
          },
          "metadata": {
            "tags": []
          }
        },
        {
          "output_type": "stream",
          "text": [
            "test accuracy : 90.5292479108635\n"
          ],
          "name": "stdout"
        }
      ]
    },
    {
      "cell_type": "code",
      "metadata": {
        "id": "lvgpWgtkMn4g"
      },
      "source": [
        ""
      ],
      "execution_count": null,
      "outputs": []
    }
  ]
}