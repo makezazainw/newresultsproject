{
  "nbformat": 4,
  "nbformat_minor": 0,
  "metadata": {
    "colab": {
      "name": "Original MobileNet.ipynb",
      "provenance": [],
      "collapsed_sections": [],
      "toc_visible": true,
      "mount_file_id": "1osUluB3gppyVbuLL_wvtwTXittOO6UHP",
      "authorship_tag": "ABX9TyMsrl9rfIMaOUKwrsQJkhKJ",
      "include_colab_link": true
    },
    "kernelspec": {
      "name": "python3",
      "display_name": "Python 3"
    },
    "accelerator": "GPU"
  },
  "cells": [
    {
      "cell_type": "markdown",
      "metadata": {
        "id": "view-in-github",
        "colab_type": "text"
      },
      "source": [
        "<a href=\"https://colab.research.google.com/github/makezazainw/newresultsproject/blob/main/Original_MobileNet.ipynb\" target=\"_parent\"><img src=\"https://colab.research.google.com/assets/colab-badge.svg\" alt=\"Open In Colab\"/></a>"
      ]
    },
    {
      "cell_type": "markdown",
      "metadata": {
        "id": "mew3lwAMaXDH"
      },
      "source": [
        "### **ติดตั้ง Kaggle เเละ เรียกใช้ไฟล์ json เพื่อติดต่อใช้ dataset ใน kaggle**"
      ]
    },
    {
      "cell_type": "code",
      "metadata": {
        "id": "Y5m_qIXOabnO",
        "colab": {
          "base_uri": "https://localhost:8080/"
        },
        "outputId": "9bc773fe-6411-42f9-9831-185299d08a28"
      },
      "source": [
        "# Install Kaggle API\n",
        "!pip install -q kaggle\n",
        "!pip install -q kaggle-cli"
      ],
      "execution_count": 1,
      "outputs": [
        {
          "output_type": "stream",
          "text": [
            "\u001b[K     |████████████████████████████████| 81kB 8.3MB/s \n",
            "\u001b[K     |████████████████████████████████| 5.3MB 19.8MB/s \n",
            "\u001b[K     |████████████████████████████████| 51kB 9.0MB/s \n",
            "\u001b[K     |████████████████████████████████| 112kB 56.7MB/s \n",
            "\u001b[K     |████████████████████████████████| 133kB 52.9MB/s \n",
            "\u001b[?25h  Building wheel for kaggle-cli (setup.py) ... \u001b[?25l\u001b[?25hdone\n",
            "  Building wheel for PrettyTable (setup.py) ... \u001b[?25l\u001b[?25hdone\n",
            "  Building wheel for pyperclip (setup.py) ... \u001b[?25l\u001b[?25hdone\n"
          ],
          "name": "stdout"
        }
      ]
    },
    {
      "cell_type": "code",
      "metadata": {
        "id": "a_kkUe3valvy"
      },
      "source": [
        "# only for google colab\n",
        "import os\n",
        "os.environ['KAGGLE_USERNAME'] = \"thammatattantipitham\" \n",
        "os.environ['KAGGLE_KEY'] = \"3cf826ab97707228fb1602519992740b\""
      ],
      "execution_count": 2,
      "outputs": []
    },
    {
      "cell_type": "code",
      "metadata": {
        "id": "jtsvYa8manW1",
        "colab": {
          "base_uri": "https://localhost:8080/"
        },
        "outputId": "97eaae07-2237-4dd0-a1f2-485d998beb34"
      },
      "source": [
        "!kaggle datasets download -d thammatattantipitham/thaiherb --unzip"
      ],
      "execution_count": 3,
      "outputs": [
        {
          "output_type": "stream",
          "text": [
            "Downloading thaiherb.zip to /content\n",
            " 90% 33.0M/36.8M [00:02<00:00, 7.81MB/s]\n",
            "100% 36.8M/36.8M [00:02<00:00, 15.6MB/s]\n"
          ],
          "name": "stdout"
        }
      ]
    },
    {
      "cell_type": "code",
      "metadata": {
        "id": "Ihulub6paq8a"
      },
      "source": [
        "#สร้างไฟล์ folder ขึ้นมาเเละเพิ่มข้อมูลเข้าไปใน folder\n",
        "!mkdir thaiherb\n",
        "!mv  \"train\" \"val\" thaiherb"
      ],
      "execution_count": 4,
      "outputs": []
    },
    {
      "cell_type": "markdown",
      "metadata": {
        "id": "yUU4GFLxa2pv"
      },
      "source": [
        "### **เริ่มต้นการ import library ต่างๆเเละการเรียกใช้ไฟล์**\n"
      ]
    },
    {
      "cell_type": "code",
      "metadata": {
        "id": "08sp2eppa_-2",
        "colab": {
          "base_uri": "https://localhost:8080/",
          "height": 35
        },
        "outputId": "38bdb47e-f032-4bed-9993-c7c8464e547a"
      },
      "source": [
        "import sys\n",
        "import time\n",
        "import cv2\n",
        "import numpy as np\n",
        "from matplotlib import pyplot as plt\n",
        "import tensorflow as tf\n",
        "import os\n",
        "import keras\n",
        "\n",
        "from skimage.transform import resize\n",
        "from sklearn.model_selection import train_test_split\n",
        "\n",
        "from tensorflow.python.keras.utils import np_utils\n",
        "from tensorflow.python.keras.models import Sequential, Model\n",
        "from tensorflow.python.keras.layers import Dense, Dropout, Flatten, Activation, BatchNormalization\n",
        "from tensorflow.python.keras.layers.convolutional import Conv2D, MaxPooling2D, AveragePooling2D\n",
        "from tensorflow.python.keras.preprocessing.image import ImageDataGenerator\n",
        "from tensorflow.python.keras.optimizers import RMSprop\n",
        "from tensorflow.python.keras.applications.vgg19 import VGG19\n",
        "from tensorflow.python.keras.applications.mobilenet import MobileNet\n",
        "from tensorflow.keras.applications.resnet50 import ResNet50, preprocess_input\n",
        "from tensorflow.keras.optimizers import Adam\n",
        "from keras.applications import InceptionV3\n",
        "sys.version"
      ],
      "execution_count": 5,
      "outputs": [
        {
          "output_type": "execute_result",
          "data": {
            "application/vnd.google.colaboratory.intrinsic+json": {
              "type": "string"
            },
            "text/plain": [
              "'3.6.9 (default, Oct  8 2020, 12:12:24) \\n[GCC 8.4.0]'"
            ]
          },
          "metadata": {
            "tags": []
          },
          "execution_count": 5
        }
      ]
    },
    {
      "cell_type": "code",
      "metadata": {
        "id": "SM_5RRq_bAAp",
        "colab": {
          "base_uri": "https://localhost:8080/"
        },
        "outputId": "54b8948b-cf12-4a35-e26c-c38e9ef9d795"
      },
      "source": [
        "from tensorflow.compat.v1.keras.backend import set_session\n",
        "\n",
        "config = tf.compat.v1.ConfigProto()\n",
        "\n",
        "config.gpu_options.allow_growth = True  # dynamically grow the memory used on the GPU\n",
        "\n",
        "config.log_device_placement = True  # to log device placement (on which device the operation ran)\n",
        "\n",
        "sess = tf.compat.v1.Session(config=config)\n",
        "\n",
        "set_session(sess)"
      ],
      "execution_count": 6,
      "outputs": [
        {
          "output_type": "stream",
          "text": [
            "Device mapping:\n",
            "/job:localhost/replica:0/task:0/device:XLA_CPU:0 -> device: XLA_CPU device\n",
            "/job:localhost/replica:0/task:0/device:XLA_GPU:0 -> device: XLA_GPU device\n",
            "/job:localhost/replica:0/task:0/device:GPU:0 -> device: 0, name: Tesla P100-PCIE-16GB, pci bus id: 0000:00:04.0, compute capability: 6.0\n",
            "\n"
          ],
          "name": "stdout"
        }
      ]
    },
    {
      "cell_type": "code",
      "metadata": {
        "id": "9vm7Vog_bEAP"
      },
      "source": [
        "DATASET_PATH  = 'thaiherb/'\n",
        "IMAGE_SIZE    = (224, 224)\n",
        "NUM_CLASSES   = 10\n",
        "BATCH_SIZE    = 32  # try reducing batch size or freeze more layers if your GPU runs out of memory\n",
        "epochs    = 50"
      ],
      "execution_count": 7,
      "outputs": []
    },
    {
      "cell_type": "code",
      "metadata": {
        "id": "PNu6CAPDbECl"
      },
      "source": [
        "#ทำ aug มาเเล้ว\n",
        "train_datagen = ImageDataGenerator(preprocessing_function=preprocess_input)"
      ],
      "execution_count": 8,
      "outputs": []
    },
    {
      "cell_type": "code",
      "metadata": {
        "id": "jDKsFAH_bEE1",
        "colab": {
          "base_uri": "https://localhost:8080/"
        },
        "outputId": "90c09ae1-27f7-41f9-f78c-8ff62dd65a8a"
      },
      "source": [
        "#set training data\n",
        "train_generator = train_datagen.flow_from_directory(DATASET_PATH+ r\"train/\",\n",
        "                                                    target_size = IMAGE_SIZE,\n",
        "                                                    batch_size = BATCH_SIZE,\n",
        "                                                    class_mode='categorical',\n",
        "                                                    shuffle = True,\n",
        "                                                    subset='training')"
      ],
      "execution_count": 9,
      "outputs": [
        {
          "output_type": "stream",
          "text": [
            "Found 825 images belonging to 10 classes.\n"
          ],
          "name": "stdout"
        }
      ]
    },
    {
      "cell_type": "code",
      "metadata": {
        "id": "w1nB7VakbG_d",
        "colab": {
          "base_uri": "https://localhost:8080/"
        },
        "outputId": "9811cb20-fbe7-401f-bcb9-e681bd24e679"
      },
      "source": [
        "valid_datagen = ImageDataGenerator(preprocessing_function=preprocess_input)\n",
        "valid_generator = valid_datagen.flow_from_directory(DATASET_PATH+ r\"val/\",                                      \n",
        "                                                    target_size = IMAGE_SIZE,\n",
        "                                                    batch_size = 1,\n",
        "                                                    class_mode='categorical',\n",
        "                                                    shuffle = True\n",
        "                                                    )"
      ],
      "execution_count": 10,
      "outputs": [
        {
          "output_type": "stream",
          "text": [
            "Found 359 images belonging to 10 classes.\n"
          ],
          "name": "stdout"
        }
      ]
    },
    {
      "cell_type": "markdown",
      "metadata": {
        "id": "5H1qvuqFbNM6"
      },
      "source": [
        "### **Model MobileNet**"
      ]
    },
    {
      "cell_type": "code",
      "metadata": {
        "id": "T9TaFF44bHBy",
        "colab": {
          "base_uri": "https://localhost:8080/"
        },
        "outputId": "b4a8fe41-0397-4fc2-d054-50295a38fe2a"
      },
      "source": [
        "# Include the epoch in the file name (uses `str.format`)\n",
        "checkpoint_path = \"training_MobNet/cp-{epoch:04d}.ckpt\"\n",
        "checkpoint_dir = os.path.dirname(checkpoint_path)\n",
        "\n",
        "# Create a callback that saves the model's weights every 5 epochs\n",
        "cp_callback = tf.keras.callbacks.ModelCheckpoint(\n",
        "    filepath=checkpoint_path, \n",
        "    verbose=1, \n",
        "    save_weights_only=True,\n",
        "    period=10)\n",
        "\n",
        "#Create the model\n",
        "base_MobNet = MobileNet(include_top=False,weights='imagenet',input_shape=(IMAGE_SIZE[0],IMAGE_SIZE[1],3))\n",
        "\n",
        "model_mobnet = Sequential()\n",
        "model_mobnet.add(base_MobNet) \n",
        "model_mobnet.add(Flatten()) \n",
        "model_mobnet.add(Dense(512,activation=('relu'),input_dim=64))\n",
        "model_mobnet.add(Dense(256,activation=('relu'))) \n",
        "model_mobnet.add(Dense(128,activation=('relu'))) \n",
        "model_mobnet.add(Dropout(.3))\n",
        "model_mobnet.add(Dense(64,activation=('relu')))\n",
        "model_mobnet.add(Dropout(.2))\n",
        "model_mobnet.add(Dense(10,activation=('softmax')))\n",
        "\n",
        "# Save the weights using the `checkpoint_path` format\n",
        "model_mobnet.save_weights(checkpoint_path.format(epoch=0))"
      ],
      "execution_count": 11,
      "outputs": [
        {
          "output_type": "stream",
          "text": [
            "WARNING:tensorflow:`period` argument is deprecated. Please use `save_freq` to specify the frequency in number of batches seen.\n",
            "Downloading data from https://storage.googleapis.com/tensorflow/keras-applications/mobilenet/mobilenet_1_0_224_tf_no_top.h5\n",
            "17227776/17225924 [==============================] - 1s 0us/step\n"
          ],
          "name": "stdout"
        }
      ]
    },
    {
      "cell_type": "code",
      "metadata": {
        "id": "kQ0_WfpMgCUv",
        "colab": {
          "base_uri": "https://localhost:8080/"
        },
        "outputId": "8be4b194-a59d-4baf-953c-86d447c3a570"
      },
      "source": [
        "model_mobnet.summary()"
      ],
      "execution_count": 12,
      "outputs": [
        {
          "output_type": "stream",
          "text": [
            "Model: \"sequential\"\n",
            "_________________________________________________________________\n",
            "Layer (type)                 Output Shape              Param #   \n",
            "=================================================================\n",
            "mobilenet_1.00_224 (Function (None, 7, 7, 1024)        3228864   \n",
            "_________________________________________________________________\n",
            "flatten (Flatten)            (None, 50176)             0         \n",
            "_________________________________________________________________\n",
            "dense (Dense)                (None, 512)               25690624  \n",
            "_________________________________________________________________\n",
            "dense_1 (Dense)              (None, 256)               131328    \n",
            "_________________________________________________________________\n",
            "dense_2 (Dense)              (None, 128)               32896     \n",
            "_________________________________________________________________\n",
            "dropout (Dropout)            (None, 128)               0         \n",
            "_________________________________________________________________\n",
            "dense_3 (Dense)              (None, 64)                8256      \n",
            "_________________________________________________________________\n",
            "dropout_1 (Dropout)          (None, 64)                0         \n",
            "_________________________________________________________________\n",
            "dense_4 (Dense)              (None, 10)                650       \n",
            "=================================================================\n",
            "Total params: 29,092,618\n",
            "Trainable params: 29,070,730\n",
            "Non-trainable params: 21,888\n",
            "_________________________________________________________________\n"
          ],
          "name": "stdout"
        }
      ]
    },
    {
      "cell_type": "code",
      "metadata": {
        "id": "oE2Ja7aGjq7t"
      },
      "source": [
        "model_mobnet.compile(optimizer=Adam(lr=0.0001),  #Adam(lr=1e-5)\n",
        "                  loss='categorical_crossentropy', metrics=['accuracy'])"
      ],
      "execution_count": 13,
      "outputs": []
    },
    {
      "cell_type": "code",
      "metadata": {
        "id": "HqpePAyfbHGf",
        "colab": {
          "base_uri": "https://localhost:8080/"
        },
        "outputId": "48b53aa8-b69c-442b-c742-f8cee15f13cd"
      },
      "source": [
        "start = time.time()\n",
        "\n",
        "history = model_mobnet.fit_generator(\n",
        "    generator=train_generator, \n",
        "    steps_per_epoch=train_generator.samples//BATCH_SIZE,   # -> 106 # images 3923 = steps * batch_size = 106 * 32 \n",
        "    epochs=epochs, \n",
        "    validation_steps=valid_generator.samples//BATCH_SIZE, # -> 26 # images 832 = steps * batch_size = 26 * 32\n",
        "    validation_data=valid_generator,\n",
        "    callbacks = [cp_callback],\n",
        "    verbose = 1\n",
        ")\n",
        "\n",
        "end = time.time()\n",
        "duration = end - start\n",
        "print ('\\n model_mobnet took %0.2f seconds (%0.1f minutes) to train for %d epochs'%(duration, duration/60, epochs) )"
      ],
      "execution_count": 14,
      "outputs": [
        {
          "output_type": "stream",
          "text": [
            "WARNING:tensorflow:From <ipython-input-14-6158b63c3c39>:10: Model.fit_generator (from tensorflow.python.keras.engine.training) is deprecated and will be removed in a future version.\n",
            "Instructions for updating:\n",
            "Please use Model.fit, which supports generators.\n",
            "Epoch 1/50\n",
            " 2/25 [=>............................] - ETA: 1s - loss: 3.0704 - accuracy: 0.1250WARNING:tensorflow:Callbacks method `on_train_batch_end` is slow compared to the batch time (batch time: 0.0378s vs `on_train_batch_end` time: 0.1154s). Check your callbacks.\n",
            "25/25 [==============================] - 4s 172ms/step - loss: 1.8119 - accuracy: 0.3808 - val_loss: 0.7613 - val_accuracy: 0.8182\n",
            "Epoch 2/50\n",
            "25/25 [==============================] - 4s 148ms/step - loss: 0.5483 - accuracy: 0.8083 - val_loss: 0.4928 - val_accuracy: 0.9091\n",
            "Epoch 3/50\n",
            "25/25 [==============================] - 4s 151ms/step - loss: 0.2379 - accuracy: 0.9243 - val_loss: 0.1854 - val_accuracy: 0.9091\n",
            "Epoch 4/50\n",
            "25/25 [==============================] - 4s 150ms/step - loss: 0.1618 - accuracy: 0.9533 - val_loss: 0.0219 - val_accuracy: 1.0000\n",
            "Epoch 5/50\n",
            "25/25 [==============================] - 4s 142ms/step - loss: 0.1052 - accuracy: 0.9672 - val_loss: 0.3709 - val_accuracy: 0.9091\n",
            "Epoch 6/50\n",
            "25/25 [==============================] - 4s 149ms/step - loss: 0.0968 - accuracy: 0.9697 - val_loss: 0.0703 - val_accuracy: 1.0000\n",
            "Epoch 7/50\n",
            "25/25 [==============================] - 4s 150ms/step - loss: 0.0721 - accuracy: 0.9735 - val_loss: 0.0018 - val_accuracy: 1.0000\n",
            "Epoch 8/50\n",
            "25/25 [==============================] - 4s 146ms/step - loss: 0.0538 - accuracy: 0.9823 - val_loss: 0.0016 - val_accuracy: 1.0000\n",
            "Epoch 9/50\n",
            "25/25 [==============================] - 4s 149ms/step - loss: 0.0543 - accuracy: 0.9773 - val_loss: 0.0015 - val_accuracy: 1.0000\n",
            "Epoch 10/50\n",
            "25/25 [==============================] - ETA: 0s - loss: 0.0387 - accuracy: 0.9849\n",
            "Epoch 00010: saving model to training_MobNet/cp-0010.ckpt\n",
            "25/25 [==============================] - 5s 187ms/step - loss: 0.0387 - accuracy: 0.9849 - val_loss: 0.0277 - val_accuracy: 1.0000\n",
            "Epoch 11/50\n",
            "25/25 [==============================] - 4s 150ms/step - loss: 0.0325 - accuracy: 0.9849 - val_loss: 0.0026 - val_accuracy: 1.0000\n",
            "Epoch 12/50\n",
            "25/25 [==============================] - 4s 146ms/step - loss: 0.0458 - accuracy: 0.9823 - val_loss: 5.0843e-04 - val_accuracy: 1.0000\n",
            "Epoch 13/50\n",
            "25/25 [==============================] - 4s 149ms/step - loss: 0.0267 - accuracy: 0.9937 - val_loss: 1.2843e-04 - val_accuracy: 1.0000\n",
            "Epoch 14/50\n",
            "25/25 [==============================] - 4s 154ms/step - loss: 0.0328 - accuracy: 0.9887 - val_loss: 2.0810e-04 - val_accuracy: 1.0000\n",
            "Epoch 15/50\n",
            "25/25 [==============================] - 4s 147ms/step - loss: 0.0278 - accuracy: 0.9875 - val_loss: 1.7250e-04 - val_accuracy: 1.0000\n",
            "Epoch 16/50\n",
            "25/25 [==============================] - 4s 148ms/step - loss: 0.0328 - accuracy: 0.9887 - val_loss: 1.2262e-04 - val_accuracy: 1.0000\n",
            "Epoch 17/50\n",
            "25/25 [==============================] - 4s 150ms/step - loss: 0.0262 - accuracy: 0.9887 - val_loss: 2.9094e-05 - val_accuracy: 1.0000\n",
            "Epoch 18/50\n",
            "25/25 [==============================] - 4s 150ms/step - loss: 0.0314 - accuracy: 0.9836 - val_loss: 1.5497e-06 - val_accuracy: 1.0000\n",
            "Epoch 19/50\n",
            "25/25 [==============================] - 4s 148ms/step - loss: 0.0234 - accuracy: 0.9887 - val_loss: 1.4630e-06 - val_accuracy: 1.0000\n",
            "Epoch 20/50\n",
            "25/25 [==============================] - ETA: 0s - loss: 0.0308 - accuracy: 0.9899\n",
            "Epoch 00020: saving model to training_MobNet/cp-0020.ckpt\n",
            "25/25 [==============================] - 4s 180ms/step - loss: 0.0308 - accuracy: 0.9899 - val_loss: 1.3763e-06 - val_accuracy: 1.0000\n",
            "Epoch 21/50\n",
            "25/25 [==============================] - 4s 151ms/step - loss: 0.0178 - accuracy: 0.9937 - val_loss: 3.1428e-06 - val_accuracy: 1.0000\n",
            "Epoch 22/50\n",
            "25/25 [==============================] - 4s 146ms/step - loss: 0.0158 - accuracy: 0.9950 - val_loss: 4.8767e-06 - val_accuracy: 1.0000\n",
            "Epoch 23/50\n",
            "25/25 [==============================] - 4s 151ms/step - loss: 0.0176 - accuracy: 0.9937 - val_loss: 4.7250e-06 - val_accuracy: 1.0000\n",
            "Epoch 24/50\n",
            "25/25 [==============================] - 4s 149ms/step - loss: 0.0230 - accuracy: 0.9899 - val_loss: 4.3349e-08 - val_accuracy: 1.0000\n",
            "Epoch 25/50\n",
            "25/25 [==============================] - 4s 149ms/step - loss: 0.0271 - accuracy: 0.9912 - val_loss: 2.6768e-06 - val_accuracy: 1.0000\n",
            "Epoch 26/50\n",
            "25/25 [==============================] - 4s 149ms/step - loss: 0.0183 - accuracy: 0.9962 - val_loss: 1.3005e-07 - val_accuracy: 1.0000\n",
            "Epoch 27/50\n",
            "25/25 [==============================] - 4s 149ms/step - loss: 0.0055 - accuracy: 0.9962 - val_loss: 3.5004e-06 - val_accuracy: 1.0000\n",
            "Epoch 28/50\n",
            "25/25 [==============================] - 4s 148ms/step - loss: 0.0184 - accuracy: 0.9975 - val_loss: 0.1657 - val_accuracy: 0.9091\n",
            "Epoch 29/50\n",
            "25/25 [==============================] - 4s 150ms/step - loss: 0.0036 - accuracy: 1.0000 - val_loss: 0.0190 - val_accuracy: 1.0000\n",
            "Epoch 30/50\n",
            "25/25 [==============================] - ETA: 0s - loss: 0.0027 - accuracy: 1.0000\n",
            "Epoch 00030: saving model to training_MobNet/cp-0030.ckpt\n",
            "25/25 [==============================] - 5s 181ms/step - loss: 0.0027 - accuracy: 1.0000 - val_loss: 1.1227e-05 - val_accuracy: 1.0000\n",
            "Epoch 31/50\n",
            "25/25 [==============================] - 4s 149ms/step - loss: 0.0115 - accuracy: 0.9950 - val_loss: 3.2512e-08 - val_accuracy: 1.0000\n",
            "Epoch 32/50\n",
            "25/25 [==============================] - 4s 146ms/step - loss: 0.0067 - accuracy: 0.9975 - val_loss: 1.3816e-05 - val_accuracy: 1.0000\n",
            "Epoch 33/50\n",
            "25/25 [==============================] - 4s 149ms/step - loss: 0.0159 - accuracy: 0.9950 - val_loss: 0.0327 - val_accuracy: 1.0000\n",
            "Epoch 34/50\n",
            "25/25 [==============================] - 4s 149ms/step - loss: 0.0235 - accuracy: 0.9937 - val_loss: 6.3939e-07 - val_accuracy: 1.0000\n",
            "Epoch 35/50\n",
            "25/25 [==============================] - 4s 147ms/step - loss: 0.0245 - accuracy: 0.9924 - val_loss: 2.4926e-07 - val_accuracy: 1.0000\n",
            "Epoch 36/50\n",
            "25/25 [==============================] - 4s 149ms/step - loss: 0.0151 - accuracy: 0.9962 - val_loss: 5.0825e-06 - val_accuracy: 1.0000\n",
            "Epoch 37/50\n",
            "25/25 [==============================] - 4s 152ms/step - loss: 0.0036 - accuracy: 1.0000 - val_loss: 1.0837e-08 - val_accuracy: 1.0000\n",
            "Epoch 38/50\n",
            "25/25 [==============================] - 4s 150ms/step - loss: 0.0153 - accuracy: 0.9962 - val_loss: 1.5389e-06 - val_accuracy: 1.0000\n",
            "Epoch 39/50\n",
            "25/25 [==============================] - 4s 152ms/step - loss: 0.0257 - accuracy: 0.9924 - val_loss: 8.3446e-07 - val_accuracy: 1.0000\n",
            "Epoch 40/50\n",
            "25/25 [==============================] - ETA: 0s - loss: 0.0083 - accuracy: 0.9987\n",
            "Epoch 00040: saving model to training_MobNet/cp-0040.ckpt\n",
            "25/25 [==============================] - 5s 180ms/step - loss: 0.0083 - accuracy: 0.9987 - val_loss: 1.5064e-06 - val_accuracy: 1.0000\n",
            "Epoch 41/50\n",
            "25/25 [==============================] - 4s 150ms/step - loss: 0.0047 - accuracy: 1.0000 - val_loss: 1.3872e-06 - val_accuracy: 1.0000\n",
            "Epoch 42/50\n",
            "25/25 [==============================] - 4s 147ms/step - loss: 0.0043 - accuracy: 0.9987 - val_loss: 1.9507e-07 - val_accuracy: 1.0000\n",
            "Epoch 43/50\n",
            "25/25 [==============================] - 4s 150ms/step - loss: 0.0015 - accuracy: 1.0000 - val_loss: 3.4679e-07 - val_accuracy: 1.0000\n",
            "Epoch 44/50\n",
            "25/25 [==============================] - 4s 150ms/step - loss: 0.0272 - accuracy: 0.9937 - val_loss: 0.0085 - val_accuracy: 1.0000\n",
            "Epoch 45/50\n",
            "25/25 [==============================] - 4s 151ms/step - loss: 0.0075 - accuracy: 0.9962 - val_loss: 1.0837e-08 - val_accuracy: 1.0000\n",
            "Epoch 46/50\n",
            "25/25 [==============================] - 4s 143ms/step - loss: 0.0096 - accuracy: 0.9950 - val_loss: 2.6334e-06 - val_accuracy: 1.0000\n",
            "Epoch 47/50\n",
            "25/25 [==============================] - 4s 148ms/step - loss: 0.0072 - accuracy: 0.9987 - val_loss: 6.0688e-07 - val_accuracy: 1.0000\n",
            "Epoch 48/50\n",
            "25/25 [==============================] - 4s 151ms/step - loss: 0.0094 - accuracy: 0.9962 - val_loss: 1.0837e-08 - val_accuracy: 1.0000\n",
            "Epoch 49/50\n",
            "25/25 [==============================] - 4s 152ms/step - loss: 0.0099 - accuracy: 0.9950 - val_loss: 0.0000e+00 - val_accuracy: 1.0000\n",
            "Epoch 50/50\n",
            "25/25 [==============================] - ETA: 0s - loss: 0.0046 - accuracy: 0.9987\n",
            "Epoch 00050: saving model to training_MobNet/cp-0050.ckpt\n",
            "25/25 [==============================] - 4s 178ms/step - loss: 0.0046 - accuracy: 0.9987 - val_loss: 4.4323e-06 - val_accuracy: 1.0000\n",
            "\n",
            " model_mobnet took 205.53 seconds (3.4 minutes) to train for 50 epochs\n"
          ],
          "name": "stdout"
        }
      ]
    },
    {
      "cell_type": "markdown",
      "metadata": {
        "id": "UIrhE3LMcsBU"
      },
      "source": [
        "###**ขั้นตอนการ Save file Model เเละ Json**"
      ]
    },
    {
      "cell_type": "code",
      "metadata": {
        "id": "5jkhbODRb0RH"
      },
      "source": [
        "#เปลี่ยนชื่อไฟล์ทุกครั้งเวลา SAVE\n",
        "!mkdir saved_model\n",
        "model_mobnet.save('saved_model/model-mobnet(lastest).h5') #ดูจำนวนรอบที่เทรนด้วยว่าทั้งหมดกี่รอบจริงๆเเล้ว\n",
        "model_mobnet.save_weights('saved_model/weightmodel-mobnet.h5')"
      ],
      "execution_count": null,
      "outputs": []
    },
    {
      "cell_type": "code",
      "metadata": {
        "id": "RUbahazNckQo"
      },
      "source": [
        "#Import dependencies\n",
        "!mkdir jsonfile\n",
        "import json\n",
        "from keras.models import model_from_json, load_model\n",
        "with open('jsonfile/model_mobnet.json', 'w') as f:\n",
        "    f.write(model_mobnet.to_json())\n",
        "print(\"Saved model success\")"
      ],
      "execution_count": null,
      "outputs": []
    },
    {
      "cell_type": "markdown",
      "metadata": {
        "id": "ctXhsc5pc-5N"
      },
      "source": [
        "###**เเสดงกราฟข้อมูลค่าความเเม่นยำเเละค่าความสูญเสีย Training เเละ Validation**"
      ]
    },
    {
      "cell_type": "code",
      "metadata": {
        "id": "k8UxPxbZdNzR",
        "colab": {
          "base_uri": "https://localhost:8080/",
          "height": 299
        },
        "outputId": "c810e661-c98d-4910-8278-e1211ebd8f1b"
      },
      "source": [
        "import matplotlib.pyplot as plt\n",
        "\n",
        "acc = model_mobnet.history.history['accuracy']\n",
        "val_acc = model_mobnet.history.history['val_accuracy']\n",
        "\n",
        "loss= model_mobnet.history.history['loss']\n",
        "val_loss= model_mobnet.history.history['val_loss']\n",
        "\n",
        "\n",
        "plt.style.use(\"ggplot\")\n",
        "#  \"Accuracy\"\n",
        "plt.figure(figsize=(15, 4))\n",
        "plt.subplot(1, 2, 1)\n",
        "plt.plot(acc, label='Training Accuracy')\n",
        "plt.plot(val_acc, label='Validation Accuracy')\n",
        "plt.legend(loc='upper right')\n",
        "plt.title('Training and Validation Accuracy')\n",
        "plt.ylabel('accuracy')\n",
        "plt.xlabel('epochs')\n",
        "#  \"Loss\"\n",
        "plt.subplot(1, 2, 2)\n",
        "plt.plot(loss, label='Training Loss')\n",
        "plt.plot(val_loss, label='Validation Loss')\n",
        "plt.legend(loc='lower right')\n",
        "plt.title('Training and Validation Loss')\n",
        "plt.ylabel('loss')\n",
        "plt.xlabel('epochs')\n",
        "plt.show()"
      ],
      "execution_count": 15,
      "outputs": [
        {
          "output_type": "display_data",
          "data": {
            "image/png": "[encoded data removed]",
            "text/plain": [
              "<Figure size 1080x288 with 2 Axes>"
            ]
          },
          "metadata": {
            "tags": []
          }
        }
      ]
    },
    {
      "cell_type": "markdown",
      "metadata": {
        "id": "m0m3J0nidxqf"
      },
      "source": [
        "###**จุด Checkpoint**"
      ]
    },
    {
      "cell_type": "code",
      "metadata": {
        "id": "CjjRM_w0eE5D",
        "colab": {
          "base_uri": "https://localhost:8080/",
          "height": 35
        },
        "outputId": "517aeabf-927d-4380-9f61-73f20b97aedd"
      },
      "source": [
        "latest = tf.train.latest_checkpoint(checkpoint_dir)\n",
        "latest"
      ],
      "execution_count": 16,
      "outputs": [
        {
          "output_type": "execute_result",
          "data": {
            "application/vnd.google.colaboratory.intrinsic+json": {
              "type": "string"
            },
            "text/plain": [
              "'training_MobNet/cp-0050.ckpt'"
            ]
          },
          "metadata": {
            "tags": []
          },
          "execution_count": 16
        }
      ]
    },
    {
      "cell_type": "code",
      "metadata": {
        "id": "IBO8Q9Q4eE7E",
        "colab": {
          "base_uri": "https://localhost:8080/"
        },
        "outputId": "53991974-f6bd-4fc2-902d-c2408a18ae78"
      },
      "source": [
        "# Load the previously saved weights\n",
        "model_mobnet.load_weights(latest)\n",
        "\n",
        "# Re-evaluate the model\n",
        "loss, acc = model_mobnet.evaluate(valid_generator, verbose=2)\n",
        "print(\"Restored model, accuracy: {:5.2f}%\".format(100*acc))"
      ],
      "execution_count": 19,
      "outputs": [
        {
          "output_type": "stream",
          "text": [
            "359/359 - 2s - loss: 0.0038 - accuracy: 0.9972\n",
            "Restored model, accuracy: 99.72%\n"
          ],
          "name": "stdout"
        }
      ]
    },
    {
      "cell_type": "markdown",
      "metadata": {
        "id": "hOnDw5WeeNXc"
      },
      "source": [
        "###**Save model อีกเเบบเพื่อนำไปเเปลงเป็น TensorflwLite**"
      ]
    },
    {
      "cell_type": "code",
      "metadata": {
        "id": "WCKmhkZ2eVSt",
        "colab": {
          "base_uri": "https://localhost:8080/"
        },
        "outputId": "10295037-651e-4a19-fbf7-5f38807aae6a"
      },
      "source": [
        "# Save the entire model as a SavedModel.\n",
        "model_mobnet.save('saved_model/my_model') "
      ],
      "execution_count": 17,
      "outputs": [
        {
          "output_type": "stream",
          "text": [
            "WARNING:tensorflow:From /usr/local/lib/python3.6/dist-packages/tensorflow/python/training/tracking/tracking.py:111: Model.state_updates (from tensorflow.python.keras.engine.training) is deprecated and will be removed in a future version.\n",
            "Instructions for updating:\n",
            "This property should not be used in TensorFlow 2.0, as updates are applied automatically.\n",
            "WARNING:tensorflow:From /usr/local/lib/python3.6/dist-packages/tensorflow/python/training/tracking/tracking.py:111: Layer.updates (from tensorflow.python.keras.engine.base_layer) is deprecated and will be removed in a future version.\n",
            "Instructions for updating:\n",
            "This property should not be used in TensorFlow 2.0, as updates are applied automatically.\n",
            "INFO:tensorflow:Assets written to: saved_model/my_model/assets\n"
          ],
          "name": "stdout"
        }
      ]
    },
    {
      "cell_type": "code",
      "metadata": {
        "id": "UiTau3PReVU1"
      },
      "source": [
        "model= tf.keras.models.load_model('saved_model/my_model')\n",
        "tflite_converter = tf.lite.TFLiteConverter.from_keras_model(model)\n",
        "tflite_model = tflite_converter.convert()\n",
        "open(\"tf_lite_model(200epochsmobnet).tflite\", \"wb\").write(tflite_model) "
      ],
      "execution_count": null,
      "outputs": []
    },
    {
      "cell_type": "markdown",
      "metadata": {
        "id": "Y7P6p0lzeq7g"
      },
      "source": [
        "###**ขั้นตอนของ Prediction เเบบบ Confusion Matrix**"
      ]
    },
    {
      "cell_type": "code",
      "metadata": {
        "id": "tA579sRAeVXH",
        "colab": {
          "base_uri": "https://localhost:8080/",
          "height": 356
        },
        "outputId": "38d5c54d-e365-420b-fc1a-10e20ca41b4f"
      },
      "source": [
        "import seaborn as sn\n",
        "import pandas as pd\n",
        "\n",
        "model = tf.keras.models.load_model('saved_model/my_model')\n",
        "filenames = valid_generator.filenames\n",
        "nb_samples = len(valid_generator)\n",
        "y_prob=[]\n",
        "y_act=[]\n",
        "valid_generator.reset()\n",
        "for _ in range(nb_samples):\n",
        "    x_test, y_test = valid_generator.next()\n",
        "    y_prob.append(model.predict(x_test))\n",
        "    y_act.append(y_test)\n",
        "    \n",
        "predicted_class = [list(train_generator.class_indices.keys())[i.argmax()] for i in y_prob]\n",
        "actual_class = [list(train_generator.class_indices.keys())[i.argmax()] for i in y_act]\n",
        "\n",
        "out_df = pd.DataFrame(np.vstack([predicted_class,actual_class]).T,columns=['predicted_class', 'actual_class'])\n",
        "confusion_matrix = pd.crosstab(out_df['actual_class'],out_df['predicted_class'], rownames=['Actual'], colnames=['Predicted'])\n",
        "\n",
        "sn.heatmap(confusion_matrix, cmap='Blues', annot= True, fmt='d')\n",
        "plt.show()\n",
        "print('test accuracy : {}'.format((np.diagonal(confusion_matrix).sum()/confusion_matrix.sum().sum()*100)))"
      ],
      "execution_count": 18,
      "outputs": [
        {
          "output_type": "display_data",
          "data": {
            "image/png": "[encoded data removed]",
            "text/plain": [
              "<Figure size 432x288 with 2 Axes>"
            ]
          },
          "metadata": {
            "tags": []
          }
        },
        {
          "output_type": "stream",
          "text": [
            "test accuracy : 99.72144846796658\n"
          ],
          "name": "stdout"
        }
      ]
    },
    {
      "cell_type": "code",
      "metadata": {
        "id": "Pf19XYfP6P3w"
      },
      "source": [
        ""
      ],
      "execution_count": null,
      "outputs": []
    }
  ]
}