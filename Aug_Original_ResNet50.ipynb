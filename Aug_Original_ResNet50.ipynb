{
  "nbformat": 4,
  "nbformat_minor": 0,
  "metadata": {
    "colab": {
      "name": "Aug-Original ResNet50.ipynb",
      "provenance": [],
      "collapsed_sections": [],
      "toc_visible": true,
      "include_colab_link": true
    },
    "kernelspec": {
      "name": "python3",
      "display_name": "Python 3"
    },
    "accelerator": "GPU"
  },
  "cells": [
    {
      "cell_type": "markdown",
      "metadata": {
        "id": "view-in-github",
        "colab_type": "text"
      },
      "source": [
        "<a href=\"https://colab.research.google.com/github/makezazainw/newresultsproject/blob/main/Aug_Original_ResNet50.ipynb\" target=\"_parent\"><img src=\"https://colab.research.google.com/assets/colab-badge.svg\" alt=\"Open In Colab\"/></a>"
      ]
    },
    {
      "cell_type": "markdown",
      "metadata": {
        "id": "mew3lwAMaXDH"
      },
      "source": [
        "### **ติดตั้ง Kaggle เเละ เรียกใช้ไฟล์ json เพื่อติดต่อใช้ dataset ใน kaggle**"
      ]
    },
    {
      "cell_type": "code",
      "metadata": {
        "id": "Y5m_qIXOabnO",
        "colab": {
          "base_uri": "https://localhost:8080/"
        },
        "outputId": "e4d0f38e-083d-43f6-fca7-aff003b1f4de"
      },
      "source": [
        "# Install Kaggle API\n",
        "!pip install -q kaggle\n",
        "!pip install -q kaggle-cli"
      ],
      "execution_count": 1,
      "outputs": [
        {
          "output_type": "stream",
          "text": [
            "\u001b[K     |████████████████████████████████| 81kB 5.9MB/s \n",
            "\u001b[K     |████████████████████████████████| 5.3MB 14.9MB/s \n",
            "\u001b[K     |████████████████████████████████| 133kB 54.2MB/s \n",
            "\u001b[K     |████████████████████████████████| 51kB 8.5MB/s \n",
            "\u001b[K     |████████████████████████████████| 112kB 55.5MB/s \n",
            "\u001b[?25h  Building wheel for kaggle-cli (setup.py) ... \u001b[?25l\u001b[?25hdone\n",
            "  Building wheel for PrettyTable (setup.py) ... \u001b[?25l\u001b[?25hdone\n",
            "  Building wheel for pyperclip (setup.py) ... \u001b[?25l\u001b[?25hdone\n"
          ],
          "name": "stdout"
        }
      ]
    },
    {
      "cell_type": "code",
      "metadata": {
        "id": "a_kkUe3valvy"
      },
      "source": [
        "# only for google colab\n",
        "import os\n",
        "os.environ['KAGGLE_USERNAME'] = \"thammatattantipitham\" \n",
        "os.environ['KAGGLE_KEY'] = \"3cf826ab97707228fb1602519992740b\""
      ],
      "execution_count": 2,
      "outputs": []
    },
    {
      "cell_type": "code",
      "metadata": {
        "id": "jtsvYa8manW1",
        "colab": {
          "base_uri": "https://localhost:8080/"
        },
        "outputId": "b567698f-b679-4556-b6d1-24b3ea5ab649"
      },
      "source": [
        "!kaggle datasets download -d thammatattantipitham/thaiherbaug-1 --unzip"
      ],
      "execution_count": 3,
      "outputs": [
        {
          "output_type": "stream",
          "text": [
            "Downloading thaiherbaug-1.zip to /content\n",
            " 96% 147M/152M [00:00<00:00, 165MB/s]\n",
            "100% 152M/152M [00:00<00:00, 172MB/s]\n"
          ],
          "name": "stdout"
        }
      ]
    },
    {
      "cell_type": "code",
      "metadata": {
        "id": "Ihulub6paq8a"
      },
      "source": [
        "#สร้างไฟล์ folder ขึ้นมาเเละเพิ่มข้อมูลเข้าไปใน folder\n",
        "!mkdir thaiherbaug-1\n",
        "!mv  \"train\" \"val\" thaiherbaug-1"
      ],
      "execution_count": 4,
      "outputs": []
    },
    {
      "cell_type": "markdown",
      "metadata": {
        "id": "yUU4GFLxa2pv"
      },
      "source": [
        "### **เริ่มต้นการ import library ต่างๆเเละการเรียกใช้ไฟล์**\n"
      ]
    },
    {
      "cell_type": "code",
      "metadata": {
        "id": "08sp2eppa_-2",
        "colab": {
          "base_uri": "https://localhost:8080/",
          "height": 35
        },
        "outputId": "cb13c0fd-a721-4a0e-b997-51502e5ec4de"
      },
      "source": [
        "import sys\n",
        "import time\n",
        "import cv2\n",
        "import numpy as np\n",
        "from matplotlib import pyplot as plt\n",
        "import tensorflow as tf\n",
        "import os\n",
        "import keras\n",
        "\n",
        "from skimage.transform import resize\n",
        "from sklearn.model_selection import train_test_split\n",
        "\n",
        "from tensorflow.python.keras.utils import np_utils\n",
        "from tensorflow.python.keras.models import Sequential, Model\n",
        "from tensorflow.python.keras.layers import Dense, Dropout, Flatten, Activation, BatchNormalization\n",
        "from tensorflow.python.keras.layers.convolutional import Conv2D, MaxPooling2D, AveragePooling2D\n",
        "from tensorflow.python.keras.preprocessing.image import ImageDataGenerator\n",
        "from tensorflow.python.keras.optimizers import RMSprop\n",
        "from tensorflow.python.keras.applications.vgg19 import VGG19\n",
        "from tensorflow.python.keras.applications.mobilenet import MobileNet\n",
        "from tensorflow.keras.applications.resnet50 import ResNet50, preprocess_input\n",
        "from tensorflow.keras.optimizers import Adam\n",
        "from keras.applications import InceptionV3\n",
        "sys.version"
      ],
      "execution_count": 5,
      "outputs": [
        {
          "output_type": "execute_result",
          "data": {
            "application/vnd.google.colaboratory.intrinsic+json": {
              "type": "string"
            },
            "text/plain": [
              "'3.6.9 (default, Oct  8 2020, 12:12:24) \\n[GCC 8.4.0]'"
            ]
          },
          "metadata": {
            "tags": []
          },
          "execution_count": 5
        }
      ]
    },
    {
      "cell_type": "code",
      "metadata": {
        "id": "SM_5RRq_bAAp",
        "colab": {
          "base_uri": "https://localhost:8080/"
        },
        "outputId": "f30e6cc2-91c3-438e-c361-8c30763519d3"
      },
      "source": [
        "from tensorflow.compat.v1.keras.backend import set_session\n",
        "\n",
        "config = tf.compat.v1.ConfigProto()\n",
        "\n",
        "config.gpu_options.allow_growth = True  # dynamically grow the memory used on the GPU\n",
        "\n",
        "config.log_device_placement = True  # to log device placement (on which device the operation ran)\n",
        "\n",
        "sess = tf.compat.v1.Session(config=config)\n",
        "\n",
        "set_session(sess)"
      ],
      "execution_count": 6,
      "outputs": [
        {
          "output_type": "stream",
          "text": [
            "Device mapping:\n",
            "/job:localhost/replica:0/task:0/device:XLA_CPU:0 -> device: XLA_CPU device\n",
            "/job:localhost/replica:0/task:0/device:XLA_GPU:0 -> device: XLA_GPU device\n",
            "/job:localhost/replica:0/task:0/device:GPU:0 -> device: 0, name: Tesla P100-PCIE-16GB, pci bus id: 0000:00:04.0, compute capability: 6.0\n",
            "\n"
          ],
          "name": "stdout"
        }
      ]
    },
    {
      "cell_type": "code",
      "metadata": {
        "id": "9vm7Vog_bEAP"
      },
      "source": [
        "DATASET_PATH  = 'thaiherbaug-1/'\n",
        "IMAGE_SIZE    = (224, 224)\n",
        "NUM_CLASSES   = 10\n",
        "BATCH_SIZE    = 32  # try reducing batch size or freeze more layers if your GPU runs out of memory\n",
        "epochs    = 50"
      ],
      "execution_count": 7,
      "outputs": []
    },
    {
      "cell_type": "code",
      "metadata": {
        "id": "PNu6CAPDbECl"
      },
      "source": [
        "#ทำ aug มาเเล้ว\n",
        "train_datagen = ImageDataGenerator(preprocessing_function=preprocess_input)"
      ],
      "execution_count": 8,
      "outputs": []
    },
    {
      "cell_type": "code",
      "metadata": {
        "id": "jDKsFAH_bEE1",
        "colab": {
          "base_uri": "https://localhost:8080/"
        },
        "outputId": "66b660c4-daf4-48b5-aaf2-b698b99d938f"
      },
      "source": [
        "#set training data\n",
        "train_generator = train_datagen.flow_from_directory(DATASET_PATH+ r\"train/\",\n",
        "                                                    target_size = IMAGE_SIZE,\n",
        "                                                    batch_size = BATCH_SIZE,\n",
        "                                                    class_mode='categorical',\n",
        "                                                    shuffle = True,\n",
        "                                                    subset='training')"
      ],
      "execution_count": 9,
      "outputs": [
        {
          "output_type": "stream",
          "text": [
            "Found 10565 images belonging to 10 classes.\n"
          ],
          "name": "stdout"
        }
      ]
    },
    {
      "cell_type": "code",
      "metadata": {
        "id": "w1nB7VakbG_d",
        "colab": {
          "base_uri": "https://localhost:8080/"
        },
        "outputId": "794fb5bd-edee-4139-96c3-d7ac04d6f64d"
      },
      "source": [
        "valid_datagen = ImageDataGenerator(preprocessing_function=preprocess_input)\n",
        "valid_generator = valid_datagen.flow_from_directory(DATASET_PATH+ r\"val/\",                                      \n",
        "                                                    target_size = IMAGE_SIZE,\n",
        "                                                    batch_size = 1,\n",
        "                                                    class_mode='categorical',\n",
        "                                                    shuffle = True\n",
        "                                                    )"
      ],
      "execution_count": 10,
      "outputs": [
        {
          "output_type": "stream",
          "text": [
            "Found 2646 images belonging to 10 classes.\n"
          ],
          "name": "stdout"
        }
      ]
    },
    {
      "cell_type": "markdown",
      "metadata": {
        "id": "5H1qvuqFbNM6"
      },
      "source": [
        "### **Model ResNet50**"
      ]
    },
    {
      "cell_type": "code",
      "metadata": {
        "id": "T9TaFF44bHBy",
        "colab": {
          "base_uri": "https://localhost:8080/"
        },
        "outputId": "e36397a9-e01d-41af-aec7-8e166fb5050a"
      },
      "source": [
        "# Include the epoch in the file name (uses `str.format`)\n",
        "checkpoint_path = \"training_ResNet50/cp-{epoch:04d}.ckpt\"\n",
        "checkpoint_dir = os.path.dirname(checkpoint_path)\n",
        "FREEZE_LAYERS = 2\n",
        "# Create a callback that saves the model's weights every 5 epochs\n",
        "cp_callback = tf.keras.callbacks.ModelCheckpoint(\n",
        "    filepath=checkpoint_path, \n",
        "    verbose=1, \n",
        "    save_weights_only=True,\n",
        "    period=10)\n",
        "\n",
        "#Create the model\n",
        "base_model_resnet = ResNet50(include_top=False,weights='imagenet', input_tensor=None, input_shape=(IMAGE_SIZE[0],IMAGE_SIZE[1],3))\n",
        "x = base_model_resnet.output\n",
        "x = Flatten()(x)\n",
        "x = Dropout(0.5)(x)\n",
        "output_layer = Dense(NUM_CLASSES, activation='softmax', name='softmax')(x)\n",
        "model_resnet = Model(inputs=base_model_resnet.input, outputs=output_layer)\n",
        "for layer in model_resnet.layers[:FREEZE_LAYERS]:\n",
        "    layer.trainable = False\n",
        "for layer in model_resnet.layers[FREEZE_LAYERS:]:\n",
        "    layer.trainable = True\n",
        "# Defining and Adding layers\n",
        "model_resnet= Sequential()\n",
        "#Add the Dense layers along with activation and batch normalization\n",
        "model_resnet.add(base_model_resnet)\n",
        "model_resnet.add(Flatten())\n",
        "\n",
        "#Add the Dense layers along with activation and batch normalization\n",
        "model_resnet.add(Dense(1024,activation=('relu'),input_dim=64))\n",
        "model_resnet.add(Dense(512,activation=('relu'))) \n",
        "model_resnet.add(Dropout(.4))\n",
        "model_resnet.add(Dense(256,activation=('relu'))) \n",
        "model_resnet.add(Dropout(.3))#Adding a dropout layer that will randomly drop 30% of the weights\n",
        "model_resnet.add(Dense(128,activation=('relu')))\n",
        "model_resnet.add(Dropout(.2))\n",
        "model_resnet.add(Dense(NUM_CLASSES,activation=('softmax'))) #This is the classification layer\n",
        "\n",
        "# Save the weights using the `checkpoint_path` format\n",
        "model_resnet.save_weights(checkpoint_path.format(epoch=0))"
      ],
      "execution_count": 11,
      "outputs": [
        {
          "output_type": "stream",
          "text": [
            "WARNING:tensorflow:`period` argument is deprecated. Please use `save_freq` to specify the frequency in number of batches seen.\n",
            "Downloading data from https://storage.googleapis.com/tensorflow/keras-applications/resnet/resnet50_weights_tf_dim_ordering_tf_kernels_notop.h5\n",
            "94773248/94765736 [==============================] - 2s 0us/step\n"
          ],
          "name": "stdout"
        }
      ]
    },
    {
      "cell_type": "code",
      "metadata": {
        "id": "TnKEGJjKbHEL",
        "colab": {
          "base_uri": "https://localhost:8080/"
        },
        "outputId": "3d461c15-f64d-4ca8-95e1-ab5f5ee8fcf2"
      },
      "source": [
        "#Model summary\n",
        "model_resnet.summary()"
      ],
      "execution_count": 12,
      "outputs": [
        {
          "output_type": "stream",
          "text": [
            "Model: \"sequential\"\n",
            "_________________________________________________________________\n",
            "Layer (type)                 Output Shape              Param #   \n",
            "=================================================================\n",
            "resnet50 (Functional)        (None, 7, 7, 2048)        23587712  \n",
            "_________________________________________________________________\n",
            "flatten_1 (Flatten)          (None, 100352)            0         \n",
            "_________________________________________________________________\n",
            "dense (Dense)                (None, 1024)              102761472 \n",
            "_________________________________________________________________\n",
            "dense_1 (Dense)              (None, 512)               524800    \n",
            "_________________________________________________________________\n",
            "dropout_1 (Dropout)          (None, 512)               0         \n",
            "_________________________________________________________________\n",
            "dense_2 (Dense)              (None, 256)               131328    \n",
            "_________________________________________________________________\n",
            "dropout_2 (Dropout)          (None, 256)               0         \n",
            "_________________________________________________________________\n",
            "dense_3 (Dense)              (None, 128)               32896     \n",
            "_________________________________________________________________\n",
            "dropout_3 (Dropout)          (None, 128)               0         \n",
            "_________________________________________________________________\n",
            "dense_4 (Dense)              (None, 10)                1290      \n",
            "=================================================================\n",
            "Total params: 127,039,498\n",
            "Trainable params: 126,986,378\n",
            "Non-trainable params: 53,120\n",
            "_________________________________________________________________\n"
          ],
          "name": "stdout"
        }
      ]
    },
    {
      "cell_type": "code",
      "metadata": {
        "id": "HqpePAyfbHGf"
      },
      "source": [
        "model_resnet.compile(optimizer=Adam(lr=0.0001),  #Adam(lr=1e-5)\n",
        "                  loss='categorical_crossentropy', metrics=['accuracy'])"
      ],
      "execution_count": 13,
      "outputs": []
    },
    {
      "cell_type": "code",
      "metadata": {
        "id": "WHTNB_RRbHIX",
        "colab": {
          "base_uri": "https://localhost:8080/"
        },
        "outputId": "e88c623f-2eed-487f-965d-d37657512f5d"
      },
      "source": [
        "#start to train the model\n",
        "start = time.time()\n",
        "history = model_resnet.fit_generator(generator=train_generator, epochs=epochs, steps_per_epoch=train_generator.samples/train_generator.batch_size, validation_data=valid_generator,validation_steps=valid_generator.samples/valid_generator.batch_size,callbacks=[cp_callback],verbose=1)\n",
        "\n",
        "end = time.time()\n",
        "duration = end - start\n",
        "print ('\\n model_ResNet50 took %0.2f seconds (%0.1f minutes) to train for %d epochs'%(duration, duration/60, epochs) )"
      ],
      "execution_count": 14,
      "outputs": [
        {
          "output_type": "stream",
          "text": [
            "WARNING:tensorflow:From <ipython-input-14-a8b100d25ec6>:3: Model.fit_generator (from tensorflow.python.keras.engine.training) is deprecated and will be removed in a future version.\n",
            "Instructions for updating:\n",
            "Please use Model.fit, which supports generators.\n",
            "Epoch 1/50\n",
            "331/330 [==============================] - 95s 287ms/step - loss: 0.3235 - accuracy: 0.9019 - val_loss: 0.0127 - val_accuracy: 0.9962\n",
            "Epoch 2/50\n",
            "331/330 [==============================] - 94s 283ms/step - loss: 0.0525 - accuracy: 0.9867 - val_loss: 6.8385e-06 - val_accuracy: 1.0000\n",
            "Epoch 3/50\n",
            "331/330 [==============================] - 94s 283ms/step - loss: 0.0604 - accuracy: 0.9882 - val_loss: 4.2801e-05 - val_accuracy: 1.0000\n",
            "Epoch 4/50\n",
            "331/330 [==============================] - 94s 284ms/step - loss: 0.0356 - accuracy: 0.9920 - val_loss: 0.0383 - val_accuracy: 0.9913\n",
            "Epoch 5/50\n",
            "331/330 [==============================] - 94s 283ms/step - loss: 0.0180 - accuracy: 0.9959 - val_loss: 1.5262e-05 - val_accuracy: 1.0000\n",
            "Epoch 6/50\n",
            "331/330 [==============================] - 93s 282ms/step - loss: 0.0442 - accuracy: 0.9931 - val_loss: 0.0347 - val_accuracy: 0.9951\n",
            "Epoch 7/50\n",
            "331/330 [==============================] - 94s 283ms/step - loss: 0.0347 - accuracy: 0.9930 - val_loss: 0.0011 - val_accuracy: 0.9996\n",
            "Epoch 8/50\n",
            "331/330 [==============================] - 94s 283ms/step - loss: 0.0262 - accuracy: 0.9949 - val_loss: 8.0238e-04 - val_accuracy: 0.9996\n",
            "Epoch 9/50\n",
            "331/330 [==============================] - 93s 282ms/step - loss: 0.0338 - accuracy: 0.9944 - val_loss: 0.0198 - val_accuracy: 0.9955\n",
            "Epoch 10/50\n",
            "331/330 [==============================] - ETA: 0s - loss: 0.0162 - accuracy: 0.9973\n",
            "Epoch 00010: saving model to training_ResNet50/cp-0010.ckpt\n",
            "331/330 [==============================] - 104s 314ms/step - loss: 0.0162 - accuracy: 0.9973 - val_loss: 0.0133 - val_accuracy: 0.9974\n",
            "Epoch 11/50\n",
            "331/330 [==============================] - 94s 283ms/step - loss: 0.0026 - accuracy: 0.9993 - val_loss: 0.0040 - val_accuracy: 0.9981\n",
            "Epoch 12/50\n",
            "331/330 [==============================] - 94s 283ms/step - loss: 0.0034 - accuracy: 0.9991 - val_loss: 1.5756e-05 - val_accuracy: 1.0000\n",
            "Epoch 13/50\n",
            "331/330 [==============================] - 94s 283ms/step - loss: 0.0339 - accuracy: 0.9950 - val_loss: 1.0190 - val_accuracy: 0.8420\n",
            "Epoch 14/50\n",
            "331/330 [==============================] - 94s 284ms/step - loss: 0.0310 - accuracy: 0.9936 - val_loss: 2.5375e-05 - val_accuracy: 1.0000\n",
            "Epoch 15/50\n",
            "331/330 [==============================] - 94s 283ms/step - loss: 0.0162 - accuracy: 0.9968 - val_loss: 0.0250 - val_accuracy: 0.9974\n",
            "Epoch 16/50\n",
            "331/330 [==============================] - 94s 283ms/step - loss: 0.0100 - accuracy: 0.9979 - val_loss: 4.7627e-06 - val_accuracy: 1.0000\n",
            "Epoch 17/50\n",
            "331/330 [==============================] - 94s 285ms/step - loss: 8.9592e-04 - accuracy: 0.9998 - val_loss: 2.3061e-07 - val_accuracy: 1.0000\n",
            "Epoch 18/50\n",
            "331/330 [==============================] - 94s 284ms/step - loss: 0.0059 - accuracy: 0.9985 - val_loss: 0.0195 - val_accuracy: 0.9970\n",
            "Epoch 19/50\n",
            "331/330 [==============================] - 94s 284ms/step - loss: 0.0112 - accuracy: 0.9982 - val_loss: 7.0140e-04 - val_accuracy: 0.9996\n",
            "Epoch 20/50\n",
            "331/330 [==============================] - ETA: 0s - loss: 0.0311 - accuracy: 0.9953\n",
            "Epoch 00020: saving model to training_ResNet50/cp-0020.ckpt\n",
            "331/330 [==============================] - 104s 316ms/step - loss: 0.0311 - accuracy: 0.9953 - val_loss: 0.0461 - val_accuracy: 0.9909\n",
            "Epoch 21/50\n",
            "331/330 [==============================] - 94s 283ms/step - loss: 0.0155 - accuracy: 0.9976 - val_loss: 0.1943 - val_accuracy: 0.9728\n",
            "Epoch 22/50\n",
            "331/330 [==============================] - 94s 283ms/step - loss: 0.0206 - accuracy: 0.9961 - val_loss: 0.2798 - val_accuracy: 0.9709\n",
            "Epoch 23/50\n",
            "331/330 [==============================] - 94s 283ms/step - loss: 0.0312 - accuracy: 0.9946 - val_loss: 0.0268 - val_accuracy: 0.9970\n",
            "Epoch 24/50\n",
            "331/330 [==============================] - 94s 283ms/step - loss: 0.0061 - accuracy: 0.9992 - val_loss: 0.0103 - val_accuracy: 0.9992\n",
            "Epoch 25/50\n",
            "331/330 [==============================] - 94s 283ms/step - loss: 7.1155e-04 - accuracy: 0.9998 - val_loss: 4.6443e-06 - val_accuracy: 1.0000\n",
            "Epoch 26/50\n",
            "331/330 [==============================] - 94s 284ms/step - loss: 0.0015 - accuracy: 0.9998 - val_loss: 0.0230 - val_accuracy: 0.9958\n",
            "Epoch 27/50\n",
            "331/330 [==============================] - 94s 283ms/step - loss: 0.0216 - accuracy: 0.9950 - val_loss: 0.1413 - val_accuracy: 0.9773\n",
            "Epoch 28/50\n",
            "331/330 [==============================] - 94s 283ms/step - loss: 0.0119 - accuracy: 0.9976 - val_loss: 4.9570e-04 - val_accuracy: 1.0000\n",
            "Epoch 29/50\n",
            "331/330 [==============================] - 94s 283ms/step - loss: 0.0174 - accuracy: 0.9969 - val_loss: 0.0275 - val_accuracy: 0.9940\n",
            "Epoch 30/50\n",
            "331/330 [==============================] - ETA: 0s - loss: 0.0029 - accuracy: 0.9993\n",
            "Epoch 00030: saving model to training_ResNet50/cp-0030.ckpt\n",
            "331/330 [==============================] - 104s 313ms/step - loss: 0.0029 - accuracy: 0.9993 - val_loss: 0.0173 - val_accuracy: 0.9985\n",
            "Epoch 31/50\n",
            "331/330 [==============================] - 93s 282ms/step - loss: 0.0017 - accuracy: 0.9995 - val_loss: 1.9751e-05 - val_accuracy: 1.0000\n",
            "Epoch 32/50\n",
            "331/330 [==============================] - 94s 283ms/step - loss: 0.0036 - accuracy: 0.9993 - val_loss: 0.0031 - val_accuracy: 0.9992\n",
            "Epoch 33/50\n",
            "331/330 [==============================] - 94s 283ms/step - loss: 0.0300 - accuracy: 0.9956 - val_loss: 0.0038 - val_accuracy: 0.9992\n",
            "Epoch 34/50\n",
            "331/330 [==============================] - 94s 282ms/step - loss: 0.0127 - accuracy: 0.9981 - val_loss: 0.0664 - val_accuracy: 0.9853\n",
            "Epoch 35/50\n",
            "331/330 [==============================] - 94s 283ms/step - loss: 0.0069 - accuracy: 0.9985 - val_loss: 4.8163e-04 - val_accuracy: 1.0000\n",
            "Epoch 36/50\n",
            "331/330 [==============================] - 93s 282ms/step - loss: 0.0094 - accuracy: 0.9980 - val_loss: 0.0177 - val_accuracy: 0.9962\n",
            "Epoch 37/50\n",
            "331/330 [==============================] - 93s 282ms/step - loss: 0.0084 - accuracy: 0.9980 - val_loss: 0.0094 - val_accuracy: 0.9974\n",
            "Epoch 38/50\n",
            "331/330 [==============================] - 93s 282ms/step - loss: 0.0147 - accuracy: 0.9976 - val_loss: 1.3691e-04 - val_accuracy: 1.0000\n",
            "Epoch 39/50\n",
            "331/330 [==============================] - 93s 282ms/step - loss: 0.0010 - accuracy: 0.9998 - val_loss: 3.3849e-05 - val_accuracy: 1.0000\n",
            "Epoch 40/50\n",
            "331/330 [==============================] - ETA: 0s - loss: 2.5023e-04 - accuracy: 0.9999\n",
            "Epoch 00040: saving model to training_ResNet50/cp-0040.ckpt\n",
            "331/330 [==============================] - 103s 312ms/step - loss: 2.5023e-04 - accuracy: 0.9999 - val_loss: 6.7999e-07 - val_accuracy: 1.0000\n",
            "Epoch 41/50\n",
            "331/330 [==============================] - 93s 282ms/step - loss: 1.2755e-04 - accuracy: 1.0000 - val_loss: 1.2835e-06 - val_accuracy: 1.0000\n",
            "Epoch 42/50\n",
            "331/330 [==============================] - 93s 281ms/step - loss: 0.0217 - accuracy: 0.9963 - val_loss: 0.1369 - val_accuracy: 0.9762\n",
            "Epoch 43/50\n",
            "331/330 [==============================] - 93s 282ms/step - loss: 0.0148 - accuracy: 0.9978 - val_loss: 0.0036 - val_accuracy: 0.9985\n",
            "Epoch 44/50\n",
            "331/330 [==============================] - 93s 282ms/step - loss: 0.0111 - accuracy: 0.9986 - val_loss: 6.5513e-04 - val_accuracy: 1.0000\n",
            "Epoch 45/50\n",
            "331/330 [==============================] - 93s 282ms/step - loss: 0.0025 - accuracy: 0.9995 - val_loss: 2.9751e-06 - val_accuracy: 1.0000\n",
            "Epoch 46/50\n",
            "331/330 [==============================] - 94s 283ms/step - loss: 0.0099 - accuracy: 0.9986 - val_loss: 0.2982 - val_accuracy: 0.9781\n",
            "Epoch 47/50\n",
            "331/330 [==============================] - 93s 282ms/step - loss: 0.0214 - accuracy: 0.9965 - val_loss: 0.1080 - val_accuracy: 0.9785\n",
            "Epoch 48/50\n",
            "331/330 [==============================] - 94s 283ms/step - loss: 0.0130 - accuracy: 0.9973 - val_loss: 6.3880e-04 - val_accuracy: 0.9996\n",
            "Epoch 49/50\n",
            "331/330 [==============================] - 94s 283ms/step - loss: 0.0030 - accuracy: 0.9993 - val_loss: 5.6340e-04 - val_accuracy: 0.9996\n",
            "Epoch 50/50\n",
            "331/330 [==============================] - ETA: 0s - loss: 0.0033 - accuracy: 0.9994\n",
            "Epoch 00050: saving model to training_ResNet50/cp-0050.ckpt\n",
            "331/330 [==============================] - 104s 315ms/step - loss: 0.0033 - accuracy: 0.9994 - val_loss: 0.0488 - val_accuracy: 0.9913\n",
            "\n",
            " model_ResNet50 took 4753.87 seconds (79.2 minutes) to train for 50 epochs\n"
          ],
          "name": "stdout"
        }
      ]
    },
    {
      "cell_type": "markdown",
      "metadata": {
        "id": "UIrhE3LMcsBU"
      },
      "source": [
        "###**ขั้นตอนการ Save file Model เเละ Json**"
      ]
    },
    {
      "cell_type": "code",
      "metadata": {
        "id": "5jkhbODRb0RH"
      },
      "source": [
        "#เปลี่ยนชื่อไฟล์ทุกครั้งเวลา SAVE\n",
        "!mkdir saved_model\n",
        "model_resnet.save('saved_model/model-resnet50(lastest).h5')\n",
        "model_resnet.save_weights('saved_model/weightmodel-resnet50.h5')"
      ],
      "execution_count": null,
      "outputs": []
    },
    {
      "cell_type": "code",
      "metadata": {
        "id": "RUbahazNckQo"
      },
      "source": [
        "#Import dependencies\n",
        "!mkdir jsonfile\n",
        "import json\n",
        "from keras.models import model_from_json, load_model\n",
        "with open('jsonfile/model_resnet.json', 'w') as f:\n",
        "    f.write(model_resnet.to_json())\n",
        "print(\"Saved model success\")"
      ],
      "execution_count": null,
      "outputs": []
    },
    {
      "cell_type": "markdown",
      "metadata": {
        "id": "ctXhsc5pc-5N"
      },
      "source": [
        "###**เเสดงกราฟข้อมูลค่าความเเม่นยำเเละค่าความสูญเสีย Training เเละ Validation**"
      ]
    },
    {
      "cell_type": "code",
      "metadata": {
        "id": "k8UxPxbZdNzR",
        "colab": {
          "base_uri": "https://localhost:8080/",
          "height": 299
        },
        "outputId": "a44f0d31-66d2-4c82-9289-a66d33b34241"
      },
      "source": [
        "import matplotlib.pyplot as plt\n",
        "\n",
        "acc = model_resnet.history.history['accuracy']\n",
        "val_acc = model_resnet.history.history['val_accuracy']\n",
        "\n",
        "loss= model_resnet.history.history['loss']\n",
        "val_loss= model_resnet.history.history['val_loss']\n",
        "\n",
        "\n",
        "plt.style.use(\"ggplot\")\n",
        "#  \"Accuracy\"\n",
        "plt.figure(figsize=(15, 4))\n",
        "plt.subplot(1, 2, 1)\n",
        "plt.plot(acc, label='Training Accuracy')\n",
        "plt.plot(val_acc, label='Validation Accuracy')\n",
        "plt.legend(loc='lower right')\n",
        "plt.title('Training and Validation Accuracy')\n",
        "plt.ylabel('accuracy')\n",
        "plt.xlabel('epochs')\n",
        "#  \"Loss\"\n",
        "plt.subplot(1, 2, 2)\n",
        "plt.plot(loss, label='Training Loss')\n",
        "plt.plot(val_loss, label='Validation Loss')\n",
        "plt.legend(loc='upper right')\n",
        "plt.title('Training and Validation Loss')\n",
        "plt.ylabel('loss')\n",
        "plt.xlabel('epochs')\n",
        "plt.show()"
      ],
      "execution_count": 15,
      "outputs": [
        {
          "output_type": "display_data",
          "data": {
            "image/png": "[encoded data removed]",
            "text/plain": [
              "<Figure size 1080x288 with 2 Axes>"
            ]
          },
          "metadata": {
            "tags": []
          }
        }
      ]
    },
    {
      "cell_type": "markdown",
      "metadata": {
        "id": "m0m3J0nidxqf"
      },
      "source": [
        "###**จุด Checkpoint**"
      ]
    },
    {
      "cell_type": "code",
      "metadata": {
        "id": "CjjRM_w0eE5D",
        "colab": {
          "base_uri": "https://localhost:8080/",
          "height": 35
        },
        "outputId": "86f22117-9bfb-4cae-f6d6-1c8d99fb7729"
      },
      "source": [
        "latest = tf.train.latest_checkpoint(checkpoint_dir)\n",
        "latest"
      ],
      "execution_count": 16,
      "outputs": [
        {
          "output_type": "execute_result",
          "data": {
            "application/vnd.google.colaboratory.intrinsic+json": {
              "type": "string"
            },
            "text/plain": [
              "'training_ResNet50/cp-0050.ckpt'"
            ]
          },
          "metadata": {
            "tags": []
          },
          "execution_count": 16
        }
      ]
    },
    {
      "cell_type": "code",
      "metadata": {
        "id": "IBO8Q9Q4eE7E",
        "colab": {
          "base_uri": "https://localhost:8080/"
        },
        "outputId": "822be808-3e16-40c0-b344-b725605ea7f7"
      },
      "source": [
        "# Load the previously saved weights\n",
        "model_resnet.load_weights(latest)\n",
        "\n",
        "# Re-evaluate the model\n",
        "loss, acc = model_resnet.evaluate(valid_generator, verbose=2)\n",
        "print(\"Restored model, accuracy: {:5.2f}%\".format(100*acc))"
      ],
      "execution_count": 19,
      "outputs": [
        {
          "output_type": "stream",
          "text": [
            "2646/2646 - 31s - loss: 0.0488 - accuracy: 0.9913\n",
            "Restored model, accuracy: 99.13%\n"
          ],
          "name": "stdout"
        }
      ]
    },
    {
      "cell_type": "markdown",
      "metadata": {
        "id": "hOnDw5WeeNXc"
      },
      "source": [
        "###**Save model อีกเเบบเพื่อนำไปเเปลงเป็น TensorflwLite**"
      ]
    },
    {
      "cell_type": "code",
      "metadata": {
        "id": "WCKmhkZ2eVSt",
        "colab": {
          "base_uri": "https://localhost:8080/"
        },
        "outputId": "e1dc7fc2-dc5d-460b-8949-7c0cec100278"
      },
      "source": [
        "# Save the entire model as a SavedModel.\n",
        "model_resnet.save('saved_model/my_model') "
      ],
      "execution_count": 17,
      "outputs": [
        {
          "output_type": "stream",
          "text": [
            "WARNING:tensorflow:From /usr/local/lib/python3.6/dist-packages/tensorflow/python/training/tracking/tracking.py:111: Model.state_updates (from tensorflow.python.keras.engine.training) is deprecated and will be removed in a future version.\n",
            "Instructions for updating:\n",
            "This property should not be used in TensorFlow 2.0, as updates are applied automatically.\n",
            "WARNING:tensorflow:From /usr/local/lib/python3.6/dist-packages/tensorflow/python/training/tracking/tracking.py:111: Layer.updates (from tensorflow.python.keras.engine.base_layer) is deprecated and will be removed in a future version.\n",
            "Instructions for updating:\n",
            "This property should not be used in TensorFlow 2.0, as updates are applied automatically.\n",
            "INFO:tensorflow:Assets written to: saved_model/my_model/assets\n"
          ],
          "name": "stdout"
        }
      ]
    },
    {
      "cell_type": "code",
      "metadata": {
        "id": "UiTau3PReVU1"
      },
      "source": [
        "model= tf.keras.models.load_model('saved_model/my_model')\n",
        "tflite_converter = tf.lite.TFLiteConverter.from_keras_model(model)\n",
        "tflite_model = tflite_converter.convert()\n",
        "open(\"tf_lite_model(200epochsresnet).tflite\", \"wb\").write(tflite_model) "
      ],
      "execution_count": null,
      "outputs": []
    },
    {
      "cell_type": "markdown",
      "metadata": {
        "id": "Y7P6p0lzeq7g"
      },
      "source": [
        "###**ขั้นตอนของ Prediction เเบบบ Confusion Matrix**"
      ]
    },
    {
      "cell_type": "code",
      "metadata": {
        "id": "tA579sRAeVXH",
        "colab": {
          "base_uri": "https://localhost:8080/",
          "height": 352
        },
        "outputId": "1574a1ed-03ac-4279-ab28-c929adf227d5"
      },
      "source": [
        "import seaborn as sn\n",
        "import pandas as pd\n",
        "\n",
        "model = tf.keras.models.load_model('saved_model/my_model')\n",
        "filenames = valid_generator.filenames\n",
        "nb_samples = len(valid_generator)\n",
        "y_prob=[]\n",
        "y_act=[]\n",
        "valid_generator.reset()\n",
        "for _ in range(nb_samples):\n",
        "    x_test, y_test = valid_generator.next()\n",
        "    y_prob.append(model.predict(x_test))\n",
        "    y_act.append(y_test)\n",
        "\n",
        "\n",
        "predicted_class = [list(train_generator.class_indices.keys())[i.argmax()] for i in y_prob]\n",
        "actual_class = [list(train_generator.class_indices.keys())[i.argmax()] for i in y_act]\n",
        "\n",
        "out_df = pd.DataFrame(np.vstack([predicted_class,actual_class]).T,columns=['predicted_class', 'actual_class'])\n",
        "confusion_matrix = pd.crosstab(out_df['actual_class'],out_df['predicted_class'], rownames=['Actual'], colnames=['Predicted'])\n",
        "\n",
        "sn.heatmap(confusion_matrix, cmap='Blues', annot= True, fmt='d')\n",
        "plt.show()\n",
        "print('test accuracy : {}'.format((np.diagonal(confusion_matrix).sum()/confusion_matrix.sum().sum()*100)))"
      ],
      "execution_count": 18,
      "outputs": [
        {
          "output_type": "display_data",
          "data": {
            "image/png": "[encoded data removed]",
            "text/plain": [
              "<Figure size 432x288 with 2 Axes>"
            ]
          },
          "metadata": {
            "tags": []
          }
        },
        {
          "output_type": "stream",
          "text": [
            "test accuracy : 99.1307634164777\n"
          ],
          "name": "stdout"
        }
      ]
    }
  ]
}