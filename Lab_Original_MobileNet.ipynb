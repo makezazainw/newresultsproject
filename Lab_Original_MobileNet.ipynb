{
  "nbformat": 4,
  "nbformat_minor": 0,
  "metadata": {
    "colab": {
      "name": "Lab-Original MobileNet.ipynb",
      "provenance": [],
      "collapsed_sections": [],
      "toc_visible": true,
      "mount_file_id": "1osUluB3gppyVbuLL_wvtwTXittOO6UHP",
      "authorship_tag": "ABX9TyP4ITRX3XZAZNoDTlKGxBRL",
      "include_colab_link": true
    },
    "kernelspec": {
      "name": "python3",
      "display_name": "Python 3"
    },
    "accelerator": "GPU"
  },
  "cells": [
    {
      "cell_type": "markdown",
      "metadata": {
        "id": "view-in-github",
        "colab_type": "text"
      },
      "source": [
        "<a href=\"https://colab.research.google.com/github/makezazainw/newresultsproject/blob/main/Lab_Original_MobileNet.ipynb\" target=\"_parent\"><img src=\"https://colab.research.google.com/assets/colab-badge.svg\" alt=\"Open In Colab\"/></a>"
      ]
    },
    {
      "cell_type": "markdown",
      "metadata": {
        "id": "mew3lwAMaXDH"
      },
      "source": [
        "### **ติดตั้ง Kaggle เเละ เรียกใช้ไฟล์ json เพื่อติดต่อใช้ dataset ใน kaggle**"
      ]
    },
    {
      "cell_type": "code",
      "metadata": {
        "id": "Y5m_qIXOabnO",
        "colab": {
          "base_uri": "https://localhost:8080/"
        },
        "outputId": "c4bee828-42aa-433f-8ea8-c305f3c42867"
      },
      "source": [
        "# Install Kaggle API\n",
        "!pip install -q kaggle\n",
        "!pip install -q kaggle-cli"
      ],
      "execution_count": 1,
      "outputs": [
        {
          "output_type": "stream",
          "text": [
            "\u001b[K     |████████████████████████████████| 81kB 5.7MB/s \n",
            "\u001b[K     |████████████████████████████████| 5.3MB 7.5MB/s \n",
            "\u001b[K     |████████████████████████████████| 112kB 55.1MB/s \n",
            "\u001b[K     |████████████████████████████████| 51kB 8.2MB/s \n",
            "\u001b[K     |████████████████████████████████| 133kB 56.4MB/s \n",
            "\u001b[?25h  Building wheel for kaggle-cli (setup.py) ... \u001b[?25l\u001b[?25hdone\n",
            "  Building wheel for PrettyTable (setup.py) ... \u001b[?25l\u001b[?25hdone\n",
            "  Building wheel for pyperclip (setup.py) ... \u001b[?25l\u001b[?25hdone\n"
          ],
          "name": "stdout"
        }
      ]
    },
    {
      "cell_type": "code",
      "metadata": {
        "id": "a_kkUe3valvy"
      },
      "source": [
        "# only for google colab\n",
        "import os\n",
        "os.environ['KAGGLE_USERNAME'] = \"thammatattantipitham\" \n",
        "os.environ['KAGGLE_KEY'] = \"3cf826ab97707228fb1602519992740b\""
      ],
      "execution_count": 2,
      "outputs": []
    },
    {
      "cell_type": "code",
      "metadata": {
        "id": "jtsvYa8manW1",
        "colab": {
          "base_uri": "https://localhost:8080/"
        },
        "outputId": "37d3b2e0-8d1e-47a8-9150-7ed47595b66d"
      },
      "source": [
        "!kaggle datasets download -d thammatattantipitham/laboriginalthaiherb --unzip"
      ],
      "execution_count": 3,
      "outputs": [
        {
          "output_type": "stream",
          "text": [
            "Downloading laboriginalthaiherb.zip to /content\n",
            " 33% 5.00M/15.0M [00:00<00:01, 6.33MB/s]\n",
            "100% 15.0M/15.0M [00:00<00:00, 18.0MB/s]\n"
          ],
          "name": "stdout"
        }
      ]
    },
    {
      "cell_type": "code",
      "metadata": {
        "id": "Ihulub6paq8a"
      },
      "source": [
        "#สร้างไฟล์ folder ขึ้นมาเเละเพิ่มข้อมูลเข้าไปใน folder\n",
        "!mkdir laboriginalthaiherb\n",
        "!mv  \"train\" \"val\" laboriginalthaiherb"
      ],
      "execution_count": 4,
      "outputs": []
    },
    {
      "cell_type": "markdown",
      "metadata": {
        "id": "yUU4GFLxa2pv"
      },
      "source": [
        "### **เริ่มต้นการ import library ต่างๆเเละการเรียกใช้ไฟล์**\n"
      ]
    },
    {
      "cell_type": "code",
      "metadata": {
        "id": "08sp2eppa_-2",
        "colab": {
          "base_uri": "https://localhost:8080/",
          "height": 35
        },
        "outputId": "450a7a34-0dc3-458c-8d53-a6aef0a18a11"
      },
      "source": [
        "import sys\n",
        "import time\n",
        "import cv2\n",
        "import numpy as np\n",
        "from matplotlib import pyplot as plt\n",
        "import tensorflow as tf\n",
        "import os\n",
        "import keras\n",
        "\n",
        "from skimage.transform import resize\n",
        "from sklearn.model_selection import train_test_split\n",
        "\n",
        "from tensorflow.python.keras.utils import np_utils\n",
        "from tensorflow.python.keras.models import Sequential, Model\n",
        "from tensorflow.python.keras.layers import Dense, Dropout, Flatten, Activation, BatchNormalization\n",
        "from tensorflow.python.keras.layers.convolutional import Conv2D, MaxPooling2D, AveragePooling2D\n",
        "from tensorflow.python.keras.preprocessing.image import ImageDataGenerator\n",
        "from tensorflow.python.keras.optimizers import RMSprop\n",
        "from tensorflow.python.keras.applications.vgg19 import VGG19\n",
        "from tensorflow.python.keras.applications.mobilenet import MobileNet\n",
        "from tensorflow.keras.applications.resnet50 import ResNet50, preprocess_input\n",
        "from tensorflow.keras.optimizers import Adam\n",
        "from keras.applications import InceptionV3\n",
        "sys.version"
      ],
      "execution_count": 5,
      "outputs": [
        {
          "output_type": "execute_result",
          "data": {
            "application/vnd.google.colaboratory.intrinsic+json": {
              "type": "string"
            },
            "text/plain": [
              "'3.6.9 (default, Oct  8 2020, 12:12:24) \\n[GCC 8.4.0]'"
            ]
          },
          "metadata": {
            "tags": []
          },
          "execution_count": 5
        }
      ]
    },
    {
      "cell_type": "code",
      "metadata": {
        "id": "SM_5RRq_bAAp",
        "colab": {
          "base_uri": "https://localhost:8080/"
        },
        "outputId": "99e1fdf3-e05c-4afd-88ea-761d9436bed6"
      },
      "source": [
        "from tensorflow.compat.v1.keras.backend import set_session\n",
        "\n",
        "config = tf.compat.v1.ConfigProto()\n",
        "\n",
        "config.gpu_options.allow_growth = True  # dynamically grow the memory used on the GPU\n",
        "\n",
        "config.log_device_placement = True  # to log device placement (on which device the operation ran)\n",
        "\n",
        "sess = tf.compat.v1.Session(config=config)\n",
        "\n",
        "set_session(sess)"
      ],
      "execution_count": 6,
      "outputs": [
        {
          "output_type": "stream",
          "text": [
            "Device mapping:\n",
            "/job:localhost/replica:0/task:0/device:XLA_CPU:0 -> device: XLA_CPU device\n",
            "/job:localhost/replica:0/task:0/device:XLA_GPU:0 -> device: XLA_GPU device\n",
            "/job:localhost/replica:0/task:0/device:GPU:0 -> device: 0, name: Tesla T4, pci bus id: 0000:00:04.0, compute capability: 7.5\n",
            "\n"
          ],
          "name": "stdout"
        }
      ]
    },
    {
      "cell_type": "code",
      "metadata": {
        "id": "9vm7Vog_bEAP"
      },
      "source": [
        "DATASET_PATH  = 'laboriginalthaiherb/'\n",
        "IMAGE_SIZE    = (224, 224)\n",
        "NUM_CLASSES   = 10\n",
        "BATCH_SIZE    = 32  # try reducing batch size or freeze more layers if your GPU runs out of memory\n",
        "epochs    = 50"
      ],
      "execution_count": 7,
      "outputs": []
    },
    {
      "cell_type": "code",
      "metadata": {
        "id": "PNu6CAPDbECl"
      },
      "source": [
        "#ทำ aug มาเเล้ว\n",
        "train_datagen = ImageDataGenerator(preprocessing_function=preprocess_input)"
      ],
      "execution_count": 8,
      "outputs": []
    },
    {
      "cell_type": "code",
      "metadata": {
        "id": "jDKsFAH_bEE1",
        "colab": {
          "base_uri": "https://localhost:8080/"
        },
        "outputId": "cf4ae500-093f-40ed-cf3b-8a6377e461e0"
      },
      "source": [
        "#set training data\n",
        "train_generator = train_datagen.flow_from_directory(DATASET_PATH+ r\"train/\",\n",
        "                                                    target_size = IMAGE_SIZE,\n",
        "                                                    batch_size = BATCH_SIZE,\n",
        "                                                    class_mode='categorical',\n",
        "                                                    shuffle = True,\n",
        "                                                    subset='training')"
      ],
      "execution_count": 9,
      "outputs": [
        {
          "output_type": "stream",
          "text": [
            "Found 1600 images belonging to 10 classes.\n"
          ],
          "name": "stdout"
        }
      ]
    },
    {
      "cell_type": "code",
      "metadata": {
        "id": "w1nB7VakbG_d",
        "colab": {
          "base_uri": "https://localhost:8080/"
        },
        "outputId": "7e8e152c-82c2-409f-a4f7-57b8187ae0db"
      },
      "source": [
        "valid_datagen = ImageDataGenerator(preprocessing_function=preprocess_input)\n",
        "valid_generator = valid_datagen.flow_from_directory(DATASET_PATH+ r\"val/\",                                      \n",
        "                                                    target_size = IMAGE_SIZE,\n",
        "                                                    batch_size = 1,\n",
        "                                                    class_mode='categorical',\n",
        "                                                    shuffle = True\n",
        "                                                    )"
      ],
      "execution_count": 10,
      "outputs": [
        {
          "output_type": "stream",
          "text": [
            "Found 410 images belonging to 10 classes.\n"
          ],
          "name": "stdout"
        }
      ]
    },
    {
      "cell_type": "markdown",
      "metadata": {
        "id": "5H1qvuqFbNM6"
      },
      "source": [
        "### **Model MobileNet**"
      ]
    },
    {
      "cell_type": "code",
      "metadata": {
        "id": "T9TaFF44bHBy",
        "colab": {
          "base_uri": "https://localhost:8080/"
        },
        "outputId": "81cc4b5c-2467-4dec-9dda-b31bc216681a"
      },
      "source": [
        "# Include the epoch in the file name (uses `str.format`)\n",
        "checkpoint_path = \"training_MobNet/cp-{epoch:04d}.ckpt\"\n",
        "checkpoint_dir = os.path.dirname(checkpoint_path)\n",
        "\n",
        "# Create a callback that saves the model's weights every 5 epochs\n",
        "cp_callback = tf.keras.callbacks.ModelCheckpoint(\n",
        "    filepath=checkpoint_path, \n",
        "    verbose=1, \n",
        "    save_weights_only=True,\n",
        "    period=10)\n",
        "\n",
        "#Create the model\n",
        "base_MobNet = MobileNet(include_top=False,weights='imagenet',input_shape=(IMAGE_SIZE[0],IMAGE_SIZE[1],3))\n",
        "\n",
        "model_mobnet = Sequential()\n",
        "model_mobnet.add(base_MobNet) \n",
        "model_mobnet.add(Flatten()) \n",
        "model_mobnet.add(Dense(512,activation=('relu'),input_dim=64))\n",
        "model_mobnet.add(Dense(256,activation=('relu'))) \n",
        "model_mobnet.add(Dense(128,activation=('relu'))) \n",
        "model_mobnet.add(Dropout(.3))\n",
        "model_mobnet.add(Dense(64,activation=('relu')))\n",
        "model_mobnet.add(Dropout(.2))\n",
        "model_mobnet.add(Dense(10,activation=('softmax')))\n",
        "\n",
        "# Save the weights using the `checkpoint_path` format\n",
        "model_mobnet.save_weights(checkpoint_path.format(epoch=0))"
      ],
      "execution_count": 11,
      "outputs": [
        {
          "output_type": "stream",
          "text": [
            "WARNING:tensorflow:`period` argument is deprecated. Please use `save_freq` to specify the frequency in number of batches seen.\n",
            "Downloading data from https://storage.googleapis.com/tensorflow/keras-applications/mobilenet/mobilenet_1_0_224_tf_no_top.h5\n",
            "17227776/17225924 [==============================] - 0s 0us/step\n"
          ],
          "name": "stdout"
        }
      ]
    },
    {
      "cell_type": "code",
      "metadata": {
        "id": "kQ0_WfpMgCUv",
        "colab": {
          "base_uri": "https://localhost:8080/"
        },
        "outputId": "a1af757a-276a-457b-ac92-fc9e101556fe"
      },
      "source": [
        "model_mobnet.summary()"
      ],
      "execution_count": 12,
      "outputs": [
        {
          "output_type": "stream",
          "text": [
            "Model: \"sequential\"\n",
            "_________________________________________________________________\n",
            "Layer (type)                 Output Shape              Param #   \n",
            "=================================================================\n",
            "mobilenet_1.00_224 (Function (None, 7, 7, 1024)        3228864   \n",
            "_________________________________________________________________\n",
            "flatten (Flatten)            (None, 50176)             0         \n",
            "_________________________________________________________________\n",
            "dense (Dense)                (None, 512)               25690624  \n",
            "_________________________________________________________________\n",
            "dense_1 (Dense)              (None, 256)               131328    \n",
            "_________________________________________________________________\n",
            "dense_2 (Dense)              (None, 128)               32896     \n",
            "_________________________________________________________________\n",
            "dropout (Dropout)            (None, 128)               0         \n",
            "_________________________________________________________________\n",
            "dense_3 (Dense)              (None, 64)                8256      \n",
            "_________________________________________________________________\n",
            "dropout_1 (Dropout)          (None, 64)                0         \n",
            "_________________________________________________________________\n",
            "dense_4 (Dense)              (None, 10)                650       \n",
            "=================================================================\n",
            "Total params: 29,092,618\n",
            "Trainable params: 29,070,730\n",
            "Non-trainable params: 21,888\n",
            "_________________________________________________________________\n"
          ],
          "name": "stdout"
        }
      ]
    },
    {
      "cell_type": "code",
      "metadata": {
        "id": "oE2Ja7aGjq7t"
      },
      "source": [
        "model_mobnet.compile(optimizer=Adam(lr=0.0001),  #Adam(lr=1e-5)\n",
        "                  loss='categorical_crossentropy', metrics=['accuracy'])"
      ],
      "execution_count": 13,
      "outputs": []
    },
    {
      "cell_type": "code",
      "metadata": {
        "id": "HqpePAyfbHGf",
        "colab": {
          "base_uri": "https://localhost:8080/"
        },
        "outputId": "53852901-c948-4b51-851c-befb67ad5657"
      },
      "source": [
        "start = time.time()\n",
        "\n",
        "history = model_mobnet.fit_generator(\n",
        "    generator=train_generator, \n",
        "    steps_per_epoch=train_generator.samples//BATCH_SIZE,   # -> 106 # images 3392 = steps * batch_size = 106 * 32 \n",
        "    epochs=epochs, \n",
        "    validation_steps=valid_generator.samples//BATCH_SIZE, # -> 26 # images 832 = steps * batch_size = 26 * 32\n",
        "    validation_data=valid_generator,\n",
        "    callbacks = [cp_callback],\n",
        "    verbose = 1\n",
        ")\n",
        "\n",
        "end = time.time()\n",
        "duration = end - start\n",
        "print ('\\n model_mobnet took %0.2f seconds (%0.1f minutes) to train for %d epochs'%(duration, duration/60, epochs) )"
      ],
      "execution_count": 14,
      "outputs": [
        {
          "output_type": "stream",
          "text": [
            "WARNING:tensorflow:From <ipython-input-14-37bb12c0f512>:10: Model.fit_generator (from tensorflow.python.keras.engine.training) is deprecated and will be removed in a future version.\n",
            "Instructions for updating:\n",
            "Please use Model.fit, which supports generators.\n",
            "Epoch 1/50\n",
            " 2/50 [>.............................] - ETA: 4s - loss: 2.9794 - accuracy: 0.0938WARNING:tensorflow:Callbacks method `on_train_batch_end` is slow compared to the batch time (batch time: 0.0499s vs `on_train_batch_end` time: 0.1436s). Check your callbacks.\n",
            "50/50 [==============================] - 10s 199ms/step - loss: 1.1141 - accuracy: 0.6331 - val_loss: 0.1944 - val_accuracy: 1.0000\n",
            "Epoch 2/50\n",
            "50/50 [==============================] - 10s 192ms/step - loss: 0.2475 - accuracy: 0.9137 - val_loss: 0.1449 - val_accuracy: 0.9167\n",
            "Epoch 3/50\n",
            "50/50 [==============================] - 10s 192ms/step - loss: 0.1052 - accuracy: 0.9663 - val_loss: 0.3445 - val_accuracy: 0.8333\n",
            "Epoch 4/50\n",
            "50/50 [==============================] - 10s 193ms/step - loss: 0.0820 - accuracy: 0.9712 - val_loss: 0.0150 - val_accuracy: 1.0000\n",
            "Epoch 5/50\n",
            "50/50 [==============================] - 10s 197ms/step - loss: 0.0520 - accuracy: 0.9844 - val_loss: 0.1147 - val_accuracy: 0.9167\n",
            "Epoch 6/50\n",
            "50/50 [==============================] - 10s 198ms/step - loss: 0.0473 - accuracy: 0.9856 - val_loss: 6.8801e-05 - val_accuracy: 1.0000\n",
            "Epoch 7/50\n",
            "50/50 [==============================] - 10s 201ms/step - loss: 0.0314 - accuracy: 0.9875 - val_loss: 1.1194e-04 - val_accuracy: 1.0000\n",
            "Epoch 8/50\n",
            "50/50 [==============================] - 10s 198ms/step - loss: 0.0234 - accuracy: 0.9925 - val_loss: 0.0361 - val_accuracy: 1.0000\n",
            "Epoch 9/50\n",
            "50/50 [==============================] - 10s 201ms/step - loss: 0.0147 - accuracy: 0.9962 - val_loss: 3.7948e-06 - val_accuracy: 1.0000\n",
            "Epoch 10/50\n",
            "50/50 [==============================] - ETA: 0s - loss: 0.0214 - accuracy: 0.9919\n",
            "Epoch 00010: saving model to training_MobNet/cp-0010.ckpt\n",
            "50/50 [==============================] - 11s 218ms/step - loss: 0.0214 - accuracy: 0.9919 - val_loss: 1.3603e-04 - val_accuracy: 1.0000\n",
            "Epoch 11/50\n",
            "50/50 [==============================] - 10s 199ms/step - loss: 0.0229 - accuracy: 0.9912 - val_loss: 1.5199e-06 - val_accuracy: 1.0000\n",
            "Epoch 12/50\n",
            "50/50 [==============================] - 10s 198ms/step - loss: 0.0194 - accuracy: 0.9925 - val_loss: 0.0751 - val_accuracy: 0.9167\n",
            "Epoch 13/50\n",
            "50/50 [==============================] - 10s 199ms/step - loss: 0.0170 - accuracy: 0.9950 - val_loss: 0.6138 - val_accuracy: 0.9167\n",
            "Epoch 14/50\n",
            "50/50 [==============================] - 10s 200ms/step - loss: 0.0221 - accuracy: 0.9950 - val_loss: 0.0257 - val_accuracy: 1.0000\n",
            "Epoch 15/50\n",
            "50/50 [==============================] - 10s 201ms/step - loss: 0.0269 - accuracy: 0.9894 - val_loss: 9.4957e-04 - val_accuracy: 1.0000\n",
            "Epoch 16/50\n",
            "50/50 [==============================] - 10s 199ms/step - loss: 0.0341 - accuracy: 0.9912 - val_loss: 1.5895e-07 - val_accuracy: 1.0000\n",
            "Epoch 17/50\n",
            "50/50 [==============================] - 10s 201ms/step - loss: 0.0290 - accuracy: 0.9906 - val_loss: 2.9895e-04 - val_accuracy: 1.0000\n",
            "Epoch 18/50\n",
            "50/50 [==============================] - 10s 200ms/step - loss: 0.0287 - accuracy: 0.9919 - val_loss: 0.3128 - val_accuracy: 0.8333\n",
            "Epoch 19/50\n",
            "50/50 [==============================] - 10s 199ms/step - loss: 0.0392 - accuracy: 0.9881 - val_loss: 1.6648e-05 - val_accuracy: 1.0000\n",
            "Epoch 20/50\n",
            "50/50 [==============================] - ETA: 0s - loss: 0.0375 - accuracy: 0.9887\n",
            "Epoch 00020: saving model to training_MobNet/cp-0020.ckpt\n",
            "50/50 [==============================] - 11s 218ms/step - loss: 0.0375 - accuracy: 0.9887 - val_loss: 9.9341e-09 - val_accuracy: 1.0000\n",
            "Epoch 21/50\n",
            "50/50 [==============================] - 10s 199ms/step - loss: 0.0462 - accuracy: 0.9881 - val_loss: 1.3610e-06 - val_accuracy: 1.0000\n",
            "Epoch 22/50\n",
            "50/50 [==============================] - 10s 200ms/step - loss: 0.0656 - accuracy: 0.9912 - val_loss: 0.5000 - val_accuracy: 0.9167\n",
            "Epoch 23/50\n",
            "50/50 [==============================] - 10s 201ms/step - loss: 0.0243 - accuracy: 0.9925 - val_loss: 0.0255 - val_accuracy: 1.0000\n",
            "Epoch 24/50\n",
            "50/50 [==============================] - 10s 198ms/step - loss: 0.0109 - accuracy: 0.9962 - val_loss: 6.0598e-07 - val_accuracy: 1.0000\n",
            "Epoch 25/50\n",
            "50/50 [==============================] - 10s 200ms/step - loss: 0.0068 - accuracy: 0.9975 - val_loss: 0.0000e+00 - val_accuracy: 1.0000\n",
            "Epoch 26/50\n",
            "50/50 [==============================] - 10s 200ms/step - loss: 0.0051 - accuracy: 0.9994 - val_loss: 3.2419e-05 - val_accuracy: 1.0000\n",
            "Epoch 27/50\n",
            "50/50 [==============================] - 10s 201ms/step - loss: 0.0040 - accuracy: 0.9981 - val_loss: 0.0000e+00 - val_accuracy: 1.0000\n",
            "Epoch 28/50\n",
            "50/50 [==============================] - 10s 197ms/step - loss: 0.0040 - accuracy: 0.9987 - val_loss: 0.3568 - val_accuracy: 0.9167\n",
            "Epoch 29/50\n",
            "50/50 [==============================] - 10s 197ms/step - loss: 0.0035 - accuracy: 0.9981 - val_loss: 0.0000e+00 - val_accuracy: 1.0000\n",
            "Epoch 30/50\n",
            "50/50 [==============================] - ETA: 0s - loss: 0.0017 - accuracy: 1.0000\n",
            "Epoch 00030: saving model to training_MobNet/cp-0030.ckpt\n",
            "50/50 [==============================] - 11s 216ms/step - loss: 0.0017 - accuracy: 1.0000 - val_loss: 3.7403e-05 - val_accuracy: 1.0000\n",
            "Epoch 31/50\n",
            "50/50 [==============================] - 10s 200ms/step - loss: 0.0289 - accuracy: 0.9937 - val_loss: 5.5890e-05 - val_accuracy: 1.0000\n",
            "Epoch 32/50\n",
            "50/50 [==============================] - 10s 198ms/step - loss: 0.0190 - accuracy: 0.9950 - val_loss: 0.0000e+00 - val_accuracy: 1.0000\n",
            "Epoch 33/50\n",
            "50/50 [==============================] - 10s 201ms/step - loss: 0.0162 - accuracy: 0.9950 - val_loss: 0.0018 - val_accuracy: 1.0000\n",
            "Epoch 34/50\n",
            "50/50 [==============================] - 10s 196ms/step - loss: 0.0084 - accuracy: 0.9975 - val_loss: 2.7354e-05 - val_accuracy: 1.0000\n",
            "Epoch 35/50\n",
            "50/50 [==============================] - 10s 198ms/step - loss: 0.0288 - accuracy: 0.9950 - val_loss: 1.4733e-04 - val_accuracy: 1.0000\n",
            "Epoch 36/50\n",
            "50/50 [==============================] - 10s 200ms/step - loss: 0.0444 - accuracy: 0.9912 - val_loss: 1.0909 - val_accuracy: 0.9167\n",
            "Epoch 37/50\n",
            "50/50 [==============================] - 10s 200ms/step - loss: 0.0147 - accuracy: 0.9950 - val_loss: 0.0000e+00 - val_accuracy: 1.0000\n",
            "Epoch 38/50\n",
            "50/50 [==============================] - 10s 201ms/step - loss: 0.0896 - accuracy: 0.9856 - val_loss: 0.4034 - val_accuracy: 0.9167\n",
            "Epoch 39/50\n",
            "50/50 [==============================] - 10s 200ms/step - loss: 0.0309 - accuracy: 0.9937 - val_loss: 1.3333 - val_accuracy: 0.9167\n",
            "Epoch 40/50\n",
            "50/50 [==============================] - ETA: 0s - loss: 0.0384 - accuracy: 0.9912\n",
            "Epoch 00040: saving model to training_MobNet/cp-0040.ckpt\n",
            "50/50 [==============================] - 11s 213ms/step - loss: 0.0384 - accuracy: 0.9912 - val_loss: 4.7186e-06 - val_accuracy: 1.0000\n",
            "Epoch 41/50\n",
            "50/50 [==============================] - 10s 200ms/step - loss: 0.0240 - accuracy: 0.9944 - val_loss: 0.0060 - val_accuracy: 1.0000\n",
            "Epoch 42/50\n",
            "50/50 [==============================] - 10s 199ms/step - loss: 0.0083 - accuracy: 0.9969 - val_loss: 0.0000e+00 - val_accuracy: 1.0000\n",
            "Epoch 43/50\n",
            "50/50 [==============================] - 10s 202ms/step - loss: 0.0242 - accuracy: 0.9944 - val_loss: 8.3345e-06 - val_accuracy: 1.0000\n",
            "Epoch 44/50\n",
            "50/50 [==============================] - 10s 200ms/step - loss: 0.0165 - accuracy: 0.9950 - val_loss: 1.7881e-07 - val_accuracy: 1.0000\n",
            "Epoch 45/50\n",
            "50/50 [==============================] - 10s 198ms/step - loss: 0.0350 - accuracy: 0.9925 - val_loss: 0.0010 - val_accuracy: 1.0000\n",
            "Epoch 46/50\n",
            "50/50 [==============================] - 10s 203ms/step - loss: 0.0177 - accuracy: 0.9956 - val_loss: 3.4769e-07 - val_accuracy: 1.0000\n",
            "Epoch 47/50\n",
            "50/50 [==============================] - 10s 202ms/step - loss: 0.0019 - accuracy: 0.9994 - val_loss: 5.2048e-05 - val_accuracy: 1.0000\n",
            "Epoch 48/50\n",
            "50/50 [==============================] - 10s 199ms/step - loss: 0.0047 - accuracy: 0.9987 - val_loss: 9.4773e-05 - val_accuracy: 1.0000\n",
            "Epoch 49/50\n",
            "50/50 [==============================] - 10s 199ms/step - loss: 0.0030 - accuracy: 0.9987 - val_loss: 1.9868e-07 - val_accuracy: 1.0000\n",
            "Epoch 50/50\n",
            "50/50 [==============================] - ETA: 0s - loss: 0.0029 - accuracy: 0.9987\n",
            "Epoch 00050: saving model to training_MobNet/cp-0050.ckpt\n",
            "50/50 [==============================] - 11s 220ms/step - loss: 0.0029 - accuracy: 0.9987 - val_loss: 0.0000e+00 - val_accuracy: 1.0000\n",
            "\n",
            " model_mobnet took 518.19 seconds (8.6 minutes) to train for 50 epochs\n"
          ],
          "name": "stdout"
        }
      ]
    },
    {
      "cell_type": "markdown",
      "metadata": {
        "id": "UIrhE3LMcsBU"
      },
      "source": [
        "###**ขั้นตอนการ Save file Model เเละ Json**"
      ]
    },
    {
      "cell_type": "code",
      "metadata": {
        "id": "5jkhbODRb0RH"
      },
      "source": [
        "#เปลี่ยนชื่อไฟล์ทุกครั้งเวลา SAVE\n",
        "model_mobnet.save('/content/drive/My Drive/Final Project/Dataset-Lab/Original/saved_model/model-mobnet(lastest).h5') #ดูจำนวนรอบที่เทรนด้วยว่าทั้งหมดกี่รอบจริงๆเเล้ว\n",
        "model_mobnet.save_weights('/content/drive/My Drive/Final Project/Dataset-Lab/Original/saved_model/weightmodel-mobnet.h5')"
      ],
      "execution_count": null,
      "outputs": []
    },
    {
      "cell_type": "code",
      "metadata": {
        "id": "RUbahazNckQo"
      },
      "source": [
        "#Import dependencies\n",
        "!mkdir jsonfile\n",
        "import json\n",
        "from keras.models import model_from_json, load_model\n",
        "with open('jsonfile/model_mobnet.json', 'w') as f:\n",
        "    f.write(model_mobnet.to_json())\n",
        "print(\"Saved model success\")"
      ],
      "execution_count": null,
      "outputs": []
    },
    {
      "cell_type": "markdown",
      "metadata": {
        "id": "ctXhsc5pc-5N"
      },
      "source": [
        "###**เเสดงกราฟข้อมูลค่าความเเม่นยำเเละค่าความสูญเสีย Training เเละ Validation**"
      ]
    },
    {
      "cell_type": "code",
      "metadata": {
        "id": "k8UxPxbZdNzR",
        "colab": {
          "base_uri": "https://localhost:8080/",
          "height": 299
        },
        "outputId": "bfcdfd08-ed29-46dd-aa84-85de68493e88"
      },
      "source": [
        "import matplotlib.pyplot as plt\n",
        "\n",
        "acc = model_mobnet.history.history['accuracy']\n",
        "val_acc = model_mobnet.history.history['val_accuracy']\n",
        "\n",
        "loss= model_mobnet.history.history['loss']\n",
        "val_loss= model_mobnet.history.history['val_loss']\n",
        "\n",
        "\n",
        "plt.style.use(\"ggplot\")\n",
        "#  \"Accuracy\"\n",
        "plt.figure(figsize=(15, 4))\n",
        "plt.subplot(1, 2, 1)\n",
        "plt.plot(acc, label='Training Accuracy')\n",
        "plt.plot(val_acc, label='Validation Accuracy')\n",
        "plt.legend(loc='upper right')\n",
        "plt.title('Training and Validation Accuracy')\n",
        "plt.ylabel('accuracy')\n",
        "plt.xlabel('epochs')\n",
        "#  \"Loss\"\n",
        "plt.subplot(1, 2, 2)\n",
        "plt.plot(loss, label='Training Loss')\n",
        "plt.plot(val_loss, label='Validation Loss')\n",
        "plt.legend(loc='lower right')\n",
        "plt.title('Training and Validation Loss')\n",
        "plt.ylabel('loss')\n",
        "plt.xlabel('epochs')\n",
        "plt.show()"
      ],
      "execution_count": 15,
      "outputs": [
        {
          "output_type": "display_data",
          "data": {
            "image/png": "[encoded data removed]",
            "text/plain": [
              "<Figure size 1080x288 with 2 Axes>"
            ]
          },
          "metadata": {
            "tags": []
          }
        }
      ]
    },
    {
      "cell_type": "markdown",
      "metadata": {
        "id": "m0m3J0nidxqf"
      },
      "source": [
        "###**จุด Checkpoint**"
      ]
    },
    {
      "cell_type": "code",
      "metadata": {
        "id": "CjjRM_w0eE5D",
        "colab": {
          "base_uri": "https://localhost:8080/",
          "height": 35
        },
        "outputId": "7f2d2a3a-55e9-45eb-bfa1-6228841f757e"
      },
      "source": [
        "latest = tf.train.latest_checkpoint(checkpoint_dir)\n",
        "latest"
      ],
      "execution_count": 16,
      "outputs": [
        {
          "output_type": "execute_result",
          "data": {
            "application/vnd.google.colaboratory.intrinsic+json": {
              "type": "string"
            },
            "text/plain": [
              "'training_MobNet/cp-0050.ckpt'"
            ]
          },
          "metadata": {
            "tags": []
          },
          "execution_count": 16
        }
      ]
    },
    {
      "cell_type": "code",
      "metadata": {
        "id": "IBO8Q9Q4eE7E",
        "colab": {
          "base_uri": "https://localhost:8080/"
        },
        "outputId": "bfefc788-b985-4bd6-95ec-33c1b3eaac22"
      },
      "source": [
        "# Load the previously saved weights\n",
        "model_mobnet.load_weights(latest)\n",
        "\n",
        "# Re-evaluate the model\n",
        "loss, acc = model_mobnet.evaluate(valid_generator, verbose=2)\n",
        "print(\"Restored model, accuracy: {:5.2f}%\".format(100*acc))"
      ],
      "execution_count": 19,
      "outputs": [
        {
          "output_type": "stream",
          "text": [
            "410/410 - 2s - loss: 8.1722e-05 - accuracy: 1.0000\n",
            "Restored model, accuracy: 100.00%\n"
          ],
          "name": "stdout"
        }
      ]
    },
    {
      "cell_type": "markdown",
      "metadata": {
        "id": "hOnDw5WeeNXc"
      },
      "source": [
        "###**Save model อีกเเบบเพื่อนำไปเเปลงเป็น TensorflwLite**"
      ]
    },
    {
      "cell_type": "code",
      "metadata": {
        "id": "WCKmhkZ2eVSt",
        "colab": {
          "base_uri": "https://localhost:8080/"
        },
        "outputId": "e9de3841-223e-41bf-916a-21f4c2635042"
      },
      "source": [
        "# Save the entire model as a SavedModel.\n",
        "model_mobnet.save('saved_model/my_model') "
      ],
      "execution_count": 17,
      "outputs": [
        {
          "output_type": "stream",
          "text": [
            "WARNING:tensorflow:From /usr/local/lib/python3.6/dist-packages/tensorflow/python/training/tracking/tracking.py:111: Model.state_updates (from tensorflow.python.keras.engine.training) is deprecated and will be removed in a future version.\n",
            "Instructions for updating:\n",
            "This property should not be used in TensorFlow 2.0, as updates are applied automatically.\n",
            "WARNING:tensorflow:From /usr/local/lib/python3.6/dist-packages/tensorflow/python/training/tracking/tracking.py:111: Layer.updates (from tensorflow.python.keras.engine.base_layer) is deprecated and will be removed in a future version.\n",
            "Instructions for updating:\n",
            "This property should not be used in TensorFlow 2.0, as updates are applied automatically.\n",
            "INFO:tensorflow:Assets written to: saved_model/my_model/assets\n"
          ],
          "name": "stdout"
        }
      ]
    },
    {
      "cell_type": "code",
      "metadata": {
        "id": "UiTau3PReVU1"
      },
      "source": [
        "model= tf.keras.models.load_model('saved_model/my_model')\n",
        "tflite_converter = tf.lite.TFLiteConverter.from_keras_model(model)\n",
        "tflite_model = tflite_converter.convert()\n",
        "open(\"tf_lite_model(200epochsmobnet).tflite\", \"wb\").write(tflite_model) "
      ],
      "execution_count": null,
      "outputs": []
    },
    {
      "cell_type": "markdown",
      "metadata": {
        "id": "Y7P6p0lzeq7g"
      },
      "source": [
        "###**ขั้นตอนของ Prediction เเบบบ Confusion Matrix**"
      ]
    },
    {
      "cell_type": "code",
      "metadata": {
        "id": "tA579sRAeVXH",
        "colab": {
          "base_uri": "https://localhost:8080/",
          "height": 352
        },
        "outputId": "646ef407-b623-4eac-f09d-13765226fc5a"
      },
      "source": [
        "import seaborn as sn\n",
        "import pandas as pd\n",
        "\n",
        "model = tf.keras.models.load_model('saved_model/my_model')\n",
        "filenames = valid_generator.filenames\n",
        "nb_samples = len(valid_generator)\n",
        "y_prob=[]\n",
        "y_act=[]\n",
        "valid_generator.reset()\n",
        "for _ in range(nb_samples):\n",
        "    x_test, y_test = valid_generator.next()\n",
        "    y_prob.append(model.predict(x_test))\n",
        "    y_act.append(y_test)\n",
        "\n",
        "\n",
        "predicted_class = [list(train_generator.class_indices.keys())[i.argmax()] for i in y_prob]\n",
        "actual_class = [list(train_generator.class_indices.keys())[i.argmax()] for i in y_act]\n",
        "\n",
        "out_df = pd.DataFrame(np.vstack([predicted_class,actual_class]).T,columns=['predicted_class', 'actual_class'])\n",
        "confusion_matrix = pd.crosstab(out_df['actual_class'],out_df['predicted_class'], rownames=['Actual'], colnames=['Predicted'])\n",
        "\n",
        "sn.heatmap(confusion_matrix, cmap='Blues', annot= True, fmt='d')\n",
        "plt.show()\n",
        "print('test accuracy : {}'.format((np.diagonal(confusion_matrix).sum()/confusion_matrix.sum().sum()*100)))"
      ],
      "execution_count": 18,
      "outputs": [
        {
          "output_type": "display_data",
          "data": {
            "image/png": "[encoded data removed]",
            "text/plain": [
              "<Figure size 432x288 with 2 Axes>"
            ]
          },
          "metadata": {
            "tags": []
          }
        },
        {
          "output_type": "stream",
          "text": [
            "test accuracy : 100.0\n"
          ],
          "name": "stdout"
        }
      ]
    },
    {
      "cell_type": "code",
      "metadata": {
        "id": "qfh4skEQ8nSE"
      },
      "source": [
        ""
      ],
      "execution_count": null,
      "outputs": []
    }
  ]
}